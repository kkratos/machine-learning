{
 "cells": [
  {
   "cell_type": "markdown",
   "id": "1d64758a",
   "metadata": {},
   "source": [
    "1. **The idea is to create groups of SKUs that share similar characteristicsand will be assigned to the same cluster. To this end, we apply the k-means clustering methods on the 44 SKUs in our dataset.**\n",
    "\n",
    "2. **our objective is to divide the SKUs into k clusters and\n",
    "subsequently estimate a demand prediction model (e.g., OLS) for each cluster**\n",
    "\n",
    "**note** learning from Demand prediction in retail book by Maxime C.Cohen\n",
    "Paul-Emile Gras,\n",
    "Arthur Pentecoste,\n",
    "Renyu Zhang,"
   ]
  },
  {
   "cell_type": "code",
   "execution_count": 1,
   "id": "42ea212c",
   "metadata": {
    "ExecuteTime": {
     "end_time": "2023-06-27T12:33:00.889631Z",
     "start_time": "2023-06-27T12:32:59.097985Z"
    }
   },
   "outputs": [
    {
     "data": {
      "text/html": [
       "<div>\n",
       "<style scoped>\n",
       "    .dataframe tbody tr th:only-of-type {\n",
       "        vertical-align: middle;\n",
       "    }\n",
       "\n",
       "    .dataframe tbody tr th {\n",
       "        vertical-align: top;\n",
       "    }\n",
       "\n",
       "    .dataframe thead th {\n",
       "        text-align: right;\n",
       "    }\n",
       "</style>\n",
       "<table border=\"1\" class=\"dataframe\">\n",
       "  <thead>\n",
       "    <tr style=\"text-align: right;\">\n",
       "      <th></th>\n",
       "      <th>week</th>\n",
       "      <th>sku</th>\n",
       "      <th>weekly_sales</th>\n",
       "      <th>price</th>\n",
       "      <th>price-1</th>\n",
       "      <th>price-2</th>\n",
       "      <th>feat_main_page</th>\n",
       "      <th>trend</th>\n",
       "      <th>month_2</th>\n",
       "      <th>month_3</th>\n",
       "      <th>...</th>\n",
       "      <th>color_white</th>\n",
       "      <th>vendor_2</th>\n",
       "      <th>vendor_3</th>\n",
       "      <th>vendor_4</th>\n",
       "      <th>vendor_5</th>\n",
       "      <th>vendor_6</th>\n",
       "      <th>vendor_7</th>\n",
       "      <th>vendor_8</th>\n",
       "      <th>vendor_9</th>\n",
       "      <th>vendor_10</th>\n",
       "    </tr>\n",
       "  </thead>\n",
       "  <tbody>\n",
       "    <tr>\n",
       "      <th>0</th>\n",
       "      <td>2016-11-14</td>\n",
       "      <td>1</td>\n",
       "      <td>110.0</td>\n",
       "      <td>10.24</td>\n",
       "      <td>9.86</td>\n",
       "      <td>10.16</td>\n",
       "      <td>1</td>\n",
       "      <td>0</td>\n",
       "      <td>0</td>\n",
       "      <td>0</td>\n",
       "      <td>...</td>\n",
       "      <td>0</td>\n",
       "      <td>0</td>\n",
       "      <td>0</td>\n",
       "      <td>0</td>\n",
       "      <td>0</td>\n",
       "      <td>1</td>\n",
       "      <td>0</td>\n",
       "      <td>0</td>\n",
       "      <td>0</td>\n",
       "      <td>0</td>\n",
       "    </tr>\n",
       "    <tr>\n",
       "      <th>1</th>\n",
       "      <td>2016-11-21</td>\n",
       "      <td>1</td>\n",
       "      <td>127.0</td>\n",
       "      <td>8.27</td>\n",
       "      <td>10.24</td>\n",
       "      <td>9.86</td>\n",
       "      <td>1</td>\n",
       "      <td>0</td>\n",
       "      <td>0</td>\n",
       "      <td>0</td>\n",
       "      <td>...</td>\n",
       "      <td>0</td>\n",
       "      <td>0</td>\n",
       "      <td>0</td>\n",
       "      <td>0</td>\n",
       "      <td>0</td>\n",
       "      <td>1</td>\n",
       "      <td>0</td>\n",
       "      <td>0</td>\n",
       "      <td>0</td>\n",
       "      <td>0</td>\n",
       "    </tr>\n",
       "    <tr>\n",
       "      <th>2</th>\n",
       "      <td>2016-11-28</td>\n",
       "      <td>1</td>\n",
       "      <td>84.0</td>\n",
       "      <td>8.83</td>\n",
       "      <td>8.27</td>\n",
       "      <td>10.24</td>\n",
       "      <td>1</td>\n",
       "      <td>0</td>\n",
       "      <td>0</td>\n",
       "      <td>0</td>\n",
       "      <td>...</td>\n",
       "      <td>0</td>\n",
       "      <td>0</td>\n",
       "      <td>0</td>\n",
       "      <td>0</td>\n",
       "      <td>0</td>\n",
       "      <td>1</td>\n",
       "      <td>0</td>\n",
       "      <td>0</td>\n",
       "      <td>0</td>\n",
       "      <td>0</td>\n",
       "    </tr>\n",
       "    <tr>\n",
       "      <th>3</th>\n",
       "      <td>2016-12-05</td>\n",
       "      <td>1</td>\n",
       "      <td>87.0</td>\n",
       "      <td>8.98</td>\n",
       "      <td>8.83</td>\n",
       "      <td>8.27</td>\n",
       "      <td>1</td>\n",
       "      <td>0</td>\n",
       "      <td>0</td>\n",
       "      <td>0</td>\n",
       "      <td>...</td>\n",
       "      <td>0</td>\n",
       "      <td>0</td>\n",
       "      <td>0</td>\n",
       "      <td>0</td>\n",
       "      <td>0</td>\n",
       "      <td>1</td>\n",
       "      <td>0</td>\n",
       "      <td>0</td>\n",
       "      <td>0</td>\n",
       "      <td>0</td>\n",
       "    </tr>\n",
       "    <tr>\n",
       "      <th>4</th>\n",
       "      <td>2016-12-12</td>\n",
       "      <td>1</td>\n",
       "      <td>64.0</td>\n",
       "      <td>10.40</td>\n",
       "      <td>8.98</td>\n",
       "      <td>8.83</td>\n",
       "      <td>1</td>\n",
       "      <td>0</td>\n",
       "      <td>0</td>\n",
       "      <td>0</td>\n",
       "      <td>...</td>\n",
       "      <td>0</td>\n",
       "      <td>0</td>\n",
       "      <td>0</td>\n",
       "      <td>0</td>\n",
       "      <td>0</td>\n",
       "      <td>1</td>\n",
       "      <td>0</td>\n",
       "      <td>0</td>\n",
       "      <td>0</td>\n",
       "      <td>0</td>\n",
       "    </tr>\n",
       "    <tr>\n",
       "      <th>...</th>\n",
       "      <td>...</td>\n",
       "      <td>...</td>\n",
       "      <td>...</td>\n",
       "      <td>...</td>\n",
       "      <td>...</td>\n",
       "      <td>...</td>\n",
       "      <td>...</td>\n",
       "      <td>...</td>\n",
       "      <td>...</td>\n",
       "      <td>...</td>\n",
       "      <td>...</td>\n",
       "      <td>...</td>\n",
       "      <td>...</td>\n",
       "      <td>...</td>\n",
       "      <td>...</td>\n",
       "      <td>...</td>\n",
       "      <td>...</td>\n",
       "      <td>...</td>\n",
       "      <td>...</td>\n",
       "      <td>...</td>\n",
       "      <td>...</td>\n",
       "    </tr>\n",
       "    <tr>\n",
       "      <th>4307</th>\n",
       "      <td>2018-08-27</td>\n",
       "      <td>44</td>\n",
       "      <td>20.0</td>\n",
       "      <td>53.99</td>\n",
       "      <td>42.38</td>\n",
       "      <td>43.99</td>\n",
       "      <td>0</td>\n",
       "      <td>2</td>\n",
       "      <td>0</td>\n",
       "      <td>0</td>\n",
       "      <td>...</td>\n",
       "      <td>0</td>\n",
       "      <td>0</td>\n",
       "      <td>0</td>\n",
       "      <td>0</td>\n",
       "      <td>0</td>\n",
       "      <td>1</td>\n",
       "      <td>0</td>\n",
       "      <td>0</td>\n",
       "      <td>0</td>\n",
       "      <td>0</td>\n",
       "    </tr>\n",
       "    <tr>\n",
       "      <th>4308</th>\n",
       "      <td>2018-09-03</td>\n",
       "      <td>44</td>\n",
       "      <td>14.0</td>\n",
       "      <td>52.99</td>\n",
       "      <td>53.99</td>\n",
       "      <td>42.38</td>\n",
       "      <td>0</td>\n",
       "      <td>2</td>\n",
       "      <td>0</td>\n",
       "      <td>0</td>\n",
       "      <td>...</td>\n",
       "      <td>0</td>\n",
       "      <td>0</td>\n",
       "      <td>0</td>\n",
       "      <td>0</td>\n",
       "      <td>0</td>\n",
       "      <td>1</td>\n",
       "      <td>0</td>\n",
       "      <td>0</td>\n",
       "      <td>0</td>\n",
       "      <td>0</td>\n",
       "    </tr>\n",
       "    <tr>\n",
       "      <th>4309</th>\n",
       "      <td>2018-09-10</td>\n",
       "      <td>44</td>\n",
       "      <td>22.0</td>\n",
       "      <td>44.99</td>\n",
       "      <td>52.99</td>\n",
       "      <td>53.99</td>\n",
       "      <td>1</td>\n",
       "      <td>2</td>\n",
       "      <td>0</td>\n",
       "      <td>0</td>\n",
       "      <td>...</td>\n",
       "      <td>0</td>\n",
       "      <td>0</td>\n",
       "      <td>0</td>\n",
       "      <td>0</td>\n",
       "      <td>0</td>\n",
       "      <td>1</td>\n",
       "      <td>0</td>\n",
       "      <td>0</td>\n",
       "      <td>0</td>\n",
       "      <td>0</td>\n",
       "    </tr>\n",
       "    <tr>\n",
       "      <th>4310</th>\n",
       "      <td>2018-09-17</td>\n",
       "      <td>44</td>\n",
       "      <td>28.0</td>\n",
       "      <td>42.99</td>\n",
       "      <td>44.99</td>\n",
       "      <td>52.99</td>\n",
       "      <td>1</td>\n",
       "      <td>2</td>\n",
       "      <td>0</td>\n",
       "      <td>0</td>\n",
       "      <td>...</td>\n",
       "      <td>0</td>\n",
       "      <td>0</td>\n",
       "      <td>0</td>\n",
       "      <td>0</td>\n",
       "      <td>0</td>\n",
       "      <td>1</td>\n",
       "      <td>0</td>\n",
       "      <td>0</td>\n",
       "      <td>0</td>\n",
       "      <td>0</td>\n",
       "    </tr>\n",
       "    <tr>\n",
       "      <th>4311</th>\n",
       "      <td>2018-09-24</td>\n",
       "      <td>44</td>\n",
       "      <td>26.0</td>\n",
       "      <td>43.45</td>\n",
       "      <td>42.99</td>\n",
       "      <td>44.99</td>\n",
       "      <td>1</td>\n",
       "      <td>2</td>\n",
       "      <td>0</td>\n",
       "      <td>0</td>\n",
       "      <td>...</td>\n",
       "      <td>0</td>\n",
       "      <td>0</td>\n",
       "      <td>0</td>\n",
       "      <td>0</td>\n",
       "      <td>0</td>\n",
       "      <td>1</td>\n",
       "      <td>0</td>\n",
       "      <td>0</td>\n",
       "      <td>0</td>\n",
       "      <td>0</td>\n",
       "    </tr>\n",
       "  </tbody>\n",
       "</table>\n",
       "<p>4312 rows × 48 columns</p>\n",
       "</div>"
      ],
      "text/plain": [
       "            week  sku  weekly_sales  price  price-1  price-2  feat_main_page  \\\n",
       "0     2016-11-14    1         110.0  10.24     9.86    10.16               1   \n",
       "1     2016-11-21    1         127.0   8.27    10.24     9.86               1   \n",
       "2     2016-11-28    1          84.0   8.83     8.27    10.24               1   \n",
       "3     2016-12-05    1          87.0   8.98     8.83     8.27               1   \n",
       "4     2016-12-12    1          64.0  10.40     8.98     8.83               1   \n",
       "...          ...  ...           ...    ...      ...      ...             ...   \n",
       "4307  2018-08-27   44          20.0  53.99    42.38    43.99               0   \n",
       "4308  2018-09-03   44          14.0  52.99    53.99    42.38               0   \n",
       "4309  2018-09-10   44          22.0  44.99    52.99    53.99               1   \n",
       "4310  2018-09-17   44          28.0  42.99    44.99    52.99               1   \n",
       "4311  2018-09-24   44          26.0  43.45    42.99    44.99               1   \n",
       "\n",
       "      trend  month_2  month_3  ...  color_white  vendor_2  vendor_3  vendor_4  \\\n",
       "0         0        0        0  ...            0         0         0         0   \n",
       "1         0        0        0  ...            0         0         0         0   \n",
       "2         0        0        0  ...            0         0         0         0   \n",
       "3         0        0        0  ...            0         0         0         0   \n",
       "4         0        0        0  ...            0         0         0         0   \n",
       "...     ...      ...      ...  ...          ...       ...       ...       ...   \n",
       "4307      2        0        0  ...            0         0         0         0   \n",
       "4308      2        0        0  ...            0         0         0         0   \n",
       "4309      2        0        0  ...            0         0         0         0   \n",
       "4310      2        0        0  ...            0         0         0         0   \n",
       "4311      2        0        0  ...            0         0         0         0   \n",
       "\n",
       "      vendor_5  vendor_6  vendor_7  vendor_8  vendor_9  vendor_10  \n",
       "0            0         1         0         0         0          0  \n",
       "1            0         1         0         0         0          0  \n",
       "2            0         1         0         0         0          0  \n",
       "3            0         1         0         0         0          0  \n",
       "4            0         1         0         0         0          0  \n",
       "...        ...       ...       ...       ...       ...        ...  \n",
       "4307         0         1         0         0         0          0  \n",
       "4308         0         1         0         0         0          0  \n",
       "4309         0         1         0         0         0          0  \n",
       "4310         0         1         0         0         0          0  \n",
       "4311         0         1         0         0         0          0  \n",
       "\n",
       "[4312 rows x 48 columns]"
      ]
     },
     "execution_count": 1,
     "metadata": {},
     "output_type": "execute_result"
    }
   ],
   "source": [
    "import pandas as pd\n",
    "df = pd.read_csv(\"data_processed.csv\")\n",
    "df"
   ]
  },
  {
   "cell_type": "code",
   "execution_count": 2,
   "id": "e20b7572",
   "metadata": {
    "ExecuteTime": {
     "end_time": "2023-06-27T12:33:11.666330Z",
     "start_time": "2023-06-27T12:33:11.642329Z"
    }
   },
   "outputs": [
    {
     "data": {
      "text/html": [
       "<div>\n",
       "<style scoped>\n",
       "    .dataframe tbody tr th:only-of-type {\n",
       "        vertical-align: middle;\n",
       "    }\n",
       "\n",
       "    .dataframe tbody tr th {\n",
       "        vertical-align: top;\n",
       "    }\n",
       "\n",
       "    .dataframe thead th {\n",
       "        text-align: right;\n",
       "    }\n",
       "</style>\n",
       "<table border=\"1\" class=\"dataframe\">\n",
       "  <thead>\n",
       "    <tr style=\"text-align: right;\">\n",
       "      <th></th>\n",
       "    </tr>\n",
       "  </thead>\n",
       "  <tbody>\n",
       "    <tr>\n",
       "      <th>R2</th>\n",
       "    </tr>\n",
       "  </tbody>\n",
       "</table>\n",
       "</div>"
      ],
      "text/plain": [
       "Empty DataFrame\n",
       "Columns: []\n",
       "Index: [R2]"
      ]
     },
     "execution_count": 2,
     "metadata": {},
     "output_type": "execute_result"
    }
   ],
   "source": [
    "res = pd.DataFrame(index=['R2'])\n",
    "res"
   ]
  },
  {
   "cell_type": "code",
   "execution_count": null,
   "id": "0dfb8312",
   "metadata": {
    "ExecuteTime": {
     "end_time": "2023-06-27T12:36:11.415626Z",
     "start_time": "2023-06-27T12:36:11.383589Z"
    }
   },
   "outputs": [],
   "source": []
  },
  {
   "cell_type": "code",
   "execution_count": 14,
   "id": "6ae07e07",
   "metadata": {
    "ExecuteTime": {
     "end_time": "2023-06-27T12:36:54.438387Z",
     "start_time": "2023-06-27T12:36:54.366678Z"
    }
   },
   "outputs": [],
   "source": [
    "skuSet = list(df.sku.unique())\n",
    "skuData={}\n",
    "\n",
    "colnames = [i for i in df.columns if i not in ['week', 'weekly_sales', 'sku']]\n",
    "\n",
    "for i in skuSet:\n",
    "    df_i = df[df.sku == i]\n",
    "    skuData[i] = {'X': df_i[colnames].values,\n",
    "                'y': df_i.weekly_sales.values}"
   ]
  },
  {
   "cell_type": "code",
   "execution_count": 40,
   "id": "5da03f3d",
   "metadata": {
    "ExecuteTime": {
     "end_time": "2023-06-27T12:44:34.807840Z",
     "start_time": "2023-06-27T12:44:34.793479Z"
    }
   },
   "outputs": [
    {
     "data": {
      "text/plain": [
       "array([110., 127.,  84.,  87.,  64., 128.,  23., 154.,  85.,  11.,  19.,\n",
       "        17.,  17.,  17.,  13.,   8.,   8.,   5.,   6.,   9.,   6.,   4.,\n",
       "        13.,   7.,   9.,   4.,   5.,   9.,   7.,   8.,  11.,   5.,   8.,\n",
       "         7.,  10.,   7.,   5.,   5.,  13.,   4.,   7.,  10.,   7.,   5.,\n",
       "         6.,  11.,  12.,   4.,   9.,  11.,   8.,   8.,  17.,   8.,   7.,\n",
       "         7.,   9.,   3.,  10.,   7.,  13.,  11.,   6.,   5.,   7.,   8.,\n",
       "         3.,  10.,  14.,  29.,  26.,  16.,  28.,  13.,  15.,  27.,  13.,\n",
       "        26.,  20.,  23.,  21.,  21.,  22.,  21.,  23.,  28.,  16.,  32.,\n",
       "        17.,  15.,  18.,  10.,  16.,  16.,  15.,  21.,  32.,  19.])"
      ]
     },
     "execution_count": 40,
     "metadata": {},
     "output_type": "execute_result"
    }
   ],
   "source": [
    "skuData[1][\"y\"]"
   ]
  },
  {
   "cell_type": "code",
   "execution_count": 42,
   "id": "89d926da",
   "metadata": {
    "ExecuteTime": {
     "end_time": "2023-06-27T12:44:56.747022Z",
     "start_time": "2023-06-27T12:44:56.722725Z"
    }
   },
   "outputs": [
    {
     "data": {
      "text/plain": [
       "[array([110., 127.,  84.,  87.,  64., 128.,  23., 154.,  85.,  11.,  19.,\n",
       "         17.,  17.,  17.,  13.,   8.,   8.,   5.,   6.,   9.,   6.,   4.,\n",
       "         13.,   7.,   9.,   4.,   5.,   9.,   7.,   8.,  11.,   5.,   8.,\n",
       "          7.,  10.,   7.,   5.,   5.,  13.,   4.,   7.,  10.,   7.,   5.,\n",
       "          6.,  11.,  12.,   4.,   9.,  11.,   8.,   8.,  17.,   8.,   7.,\n",
       "          7.,   9.,   3.,  10.,   7.,  13.,  11.,   6.,   5.,   7.,   8.,\n",
       "          3.,  10.]),\n",
       " array([14., 29., 26., 16., 28., 13., 15., 27., 13., 26., 20., 23., 21.,\n",
       "        21., 22., 21., 23., 28., 16., 32., 17., 15., 18., 10., 16., 16.,\n",
       "        15., 21., 32., 19.])]"
      ]
     },
     "execution_count": 42,
     "metadata": {},
     "output_type": "execute_result"
    }
   ],
   "source": [
    "import numpy as np\n",
    "np.split(skuData[1]['y'], [68])"
   ]
  },
  {
   "cell_type": "code",
   "execution_count": 68,
   "id": "fe4c0588",
   "metadata": {
    "ExecuteTime": {
     "end_time": "2023-06-27T13:00:43.518823Z",
     "start_time": "2023-06-27T13:00:41.564593Z"
    }
   },
   "outputs": [],
   "source": [
    "import numpy as np\n",
    "from sklearn.cluster import KMeans\n",
    "from sklearn.linear_model import LinearRegression\n",
    "from sklearn.preprocessing import MinMaxScaler\n",
    "from sklearn.metrics import r2_score\n",
    "\n",
    "scaler = MinMaxScaler()"
   ]
  },
  {
   "cell_type": "code",
   "execution_count": 53,
   "id": "99abf329",
   "metadata": {
    "ExecuteTime": {
     "end_time": "2023-06-27T12:50:47.084217Z",
     "start_time": "2023-06-27T12:50:47.036777Z"
    }
   },
   "outputs": [],
   "source": [
    "X_dict = {}\n",
    "y_dict = {}\n",
    "\n",
    "y_train = []\n",
    "y_test = []\n",
    "\n",
    "for i in skuSet:\n",
    "    X_train_i,X_test_i = np.split(skuData[i][\"X\"], [68]) #split for X\n",
    "    y_train_i,y_test_i = np.split(skuData[i][\"y\"], [68]) #split for y \n",
    "\n",
    "    X_dict[i] = {'train': X_train_i, 'test': X_test_i} #filling dictionary\n",
    "    y_dict[i] = {'train': y_train_i, 'test': y_test_i}\n",
    "    \n",
    "    y_train += list(y_train_i) #creating the complete testing array\n",
    "    y_test += list(y_test_i) #creating the complete training array\n",
    "    \n",
    "## Centralized ##\n",
    "X_cen_train = X_dict[skuSet[0]]['train'] #initialization with item 0\n",
    "X_cen_test = X_dict[skuSet[0]]['test']\n",
    "\n",
    "\n",
    "for i in skuSet[1:]:\n",
    "    X_cen_train = np.concatenate((X_cen_train, X_dict[i]['train']), axis=0)\n",
    "    X_cen_test = np.concatenate((X_cen_test, X_dict[i]['test']), axis=0)"
   ]
  },
  {
   "cell_type": "code",
   "execution_count": 54,
   "id": "e141ed7c",
   "metadata": {
    "ExecuteTime": {
     "end_time": "2023-06-27T12:51:46.559694Z",
     "start_time": "2023-06-27T12:51:46.514794Z"
    }
   },
   "outputs": [],
   "source": [
    "X_dict_subsplit = {} \n",
    "y_dict_subsplit = {} \n",
    "\n",
    "y_validation = [] \n",
    "y_subtrain = [] \n",
    "\n",
    "for i in skuSet:\n",
    "\n",
    "    X_train_i,X_test_i = np.split(X_dict[i][\"train\"], [48]) #split for X\n",
    "    y_train_i,y_test_i = np.split(y_dict[i][\"train\"], [48]) #split for y \n",
    "\n",
    "    X_dict_subsplit[i] = {'train': X_train_i, 'test': X_test_i} #filling dictionary\n",
    "    y_dict_subsplit[i] = {'train': y_train_i, 'test': y_test_i}\n",
    "\n",
    "    y_subtrain += list(y_train_i) # testing array\n",
    "    y_validation += list(y_test_i) # training array\n",
    "\n",
    "## Centralized data\n",
    "X_cen_subtrain = X_dict_subsplit[skuSet[0]]['train'] #initialization with item 0 #X_cen_train_sub\n",
    "X_cen_validation = X_dict_subsplit[skuSet[0]]['test'] #X_cen_test_sub\n",
    "for i in skuSet[1:]: #Iteration over items\n",
    "    X_cen_subtrain = np.concatenate((X_cen_subtrain, X_dict_subsplit[i]['train']), axis = 0) #Bringing together the training set\n",
    "    X_cen_validation = np.concatenate((X_cen_validation, X_dict_subsplit[i]['test']), axis = 0)"
   ]
  },
  {
   "cell_type": "code",
   "execution_count": 57,
   "id": "bc00c65d",
   "metadata": {
    "ExecuteTime": {
     "end_time": "2023-06-27T12:52:03.806288Z",
     "start_time": "2023-06-27T12:52:03.791689Z"
    }
   },
   "outputs": [
    {
     "data": {
      "text/plain": [
       "array([[65.99, 64.99, 62.93, ...,  0.  ,  0.  ,  0.  ],\n",
       "       [63.99, 65.99, 64.99, ...,  0.  ,  0.  ,  0.  ],\n",
       "       [59.49, 63.99, 65.99, ...,  0.  ,  0.  ,  0.  ],\n",
       "       ...,\n",
       "       [65.99, 64.99, 56.73, ...,  0.  ,  0.  ,  0.  ],\n",
       "       [57.07, 65.99, 64.99, ...,  0.  ,  0.  ,  0.  ],\n",
       "       [57.07, 57.07, 65.99, ...,  0.  ,  0.  ,  0.  ]])"
      ]
     },
     "execution_count": 57,
     "metadata": {},
     "output_type": "execute_result"
    }
   ],
   "source": [
    "# X_dict_subsplit[skuSet[1]]['train']"
   ]
  },
  {
   "cell_type": "markdown",
   "id": "81afa650",
   "metadata": {},
   "source": [
    "## Clustering\n",
    "\n",
    "## 1) K-Means\n",
    "\n",
    "## a) Just with sales and prices "
   ]
  },
  {
   "cell_type": "code",
   "execution_count": 61,
   "id": "da2ff741",
   "metadata": {
    "ExecuteTime": {
     "end_time": "2023-06-27T12:57:43.415359Z",
     "start_time": "2023-06-27T12:57:43.399311Z"
    }
   },
   "outputs": [
    {
     "data": {
      "text/plain": [
       "array([[10.24,  9.86, 10.16, ...,  0.  ,  0.  ,  0.  ],\n",
       "       [ 8.27, 10.24,  9.86, ...,  0.  ,  0.  ,  0.  ],\n",
       "       [ 8.83,  8.27, 10.24, ...,  0.  ,  0.  ,  0.  ],\n",
       "       ...,\n",
       "       [26.49, 25.49, 26.49, ...,  0.  ,  0.  ,  0.  ],\n",
       "       [25.98, 26.49, 25.49, ...,  0.  ,  0.  ,  0.  ],\n",
       "       [27.49, 25.98, 26.49, ...,  0.  ,  0.  ,  0.  ]])"
      ]
     },
     "execution_count": 61,
     "metadata": {},
     "output_type": "execute_result"
    }
   ],
   "source": [
    "X_dict_subsplit[1]['train']"
   ]
  },
  {
   "cell_type": "code",
   "execution_count": 62,
   "id": "0f24e4da",
   "metadata": {
    "ExecuteTime": {
     "end_time": "2023-06-27T12:57:53.668136Z",
     "start_time": "2023-06-27T12:57:53.644152Z"
    }
   },
   "outputs": [
    {
     "data": {
      "text/plain": [
       "array([110., 127.,  84.,  87.,  64., 128.,  23., 154.,  85.,  11.,  19.,\n",
       "        17.,  17.,  17.,  13.,   8.,   8.,   5.,   6.,   9.,   6.,   4.,\n",
       "        13.,   7.,   9.,   4.,   5.,   9.,   7.,   8.,  11.,   5.,   8.,\n",
       "         7.,  10.,   7.,   5.,   5.,  13.,   4.,   7.,  10.,   7.,   5.,\n",
       "         6.,  11.,  12.,   4.])"
      ]
     },
     "execution_count": 62,
     "metadata": {},
     "output_type": "execute_result"
    }
   ],
   "source": [
    "y_dict_subsplit[1]['train']"
   ]
  },
  {
   "cell_type": "code",
   "execution_count": 86,
   "id": "f524a429",
   "metadata": {
    "ExecuteTime": {
     "end_time": "2023-06-27T13:11:47.313736Z",
     "start_time": "2023-06-27T13:11:47.281542Z"
    }
   },
   "outputs": [
    {
     "data": {
      "text/plain": [
       "array([22.45041667, 25.02083333])"
      ]
     },
     "execution_count": 86,
     "metadata": {},
     "output_type": "execute_result"
    }
   ],
   "source": [
    "# np.concatenate(( \n",
    "#             np.array([[i] for i in X_dict_subsplit[1]['train'][:,0]]), \n",
    "#             np.array([[i] for i in y_dict_subsplit[1]['train']])),\n",
    "#             axis=1)\n",
    "\n",
    "np.mean(np.concatenate(( \n",
    "            np.array([[i] for i in X_dict_subsplit[1]['train'][:,0]]), \n",
    "            np.array([[i] for i in y_dict_subsplit[1]['train']])),\n",
    "            axis=1), axis=0)"
   ]
  },
  {
   "cell_type": "code",
   "execution_count": 89,
   "id": "87135435",
   "metadata": {
    "ExecuteTime": {
     "end_time": "2023-06-27T13:17:16.659482Z",
     "start_time": "2023-06-27T13:17:15.528060Z"
    }
   },
   "outputs": [
    {
     "name": "stderr",
     "output_type": "stream",
     "text": [
      "C:\\Users\\kamal\\anaconda3\\anaconda-py\\envs\\data-science\\lib\\site-packages\\sklearn\\cluster\\_kmeans.py:870: FutureWarning: The default value of `n_init` will change from 10 to 'auto' in 1.4. Set the value of `n_init` explicitly to suppress the warning\n",
      "  warnings.warn(\n",
      "C:\\Users\\kamal\\anaconda3\\anaconda-py\\envs\\data-science\\lib\\site-packages\\sklearn\\cluster\\_kmeans.py:1382: UserWarning: KMeans is known to have a memory leak on Windows with MKL, when there are less chunks than available threads. You can avoid it by setting the environment variable OMP_NUM_THREADS=1.\n",
      "  warnings.warn(\n"
     ]
    }
   ],
   "source": [
    "import os\n",
    "os.environ[\"OMP_NUM_THREADS\"] = '1'\n",
    "\n",
    "num_clusters = 0\n",
    "maximum_score = 100\n",
    "oos_r2 = 0\n",
    "z = 15\n",
    "X_clus = np.zeros((len(skuSet), 2))\n",
    "count = 0\n",
    "for sku in skuSet:\n",
    "    X_clus[count, :] = np.mean(np.concatenate(( \n",
    "        np.array([[i] for i in X_dict_subsplit[sku]['train'][:,0]]), \n",
    "        np.array([[i] for i in y_dict_subsplit[sku]['train']])),\n",
    "        axis=1),axis = 0)\n",
    "    count += 1\n",
    "\n",
    "X_clus = scaler.fit_transform(X_clus)\n",
    "kmeans = KMeans(n_clusters=z, random_state=0).fit(X_clus)"
   ]
  },
  {
   "cell_type": "markdown",
   "id": "0a11aa2a",
   "metadata": {},
   "source": [
    "To avoid memory leak in KMeans read : https://stackoverflow.com/a/73445664/5475733"
   ]
  },
  {
   "cell_type": "code",
   "execution_count": 90,
   "id": "64f61785",
   "metadata": {
    "ExecuteTime": {
     "end_time": "2023-06-27T13:17:32.341877Z",
     "start_time": "2023-06-27T13:17:32.319456Z"
    }
   },
   "outputs": [
    {
     "data": {
      "text/plain": [
       "array([[8.67815054e-02, 1.85300062e-02],\n",
       "       [3.11654695e-01, 0.00000000e+00],\n",
       "       [5.27484752e-01, 2.70145879e-03],\n",
       "       [6.23143002e-02, 2.16116703e-03],\n",
       "       [1.92212614e-02, 1.64088608e-03],\n",
       "       [1.38876080e-01, 1.27468833e-02],\n",
       "       [9.79781605e-03, 6.18534008e-02],\n",
       "       [5.87166572e-01, 2.78750525e-02],\n",
       "       [8.04441819e-01, 7.41000140e-02],\n",
       "       [1.00000000e+00, 5.38290677e-03],\n",
       "       [1.32493951e-01, 3.16771056e-02],\n",
       "       [2.86916517e-01, 3.85007904e-02],\n",
       "       [1.11596935e-01, 1.04656515e-02],\n",
       "       [1.09508778e-01, 6.28939627e-02],\n",
       "       [4.96332356e-02, 2.60400616e-01],\n",
       "       [9.23828041e-02, 9.09291017e-02],\n",
       "       [1.59723180e-01, 2.52136154e-02],\n",
       "       [5.30467833e-01, 7.20389010e-03],\n",
       "       [4.96816066e-01, 3.43185320e-02],\n",
       "       [3.98900895e-02, 9.51713926e-02],\n",
       "       [1.20717318e-01, 3.46186941e-03],\n",
       "       [3.55188659e-02, 1.02455326e-01],\n",
       "       [4.69579706e-02, 1.54763572e-01],\n",
       "       [5.47413158e-02, 2.44932263e-02],\n",
       "       [2.42806140e-03, 1.00000000e+00],\n",
       "       [1.55319867e-01, 5.42092730e-02],\n",
       "       [2.69986642e-02, 8.12038501e-02],\n",
       "       [4.23229048e-02, 6.76765453e-02],\n",
       "       [3.22873931e-01, 2.51135613e-02],\n",
       "       [5.28682738e-02, 4.60008405e-01],\n",
       "       [2.32904926e-01, 5.67506453e-02],\n",
       "       [4.19119290e-01, 8.60464651e-03],\n",
       "       [1.26275832e-02, 1.22686251e-01],\n",
       "       [6.83672208e-02, 1.33091870e-01],\n",
       "       [6.12220886e-02, 3.50789426e-02],\n",
       "       [2.66891844e-01, 4.42238809e-02],\n",
       "       [6.46460949e-02, 4.02217197e-03],\n",
       "       [1.67507713e-01, 5.16278791e-03],\n",
       "       [6.36073648e-02, 8.82476537e-03],\n",
       "       [0.00000000e+00, 1.62968003e-01],\n",
       "       [3.10062134e-02, 6.05526985e-02],\n",
       "       [1.85853066e-01, 7.40399816e-04],\n",
       "       [6.18121681e-01, 3.20172893e-03],\n",
       "       [2.53437080e-01, 2.92157765e-03]])"
      ]
     },
     "execution_count": 90,
     "metadata": {},
     "output_type": "execute_result"
    }
   ],
   "source": [
    "X_clus"
   ]
  },
  {
   "cell_type": "code",
   "execution_count": 99,
   "id": "51af2bf7",
   "metadata": {
    "ExecuteTime": {
     "end_time": "2023-06-27T13:24:45.302165Z",
     "start_time": "2023-06-27T13:24:45.184363Z"
    }
   },
   "outputs": [
    {
     "name": "stdout",
     "output_type": "stream",
     "text": [
      "OOS R2: 0.5349073764694932\n"
     ]
    }
   ],
   "source": [
    "# Loop\n",
    "y_clus_pred = []\n",
    "y_clus_test = []\n",
    "\n",
    "for j in range(z):\n",
    "    clus_items = list(np.where(kmeans.labels_ == j)[0])\n",
    "    \n",
    "    X_clus_j_train = X_dict[skuSet[clus_items[0]]]['train']\n",
    "    X_clus_j_test = X_dict[skuSet[clus_items[0]]]['test']\n",
    "    \n",
    "    y_clus_j_train = list(y_dict[skuSet[clus_items[0]]]['train'])\n",
    "    y_clus_j_test = list(y_dict[skuSet[clus_items[0]]]['test'])\n",
    "    \n",
    "    for idx in clus_items[1:]:\n",
    "        sku = skuSet[idx]\n",
    "        \n",
    "        X_clus_j_train = np.concatenate((X_clus_j_train, X_dict[sku]['train']), axis=0)\n",
    "        X_clus_j_test = np.concatenate((X_clus_j_test, X_dict[sku]['test']), axis=0)\n",
    "        \n",
    "        y_clus_j_train += list(y_dict[sku]['train'])\n",
    "        y_clus_j_test += list(y_dict[sku]['test'])\n",
    "        \n",
    "    model_clus_j = LinearRegression().fit(X_clus_j_train, y_clus_j_train)\n",
    "    y_clus_pred += list(model_clus_j.predict(X_clus_j_test))\n",
    "    y_clus_test += y_clus_j_test\n",
    "\n",
    "#Results\n",
    "print('OOS R2:',r2_score(y_clus_test, y_clus_pred))"
   ]
  },
  {
   "cell_type": "code",
   "execution_count": 113,
   "id": "90672f94",
   "metadata": {
    "ExecuteTime": {
     "end_time": "2023-06-27T13:31:59.033471Z",
     "start_time": "2023-06-27T13:31:58.576035Z"
    }
   },
   "outputs": [
    {
     "data": {
      "image/png": "[encoded data removed]",
      "text/plain": [
       "<Figure size 1500x600 with 1 Axes>"
      ]
     },
     "metadata": {},
     "output_type": "display_data"
    }
   ],
   "source": [
    "import matplotlib.pyplot as plt\n",
    "import seaborn as sns\n",
    "## Build dataframe\n",
    "list_prices=[]\n",
    "list_sales=[]\n",
    "for sku in skuSet:\n",
    "    list_prices.append(np.mean(X_dict[sku]['train'][:,0], axis = 0))\n",
    "    list_sales.append(np.mean([ [i] for i in y_dict[sku]['train'] ]))\n",
    "df_clus=pd.DataFrame()\n",
    "df_clus['price']=list_prices\n",
    "df_clus['weekly_sales']=list_sales\n",
    "df_clus['Cluster label']=labels=kmeans.labels_\n",
    "## Plot\n",
    "plt.figure(figsize=(15,6))\n",
    "graph = sns.scatterplot(data=df_clus, x='price', y='weekly_sales',\n",
    "                        hue='Cluster label', style='Cluster label',\n",
    "                        palette='dark',\n",
    "                        size='Cluster label', sizes=(100, 200))\n",
    "plt.title('Clusters - K-means', fontsize=15)\n",
    "plt.xlabel('Price')\n",
    "plt.ylabel('Weekly sales')\n",
    "plt.legend(bbox_to_anchor=(1,1))\n",
    "plt.show()"
   ]
  },
  {
   "cell_type": "code",
   "execution_count": null,
   "id": "1a36d741",
   "metadata": {
    "ExecuteTime": {
     "end_time": "2023-06-27T13:29:51.427865Z",
     "start_time": "2023-06-27T13:29:51.391524Z"
    }
   },
   "outputs": [],
   "source": []
  },
  {
   "cell_type": "code",
   "execution_count": null,
   "id": "5a94f8f9",
   "metadata": {
    "ExecuteTime": {
     "end_time": "2023-06-27T13:28:35.569219Z",
     "start_time": "2023-06-27T13:28:35.553176Z"
    }
   },
   "outputs": [],
   "source": []
  },
  {
   "cell_type": "code",
   "execution_count": null,
   "id": "f31fcf92",
   "metadata": {},
   "outputs": [],
   "source": []
  }
 ],
 "metadata": {
  "kernelspec": {
   "display_name": "Python 3 (ipykernel)",
   "language": "python",
   "name": "python3"
  },
  "language_info": {
   "codemirror_mode": {
    "name": "ipython",
    "version": 3
   },
   "file_extension": ".py",
   "mimetype": "text/x-python",
   "name": "python",
   "nbconvert_exporter": "python",
   "pygments_lexer": "ipython3",
   "version": "3.8.16"
  },
  "toc": {
   "base_numbering": 1,
   "nav_menu": {},
   "number_sections": true,
   "sideBar": true,
   "skip_h1_title": false,
   "title_cell": "Table of Contents",
   "title_sidebar": "Contents",
   "toc_cell": false,
   "toc_position": {},
   "toc_section_display": true,
   "toc_window_display": false
  }
 },
 "nbformat": 4,
 "nbformat_minor": 5
}
