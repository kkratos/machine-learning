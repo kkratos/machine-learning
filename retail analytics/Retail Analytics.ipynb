{
 "cells": [
  {
   "cell_type": "markdown",
   "id": "c25c731d",
   "metadata": {
    "ExecuteTime": {
     "end_time": "2023-06-12T15:03:08.262740Z",
     "start_time": "2023-06-12T15:03:08.247289Z"
    }
   },
   "source": [
    "# Introduction"
   ]
  },
  {
   "cell_type": "code",
   "execution_count": null,
   "id": "440c4dd9",
   "metadata": {
    "ExecuteTime": {
     "end_time": "2023-06-17T13:26:19.409335Z",
     "start_time": "2023-06-17T13:26:19.399451Z"
    }
   },
   "outputs": [],
   "source": [
    "import pandas as pd\n",
    "import matplotlib.pyplot as plt\n",
    "import seaborn as sns\n",
    "%matplotlib inline"
   ]
  },
  {
   "cell_type": "code",
   "execution_count": null,
   "id": "f0ac1660",
   "metadata": {
    "ExecuteTime": {
     "end_time": "2023-06-17T13:26:19.475660Z",
     "start_time": "2023-06-17T13:26:19.414031Z"
    }
   },
   "outputs": [],
   "source": [
    "df = pd.read_csv(\"./data_raw.csv\", parse_dates=['week'])\n",
    "df.head()"
   ]
  },
  {
   "cell_type": "code",
   "execution_count": null,
   "id": "7b9de4a2",
   "metadata": {
    "ExecuteTime": {
     "end_time": "2023-06-17T13:26:19.789499Z",
     "start_time": "2023-06-17T13:26:19.483899Z"
    }
   },
   "outputs": [],
   "source": [
    "# Create a pie chart of featured products on the main page\n",
    "featured_count = df['feat_main_page'].value_counts()\n",
    "plt.figure(figsize=(6, 6))\n",
    "plt.pie(featured_count, labels=['Not Featured', 'Featured'], autopct='%1.1f%%', colors=['lightcoral', 'lightskyblue'])\n",
    "plt.title('Featured Products on Main Page')\n",
    "plt.show()\n"
   ]
  },
  {
   "cell_type": "code",
   "execution_count": null,
   "id": "d5f18acf",
   "metadata": {
    "ExecuteTime": {
     "end_time": "2023-06-17T13:26:20.589527Z",
     "start_time": "2023-06-17T13:26:19.795679Z"
    }
   },
   "outputs": [],
   "source": [
    "# Count the number of occurrences for each functionality category\n",
    "functionality_counts = df['functionality'].value_counts()\n",
    "colors = ['lightblue', 'lightgreen', 'lightcoral', 'lightsalmon']\n",
    "\n",
    "# Create a bar plot of functionality features\n",
    "plt.figure(figsize=(12, 6))\n",
    "plt.bar(functionality_counts.index, functionality_counts.values, color=colors)\n",
    "plt.xlabel('Functionality Features')\n",
    "plt.ylabel('Count')\n",
    "plt.title('Functionality Features Distribution')\n",
    "plt.xticks(rotation=45, ha='right')\n",
    "plt.tight_layout()\n",
    "plt.show()"
   ]
  },
  {
   "cell_type": "code",
   "execution_count": null,
   "id": "7d04cb1c",
   "metadata": {
    "ExecuteTime": {
     "end_time": "2023-06-17T13:26:21.603721Z",
     "start_time": "2023-06-17T13:26:20.595001Z"
    }
   },
   "outputs": [],
   "source": [
    "# Create a cross-tabulation of feat_main_page vs functionality\n",
    "cross_tab = pd.crosstab(df['feat_main_page'], df['functionality'])\n",
    "\n",
    "# Create a grouped bar chart\n",
    "cross_tab.plot(kind='bar', stacked=True, figsize=(10, 6), colormap='Set3')\n",
    "\n",
    "# Set labels and title\n",
    "plt.xlabel('Featured on Main Page')\n",
    "plt.ylabel('Count')\n",
    "plt.title('Relation between \"feat_main_page\" and \"functionality feature\"')\n",
    "\n",
    "# Adjust the legend\n",
    "plt.legend(title='Functionality', loc='upper left', bbox_to_anchor=(1, 1))\n",
    "\n",
    "# Show the chart\n",
    "plt.show()\n"
   ]
  },
  {
   "cell_type": "code",
   "execution_count": null,
   "id": "f5dc3930",
   "metadata": {
    "ExecuteTime": {
     "end_time": "2023-06-17T13:26:22.293790Z",
     "start_time": "2023-06-17T13:26:21.614726Z"
    }
   },
   "outputs": [],
   "source": [
    "# Filter the dataframe for rows where feat_main_page is True\n",
    "filtered_df = df[df['feat_main_page'] == True]\n",
    "\n",
    "# Count the occurrences of each functionality feature\n",
    "functionality_counts = filtered_df['functionality'].value_counts()\n",
    "\n",
    "# Create a bar chart\n",
    "plt.figure(figsize=(10, 6))\n",
    "sns.barplot(x=functionality_counts.index, y=functionality_counts.values, palette='Set2')\n",
    "\n",
    "# Set labels and title\n",
    "plt.xlabel('Functionality')\n",
    "plt.ylabel('Count')\n",
    "plt.title('Functionality Features on \"feat_main_page\"')\n",
    "\n",
    "# Rotate x-axis labels if needed\n",
    "plt.xticks(rotation=45, ha='right')\n",
    "\n",
    "# Show the chart\n",
    "plt.show()\n"
   ]
  },
  {
   "cell_type": "code",
   "execution_count": null,
   "id": "be901147",
   "metadata": {
    "ExecuteTime": {
     "end_time": "2023-06-17T13:26:22.910834Z",
     "start_time": "2023-06-17T13:26:22.299122Z"
    }
   },
   "outputs": [],
   "source": [
    "# Set 'week' column as the dataframe's index\n",
    "df.set_index('week', inplace=True)\n",
    "\n",
    "# Resample the data on a weekly basis and sum the sales\n",
    "weekly_sales = df['weekly_sales'].resample('W').sum()\n",
    "\n",
    "# Plotting the sales trend using line plot\n",
    "weekly_sales.plot(kind='line', marker='o', figsize=(10, 6))\n",
    "\n",
    "# Set labels and title\n",
    "plt.xlabel('Week')\n",
    "plt.ylabel('Sales')\n",
    "plt.title('Weekly Sales Trend')\n",
    "\n",
    "# Show the chart\n",
    "plt.show()"
   ]
  },
  {
   "cell_type": "code",
   "execution_count": null,
   "id": "144bce3a",
   "metadata": {
    "ExecuteTime": {
     "end_time": "2023-06-17T13:26:22.926215Z",
     "start_time": "2023-06-17T13:26:22.916113Z"
    }
   },
   "outputs": [],
   "source": [
    "# df['week'][0]"
   ]
  },
  {
   "cell_type": "markdown",
   "id": "c6a6a809",
   "metadata": {},
   "source": [
    "# Data Pre-Processing\n",
    "Its crucial to process raw data in order to extract a much predictive power from features available in data."
   ]
  },
  {
   "cell_type": "markdown",
   "id": "84605703",
   "metadata": {},
   "source": [
    "### Dealing with missing data"
   ]
  },
  {
   "cell_type": "code",
   "execution_count": null,
   "id": "cce83db1",
   "metadata": {
    "ExecuteTime": {
     "end_time": "2023-06-17T13:26:22.950269Z",
     "start_time": "2023-06-17T13:26:22.930331Z"
    }
   },
   "outputs": [],
   "source": [
    "df.isna().any()"
   ]
  },
  {
   "cell_type": "code",
   "execution_count": null,
   "id": "b552db5c",
   "metadata": {
    "ExecuteTime": {
     "end_time": "2023-06-17T13:26:22.984537Z",
     "start_time": "2023-06-17T13:26:22.954329Z"
    }
   },
   "outputs": [],
   "source": [
    "df[df['color'].isnull()]"
   ]
  },
  {
   "cell_type": "markdown",
   "id": "8ed6a816",
   "metadata": {},
   "source": [
    "There are 4 sku with missing values for features color"
   ]
  },
  {
   "cell_type": "code",
   "execution_count": null,
   "id": "35c7af86",
   "metadata": {
    "ExecuteTime": {
     "end_time": "2023-06-17T13:26:23.005163Z",
     "start_time": "2023-06-17T13:26:22.989329Z"
    }
   },
   "outputs": [],
   "source": [
    "df[df.sku == 44]['color'].value_counts(dropna=False)"
   ]
  },
  {
   "cell_type": "markdown",
   "id": "38ed893e",
   "metadata": {},
   "source": [
    "Method 1: Delete rows with missing values"
   ]
  },
  {
   "cell_type": "code",
   "execution_count": null,
   "id": "66ac2812",
   "metadata": {
    "ExecuteTime": {
     "end_time": "2023-06-17T13:26:23.040738Z",
     "start_time": "2023-06-17T13:26:23.012099Z"
    }
   },
   "outputs": [],
   "source": [
    "df.dropna()"
   ]
  },
  {
   "cell_type": "markdown",
   "id": "b70fd39f",
   "metadata": {},
   "source": [
    "This is the fastest method, but it reduces the size of the dataset"
   ]
  },
  {
   "cell_type": "markdown",
   "id": "0eae8d38",
   "metadata": {},
   "source": [
    "Method 2: Imputation libraries"
   ]
  },
  {
   "cell_type": "code",
   "execution_count": null,
   "id": "951ac1bc",
   "metadata": {
    "ExecuteTime": {
     "end_time": "2023-06-17T13:26:24.027171Z",
     "start_time": "2023-06-17T13:26:23.044689Z"
    }
   },
   "outputs": [],
   "source": [
    "import numpy as np\n",
    "from sklearn.impute import SimpleImputer\n",
    "\n",
    "imputer = SimpleImputer(missing_values=np.nan, strategy='most_frequent')"
   ]
  },
  {
   "cell_type": "code",
   "execution_count": null,
   "id": "e4ed42ed",
   "metadata": {
    "ExecuteTime": {
     "end_time": "2023-06-17T13:26:24.068934Z",
     "start_time": "2023-06-17T13:26:24.034438Z"
    }
   },
   "outputs": [],
   "source": [
    "# For each SKU with missing data, we first fit the imputer and then apply it to the\n",
    "# rows that contain missing data:\n",
    "imputer.fit(df[df.sku==44][['sku', 'color']])"
   ]
  },
  {
   "cell_type": "code",
   "execution_count": null,
   "id": "7a75ab76",
   "metadata": {
    "ExecuteTime": {
     "end_time": "2023-06-17T13:26:24.095273Z",
     "start_time": "2023-06-17T13:26:24.073962Z"
    }
   },
   "outputs": [],
   "source": [
    "df[(df.sku == 43) & (df.color.isna())]"
   ]
  },
  {
   "cell_type": "code",
   "execution_count": null,
   "id": "69b45777",
   "metadata": {
    "ExecuteTime": {
     "end_time": "2023-06-17T13:26:24.114340Z",
     "start_time": "2023-06-17T13:26:24.098958Z"
    }
   },
   "outputs": [],
   "source": [
    "imputer.transform(df[(df.sku == 44) & (df.color.isna())][['sku', 'color']])"
   ]
  },
  {
   "cell_type": "code",
   "execution_count": null,
   "id": "bc1d5057",
   "metadata": {
    "ExecuteTime": {
     "end_time": "2023-06-17T13:26:24.133643Z",
     "start_time": "2023-06-17T13:26:24.117819Z"
    }
   },
   "outputs": [],
   "source": [
    "df[(df.color.isna()) & (df.sku==44)].index.values"
   ]
  },
  {
   "cell_type": "code",
   "execution_count": null,
   "id": "36dc05b7",
   "metadata": {
    "ExecuteTime": {
     "end_time": "2023-06-17T13:26:24.204167Z",
     "start_time": "2023-06-17T13:26:24.136990Z"
    }
   },
   "outputs": [],
   "source": [
    "sku_number = [9, 42, 43, 44]\n",
    "for i in sku_number:\n",
    "    missing_idx = df[(df.color.isna()) & (df.sku==i)].index.values\n",
    "    for j in missing_idx:\n",
    "        df.at[j, 'color'] = imputer.transform(df[(df.color.isna()) & (df.sku==i)][['sku', 'color']])[0, 1]"
   ]
  },
  {
   "cell_type": "code",
   "execution_count": null,
   "id": "4c1cb8b2",
   "metadata": {
    "ExecuteTime": {
     "end_time": "2023-06-17T13:26:24.222001Z",
     "start_time": "2023-06-17T13:26:24.207861Z"
    }
   },
   "outputs": [],
   "source": [
    "df[df['color'].isnull()].sum(numeric_only=True)"
   ]
  },
  {
   "cell_type": "markdown",
   "id": "b6980a71",
   "metadata": {},
   "source": [
    "### Test for outlier"
   ]
  },
  {
   "cell_type": "code",
   "execution_count": null,
   "id": "51e45363",
   "metadata": {
    "ExecuteTime": {
     "end_time": "2023-06-17T13:26:24.237254Z",
     "start_time": "2023-06-17T13:26:24.225509Z"
    }
   },
   "outputs": [],
   "source": [
    "def check_outlier(df, features, k=5):\n",
    "    data = df.copy()\n",
    "    for f in features:\n",
    "        data['outlier_'+f] = data.groupby('sku')[f].transform(\n",
    "        lambda x: (x > (x.mean()+k*x.std())) | (x < (x.mean()-k*x.std())))\n",
    "    return data"
   ]
  },
  {
   "cell_type": "code",
   "execution_count": null,
   "id": "5cb49eff",
   "metadata": {
    "ExecuteTime": {
     "end_time": "2023-06-17T13:26:24.353883Z",
     "start_time": "2023-06-17T13:26:24.241200Z"
    }
   },
   "outputs": [],
   "source": [
    "df = check_outlier(df, ['price', 'weekly_sales'], 5)\n",
    "df[df.outlier_price]"
   ]
  },
  {
   "cell_type": "code",
   "execution_count": null,
   "id": "8e6e5330",
   "metadata": {
    "ExecuteTime": {
     "end_time": "2023-06-17T13:26:24.386791Z",
     "start_time": "2023-06-17T13:26:24.358957Z"
    }
   },
   "outputs": [],
   "source": [
    "df[df.outlier_weekly_sales]"
   ]
  },
  {
   "cell_type": "code",
   "execution_count": null,
   "id": "9614369d",
   "metadata": {
    "ExecuteTime": {
     "end_time": "2023-06-17T13:26:24.658339Z",
     "start_time": "2023-06-17T13:26:24.390987Z"
    }
   },
   "outputs": [],
   "source": [
    "df['weekly_sales'].plot.box()"
   ]
  },
  {
   "cell_type": "code",
   "execution_count": null,
   "id": "8f74affc",
   "metadata": {
    "ExecuteTime": {
     "end_time": "2023-06-17T13:26:25.008101Z",
     "start_time": "2023-06-17T13:26:24.679415Z"
    }
   },
   "outputs": [],
   "source": [
    "df['price'].plot.box()"
   ]
  },
  {
   "cell_type": "markdown",
   "id": "8be46d04",
   "metadata": {},
   "source": [
    "### Time Effect\n",
    "Generally, there are four types of time series components: trend,\n",
    "seasonal variations, cyclical fluctuations, and irregular variations\n",
    "\n",
    "In the context of retail demand prediction, it is common to focus only on the two variables: Trend and Seasonality\n"
   ]
  },
  {
   "cell_type": "code",
   "execution_count": null,
   "id": "e54801ea",
   "metadata": {
    "ExecuteTime": {
     "end_time": "2023-06-17T13:26:25.041371Z",
     "start_time": "2023-06-17T13:26:25.014712Z"
    }
   },
   "outputs": [],
   "source": [
    "df.head()"
   ]
  },
  {
   "cell_type": "code",
   "execution_count": null,
   "id": "02a12dfa",
   "metadata": {
    "ExecuteTime": {
     "end_time": "2023-06-17T13:26:34.668290Z",
     "start_time": "2023-06-17T13:26:25.047398Z"
    }
   },
   "outputs": [],
   "source": [
    "df['trend'] = df['week'].dt.year - 2016\n",
    "df['month'] = df['week'].dt.month"
   ]
  },
  {
   "cell_type": "code",
   "execution_count": null,
   "id": "42b085b8",
   "metadata": {
    "ExecuteTime": {
     "end_time": "2023-06-17T13:26:34.673969Z",
     "start_time": "2023-06-17T13:26:34.673969Z"
    }
   },
   "outputs": [],
   "source": [
    "df['trend'].unique()"
   ]
  },
  {
   "cell_type": "code",
   "execution_count": null,
   "id": "1f9a6bb6",
   "metadata": {
    "ExecuteTime": {
     "end_time": "2023-06-17T13:26:34.681116Z",
     "start_time": "2023-06-17T13:26:34.681116Z"
    }
   },
   "outputs": [],
   "source": [
    "df = pd.get_dummies(data=df, columns=['month'], drop_first=True)\n",
    "df.head()"
   ]
  },
  {
   "cell_type": "code",
   "execution_count": null,
   "id": "1a3a6be5",
   "metadata": {
    "ExecuteTime": {
     "end_time": "2023-06-17T13:26:34.688414Z",
     "start_time": "2023-06-17T13:26:34.687421Z"
    }
   },
   "outputs": [],
   "source": [
    "df"
   ]
  },
  {
   "cell_type": "markdown",
   "id": "807eb0ae",
   "metadata": {},
   "source": [
    "### Price and lag-Prices"
   ]
  },
  {
   "cell_type": "code",
   "execution_count": null,
   "id": "c5d0fa71",
   "metadata": {
    "ExecuteTime": {
     "end_time": "2023-06-17T13:26:34.692971Z",
     "start_time": "2023-06-17T13:26:34.692971Z"
    }
   },
   "outputs": [],
   "source": [
    "# To create lag-price we use shift function\n",
    "df['price-1'] = df.groupby(['sku'])['price'].shift(1)\n",
    "df['price-2'] = df.groupby(['sku'])['price'].shift(2)\n",
    "df.dropna(subset=['price-1', 'price-2'], inplace=True)\n",
    "df.head()"
   ]
  },
  {
   "cell_type": "code",
   "execution_count": null,
   "id": "fb72f197",
   "metadata": {
    "ExecuteTime": {
     "end_time": "2023-06-17T13:26:34.699000Z",
     "start_time": "2023-06-17T13:26:34.699000Z"
    }
   },
   "outputs": [],
   "source": [
    "## Put lag-prices next to the price column\n",
    "\n",
    "col = df.pop('price') #pop deletes the column\n",
    "df.insert(3, col.name, col) #insert a column at a specific position\n",
    "pos_price=df.columns.get_loc('price') #get position of column\n"
   ]
  },
  {
   "cell_type": "code",
   "execution_count": null,
   "id": "632fd5e9",
   "metadata": {
    "ExecuteTime": {
     "end_time": "2023-06-17T13:26:34.701040Z",
     "start_time": "2023-06-17T13:26:34.701040Z"
    }
   },
   "outputs": [],
   "source": [
    "#p-1\n",
    "col = df.pop('price-1')\n",
    "df.insert(pos_price+1, col.name, col)"
   ]
  },
  {
   "cell_type": "code",
   "execution_count": null,
   "id": "d80176c3",
   "metadata": {
    "ExecuteTime": {
     "end_time": "2023-06-17T13:26:34.709252Z",
     "start_time": "2023-06-17T13:26:34.709252Z"
    }
   },
   "outputs": [],
   "source": [
    "#p-2\n",
    "col = df.pop('price-2')\n",
    "df.insert(pos_price+2, col.name, col)\n"
   ]
  },
  {
   "cell_type": "code",
   "execution_count": null,
   "id": "d05c6739",
   "metadata": {
    "ExecuteTime": {
     "end_time": "2023-06-17T13:26:34.715025Z",
     "start_time": "2023-06-17T13:26:34.715025Z"
    }
   },
   "outputs": [],
   "source": [
    "\n",
    "df.head()"
   ]
  },
  {
   "cell_type": "markdown",
   "id": "2630d556",
   "metadata": {},
   "source": [
    "### Feature on main page\n",
    "the company can decide to boost the visibility of specific\n",
    "products by featuring them on the main website’s homepage (typically for 1 full\n",
    "week).\n",
    "\n",
    "we cannot directly use such variables with sklearn. Thus,\n",
    "we decide to make this variable numerical by assigning a value of 1 to the\n",
    "SKU-week pairs that are featured on the main page and 0 to others:"
   ]
  },
  {
   "cell_type": "code",
   "execution_count": null,
   "id": "1cbcd014",
   "metadata": {
    "ExecuteTime": {
     "end_time": "2023-06-17T13:26:34.719028Z",
     "start_time": "2023-06-17T13:26:34.719028Z"
    }
   },
   "outputs": [],
   "source": [
    "df['feat_main_page'] = df.feat_main_page.astype('int')"
   ]
  },
  {
   "cell_type": "markdown",
   "id": "f031ceb5",
   "metadata": {
    "ExecuteTime": {
     "end_time": "2023-06-12T18:02:13.122199Z",
     "start_time": "2023-06-12T18:02:13.099645Z"
    }
   },
   "source": [
    "### Item descriptive feature"
   ]
  },
  {
   "cell_type": "code",
   "execution_count": null,
   "id": "9419e5ae",
   "metadata": {
    "ExecuteTime": {
     "end_time": "2023-06-17T13:26:34.722420Z",
     "start_time": "2023-06-17T13:26:34.722420Z"
    }
   },
   "outputs": [],
   "source": [
    "df = pd.get_dummies(data=df, \n",
    "                    columns=['functionality', 'color', 'vendor'],\n",
    "                   drop_first=True)\n",
    "df.head()"
   ]
  },
  {
   "cell_type": "markdown",
   "id": "c3160eca",
   "metadata": {},
   "source": [
    "### Scaling"
   ]
  },
  {
   "cell_type": "markdown",
   "id": "2d102645",
   "metadata": {},
   "source": [
    "When dealing with features that have different ranges of values, it can often be desirable to scale (or normalize) the features in the dataset, so they all lie in a similar range.\n",
    "\n",
    "To write Math in markdown\n",
    "http://www.evanlray.com/stat242_f2019/resources/R/MathinRmd.html"
   ]
  },
  {
   "cell_type": "markdown",
   "id": "5cf8ff07",
   "metadata": {
    "ExecuteTime": {
     "end_time": "2023-06-12T18:07:47.657164Z",
     "start_time": "2023-06-12T18:07:47.634845Z"
    }
   },
   "source": [
    "Standard scaling will scale a feature x to a normalized version z with mean 0 and standard deviation 1.8.\n",
    "$z=\\frac{x - \\mu}{\\sigma}$\n",
    "\n",
    "```\n",
    "from sklearn.preprocessing import StandardScaler\n",
    "scaler = StandardScaler()\n",
    "scaler.fit(data)\n",
    "scaler.transform(data)\n",
    "```"
   ]
  },
  {
   "cell_type": "markdown",
   "id": "cda6d5bc",
   "metadata": {},
   "source": [
    "Min Max scaling will scale a feature x to a normalized version z that takes values between 0 and 1.\n",
    "\n",
    "$z=\\frac{x - min(x)}{max(x) - min(x)}$\n",
    "\n",
    "where the minimum and maximum functions can either be taken for each SKU\n",
    "separately or jointly for all the SKUs. This scaling can be performed using the following code:\n",
    "\n",
    "```\n",
    "from sklearn.preprocessing import MinMaxScaler\n",
    "scaler = MinMaxScaler()\n",
    "scaler.fit(data)\n",
    "scaler.transform(data)\n",
    "```"
   ]
  },
  {
   "cell_type": "markdown",
   "id": "f005cb40",
   "metadata": {
    "ExecuteTime": {
     "end_time": "2023-06-12T18:19:14.697250Z",
     "start_time": "2023-06-12T18:19:14.683291Z"
    }
   },
   "source": [
    "### Sorting and exporting the dataset"
   ]
  },
  {
   "cell_type": "code",
   "execution_count": null,
   "id": "90449c59",
   "metadata": {
    "ExecuteTime": {
     "end_time": "2023-06-17T13:26:34.724820Z",
     "start_time": "2023-06-17T13:26:34.724820Z"
    }
   },
   "outputs": [],
   "source": [
    "df = df.sort_values(by=['sku', 'week'])\n",
    "# sales.to_csv(‘data_processed.csv’,index=False)"
   ]
  },
  {
   "cell_type": "markdown",
   "id": "16df68ef",
   "metadata": {},
   "source": [
    "At this stage, we have a fully processed dataset, and we are ready to proceed with the step of predicting demand."
   ]
  },
  {
   "cell_type": "markdown",
   "id": "dd0aeab6",
   "metadata": {},
   "source": [
    "# Demand Prediction Methods"
   ]
  },
  {
   "cell_type": "code",
   "execution_count": null,
   "id": "576395cf",
   "metadata": {
    "ExecuteTime": {
     "end_time": "2023-06-17T13:55:26.051511Z",
     "start_time": "2023-06-17T13:55:24.144801Z"
    }
   },
   "outputs": [],
   "source": [
    "import pandas as pd\n",
    "import numpy as np\n",
    "df=pd.read_csv(\"./data_processed.csv\")\n",
    "df   "
   ]
  },
  {
   "cell_type": "code",
   "execution_count": null,
   "id": "28b19458",
   "metadata": {
    "ExecuteTime": {
     "end_time": "2023-06-17T13:55:26.793762Z",
     "start_time": "2023-06-17T13:55:26.772848Z"
    }
   },
   "outputs": [],
   "source": [
    "for i in df.columns:\n",
    "    if i not in ['week', 'weekly_sales','sku']:\n",
    "        print(i)"
   ]
  },
  {
   "cell_type": "code",
   "execution_count": null,
   "id": "6425d4f6",
   "metadata": {
    "ExecuteTime": {
     "end_time": "2023-06-17T13:55:27.329125Z",
     "start_time": "2023-06-17T13:55:27.313482Z"
    }
   },
   "outputs": [],
   "source": [
    "# Basic linear regression for one sku\n",
    "data = df[df.sku==11].sort_values(by=['week'])\n",
    "colnames = [i for i in data.columns if i not in\n",
    "            ['week','weekly_sales','sku']]"
   ]
  },
  {
   "cell_type": "code",
   "execution_count": null,
   "id": "362be5ce",
   "metadata": {
    "ExecuteTime": {
     "end_time": "2023-06-17T13:55:27.804065Z",
     "start_time": "2023-06-17T13:55:27.790748Z"
    }
   },
   "outputs": [],
   "source": [
    "X_primer = data[colnames]\n",
    "y_primer = data.weekly_sales"
   ]
  },
  {
   "cell_type": "markdown",
   "id": "ab872295",
   "metadata": {
    "ExecuteTime": {
     "end_time": "2023-06-12T18:37:29.366403Z",
     "start_time": "2023-06-12T18:37:29.314888Z"
    }
   },
   "source": [
    "we need to perform a time-based split to create a\n",
    "training set and a test set.\n",
    "* The training set contains the data from November 2016 to February 2018 (i.e.,68 weeks, 70% of the data).\n",
    "* The test set contains the data from March 2018 to September 2018 (i.e., 30 weeks, 30% of the data)."
   ]
  },
  {
   "cell_type": "code",
   "execution_count": null,
   "id": "b0114701",
   "metadata": {
    "ExecuteTime": {
     "end_time": "2023-06-17T13:55:31.190590Z",
     "start_time": "2023-06-17T13:55:28.813607Z"
    }
   },
   "outputs": [],
   "source": [
    "from sklearn.model_selection import train_test_split\n",
    "X_train, X_test = train_test_split(X_primer, \n",
    "                                   shuffle=False,\n",
    "                                   train_size=0.70)\n",
    "y_train, y_test = train_test_split(y_primer, \n",
    "                                   shuffle=False,\n",
    "                                   train_size=0.70)\n",
    "\n",
    "print(X_test.shape, y_test.shape)"
   ]
  },
  {
   "cell_type": "code",
   "execution_count": null,
   "id": "74cf7c7b",
   "metadata": {
    "ExecuteTime": {
     "end_time": "2023-06-17T13:55:32.009768Z",
     "start_time": "2023-06-17T13:55:31.812716Z"
    }
   },
   "outputs": [],
   "source": [
    "from statsmodels.regression.linear_model import OLS\n",
    "model = OLS(y_train, X_train)\n",
    "model = model.fit()\n",
    "y_pred = list(model.predict(X_test))"
   ]
  },
  {
   "cell_type": "code",
   "execution_count": null,
   "id": "e231356d",
   "metadata": {
    "ExecuteTime": {
     "end_time": "2023-06-17T13:55:32.294880Z",
     "start_time": "2023-06-17T13:55:32.279416Z"
    }
   },
   "outputs": [],
   "source": [
    "## Evaluate our model\n",
    "from sklearn.metrics import r2_score, mean_squared_error\n",
    "print('OOS R2:', round(r2_score(y_test, np.array(y_pred)), 3))\n",
    "print('OOS MSE:', round(mean_squared_error(y_test, np.array(y_pred)), 3))"
   ]
  },
  {
   "cell_type": "code",
   "execution_count": null,
   "id": "881de8dc",
   "metadata": {
    "ExecuteTime": {
     "end_time": "2023-06-17T13:55:33.165453Z",
     "start_time": "2023-06-17T13:55:33.073021Z"
    }
   },
   "outputs": [],
   "source": [
    "model.summary()"
   ]
  },
  {
   "cell_type": "markdown",
   "id": "6a26f006",
   "metadata": {
    "ExecuteTime": {
     "end_time": "2023-06-17T13:35:33.585622Z",
     "start_time": "2023-06-17T13:35:33.579318Z"
    }
   },
   "source": [
    "### Considering all 44 sku"
   ]
  },
  {
   "cell_type": "code",
   "execution_count": null,
   "id": "e452c864",
   "metadata": {
    "ExecuteTime": {
     "end_time": "2023-06-17T14:44:12.684372Z",
     "start_time": "2023-06-17T14:44:12.637335Z"
    }
   },
   "outputs": [],
   "source": [
    "skuSet = list(df.sku.unique())\n",
    "skuData = {}\n",
    "\n",
    "# removing dates, target variable, sku number\n",
    "colnames = [i for i in df.columns if i not in ['week', 'weekly_sales','sku']]\n",
    "\n",
    "for i in skuSet:\n",
    "    df_i = df[df.sku == i]\n",
    "#     print(df_i[colnames].values)\n",
    "    skuData[i] = {'X': df_i[colnames].values,\n",
    "                 'y': df_i.weekly_sales.values}"
   ]
  },
  {
   "cell_type": "markdown",
   "id": "e3e33611",
   "metadata": {
    "ExecuteTime": {
     "end_time": "2023-06-12T19:04:19.140774Z",
     "start_time": "2023-06-12T19:04:19.101544Z"
    }
   },
   "source": [
    "$ \\text{weekly_sales}_i = {\\beta_{\\text{price}_i} \\cdot \\text{X}_{\\text{price}_i} + \\beta_{\\text{price} - 1 i} \\cdot \\text{X}_{\\text{price}-1 i} + \\ldots + \\beta_{\\text{vendor10}_i} \\cdot \\text{X}{\\text{vendor10}_i} + \\varepsilon_i } $\n"
   ]
  },
  {
   "cell_type": "code",
   "execution_count": null,
   "id": "5f357289",
   "metadata": {
    "ExecuteTime": {
     "end_time": "2023-06-17T13:55:35.175558Z",
     "start_time": "2023-06-17T13:55:35.159568Z"
    }
   },
   "outputs": [],
   "source": [
    "X_dict={}\n",
    "y_dict = {}\n",
    "\n",
    "y_test = []\n",
    "y_train = []\n",
    "\n",
    "for i in skuSet:\n",
    "    X_train_i,X_test_i = np.split(skuData[i]['X'], [68]) #split for X\n",
    "    y_train_i,y_test_i = np.split(skuData[i]['y'], [68]) #split for y\n",
    "   \n",
    "    X_dict[i] = {'train': X_train_i, 'test': X_test_i} #filling dictionary\n",
    "    y_dict[i] = {'train': y_train_i, 'test': y_test_i}\n",
    "    \n",
    "    y_test += list(y_test_i) #creating the complete testing array\n",
    "    y_train += list(y_train_i) #creating the complete training array"
   ]
  },
  {
   "cell_type": "markdown",
   "id": "cbd004c6",
   "metadata": {},
   "source": [
    "## Centrailized Approach : Training single linear regression model"
   ]
  },
  {
   "cell_type": "code",
   "execution_count": null,
   "id": "d4a64b92",
   "metadata": {
    "ExecuteTime": {
     "end_time": "2023-06-17T13:55:36.087877Z",
     "start_time": "2023-06-17T13:55:36.055785Z"
    }
   },
   "outputs": [],
   "source": [
    "X_cen_train = X_dict[skuSet[0]]['train']\n",
    "X_cen_test = X_dict[skuSet[0]]['test']\n",
    "\n",
    "for i in skuSet[1:]:\n",
    "    X_cen_train = np.concatenate((X_cen_train, X_dict[i]['train']), \n",
    "                                 axis= 0)\n",
    "    X_cen_test = np.concatenate((X_cen_test, X_dict[i]['test']), \n",
    "                                axis=0)"
   ]
  },
  {
   "cell_type": "code",
   "execution_count": null,
   "id": "28e84592",
   "metadata": {
    "ExecuteTime": {
     "end_time": "2023-06-17T13:56:30.592370Z",
     "start_time": "2023-06-17T13:56:30.566362Z"
    }
   },
   "outputs": [],
   "source": [
    "from sklearn.linear_model import LinearRegression\n",
    "\n",
    "model_cen = LinearRegression().fit(X_cen_train, y_train)\n",
    "\n",
    "print('OOS R2:', round(r2_score(y_test, model_cen.predict(X_cen_test)),3))\n",
    "print('OOS MSE:',round(mean_squared_error(y_test, model_cen.predict(X_cen_test)),3))"
   ]
  },
  {
   "cell_type": "markdown",
   "id": "af0b7194",
   "metadata": {},
   "source": [
    "## Decentralized Approach:  estimated different linear regression model for each SKU"
   ]
  },
  {
   "cell_type": "code",
   "execution_count": null,
   "id": "d93c6d62",
   "metadata": {
    "ExecuteTime": {
     "end_time": "2023-06-17T13:45:36.332161Z",
     "start_time": "2023-06-17T13:45:36.263953Z"
    }
   },
   "outputs": [],
   "source": [
    "import time\n",
    "tzero = time.time()\n",
    "\n",
    "y_pred = []\n",
    "skumodels = {}\n",
    "\n",
    "for i in skuSet:\n",
    "    model_i = OLS(y_dict[i]['train'], X_dict[i]['train'], hasconst=False)\n",
    "    skumodels[i] = model_i.fit()\n",
    "    \n",
    "    #compute and concatenate prediction of the model i on item i\n",
    "    y_pred += list(skumodels[i].predict(X_dict[i]['test']))\n",
    "\n",
    "#computing overall performance metrics on y_pred and y_test:\n",
    "print('OOS R2:',round(r2_score(y_test, np.array(y_pred)),3))\n",
    "print('OOS MSE:', round(mean_squared_error(y_test, np.array(y_pred)),3))\n",
    "\n",
    "t = time.time()-tzero\n",
    "print('Time to compute:',round(t,3),' sec')"
   ]
  },
  {
   "cell_type": "markdown",
   "id": "1f317866",
   "metadata": {
    "ExecuteTime": {
     "end_time": "2023-06-12T20:00:28.360124Z",
     "start_time": "2023-06-12T20:00:28.340022Z"
    }
   },
   "source": [
    "### Feature Selection and Regularization in the Decentralized model"
   ]
  },
  {
   "cell_type": "markdown",
   "id": "987b10a1",
   "metadata": {},
   "source": []
  },
  {
   "cell_type": "code",
   "execution_count": null,
   "id": "613e8e20",
   "metadata": {
    "ExecuteTime": {
     "end_time": "2023-06-17T13:27:47.361379Z",
     "start_time": "2023-06-17T13:27:47.321752Z"
    }
   },
   "outputs": [],
   "source": []
  },
  {
   "cell_type": "markdown",
   "id": "d06e4181",
   "metadata": {},
   "source": [
    "# Tree based method"
   ]
  },
  {
   "cell_type": "code",
   "execution_count": 1,
   "id": "14fb2709",
   "metadata": {
    "ExecuteTime": {
     "end_time": "2023-06-17T14:48:20.556691Z",
     "start_time": "2023-06-17T14:48:18.706102Z"
    }
   },
   "outputs": [
    {
     "data": {
      "text/html": [
       "<div>\n",
       "<style scoped>\n",
       "    .dataframe tbody tr th:only-of-type {\n",
       "        vertical-align: middle;\n",
       "    }\n",
       "\n",
       "    .dataframe tbody tr th {\n",
       "        vertical-align: top;\n",
       "    }\n",
       "\n",
       "    .dataframe thead th {\n",
       "        text-align: right;\n",
       "    }\n",
       "</style>\n",
       "<table border=\"1\" class=\"dataframe\">\n",
       "  <thead>\n",
       "    <tr style=\"text-align: right;\">\n",
       "      <th></th>\n",
       "      <th>week</th>\n",
       "      <th>sku</th>\n",
       "      <th>weekly_sales</th>\n",
       "      <th>price</th>\n",
       "      <th>price-1</th>\n",
       "      <th>price-2</th>\n",
       "      <th>feat_main_page</th>\n",
       "      <th>trend</th>\n",
       "      <th>month_2</th>\n",
       "      <th>month_3</th>\n",
       "      <th>...</th>\n",
       "      <th>color_white</th>\n",
       "      <th>vendor_2</th>\n",
       "      <th>vendor_3</th>\n",
       "      <th>vendor_4</th>\n",
       "      <th>vendor_5</th>\n",
       "      <th>vendor_6</th>\n",
       "      <th>vendor_7</th>\n",
       "      <th>vendor_8</th>\n",
       "      <th>vendor_9</th>\n",
       "      <th>vendor_10</th>\n",
       "    </tr>\n",
       "  </thead>\n",
       "  <tbody>\n",
       "    <tr>\n",
       "      <th>0</th>\n",
       "      <td>2016-11-14</td>\n",
       "      <td>1</td>\n",
       "      <td>110.0</td>\n",
       "      <td>10.24</td>\n",
       "      <td>9.86</td>\n",
       "      <td>10.16</td>\n",
       "      <td>1</td>\n",
       "      <td>0</td>\n",
       "      <td>0</td>\n",
       "      <td>0</td>\n",
       "      <td>...</td>\n",
       "      <td>0</td>\n",
       "      <td>0</td>\n",
       "      <td>0</td>\n",
       "      <td>0</td>\n",
       "      <td>0</td>\n",
       "      <td>1</td>\n",
       "      <td>0</td>\n",
       "      <td>0</td>\n",
       "      <td>0</td>\n",
       "      <td>0</td>\n",
       "    </tr>\n",
       "    <tr>\n",
       "      <th>1</th>\n",
       "      <td>2016-11-21</td>\n",
       "      <td>1</td>\n",
       "      <td>127.0</td>\n",
       "      <td>8.27</td>\n",
       "      <td>10.24</td>\n",
       "      <td>9.86</td>\n",
       "      <td>1</td>\n",
       "      <td>0</td>\n",
       "      <td>0</td>\n",
       "      <td>0</td>\n",
       "      <td>...</td>\n",
       "      <td>0</td>\n",
       "      <td>0</td>\n",
       "      <td>0</td>\n",
       "      <td>0</td>\n",
       "      <td>0</td>\n",
       "      <td>1</td>\n",
       "      <td>0</td>\n",
       "      <td>0</td>\n",
       "      <td>0</td>\n",
       "      <td>0</td>\n",
       "    </tr>\n",
       "    <tr>\n",
       "      <th>2</th>\n",
       "      <td>2016-11-28</td>\n",
       "      <td>1</td>\n",
       "      <td>84.0</td>\n",
       "      <td>8.83</td>\n",
       "      <td>8.27</td>\n",
       "      <td>10.24</td>\n",
       "      <td>1</td>\n",
       "      <td>0</td>\n",
       "      <td>0</td>\n",
       "      <td>0</td>\n",
       "      <td>...</td>\n",
       "      <td>0</td>\n",
       "      <td>0</td>\n",
       "      <td>0</td>\n",
       "      <td>0</td>\n",
       "      <td>0</td>\n",
       "      <td>1</td>\n",
       "      <td>0</td>\n",
       "      <td>0</td>\n",
       "      <td>0</td>\n",
       "      <td>0</td>\n",
       "    </tr>\n",
       "    <tr>\n",
       "      <th>3</th>\n",
       "      <td>2016-12-05</td>\n",
       "      <td>1</td>\n",
       "      <td>87.0</td>\n",
       "      <td>8.98</td>\n",
       "      <td>8.83</td>\n",
       "      <td>8.27</td>\n",
       "      <td>1</td>\n",
       "      <td>0</td>\n",
       "      <td>0</td>\n",
       "      <td>0</td>\n",
       "      <td>...</td>\n",
       "      <td>0</td>\n",
       "      <td>0</td>\n",
       "      <td>0</td>\n",
       "      <td>0</td>\n",
       "      <td>0</td>\n",
       "      <td>1</td>\n",
       "      <td>0</td>\n",
       "      <td>0</td>\n",
       "      <td>0</td>\n",
       "      <td>0</td>\n",
       "    </tr>\n",
       "    <tr>\n",
       "      <th>4</th>\n",
       "      <td>2016-12-12</td>\n",
       "      <td>1</td>\n",
       "      <td>64.0</td>\n",
       "      <td>10.40</td>\n",
       "      <td>8.98</td>\n",
       "      <td>8.83</td>\n",
       "      <td>1</td>\n",
       "      <td>0</td>\n",
       "      <td>0</td>\n",
       "      <td>0</td>\n",
       "      <td>...</td>\n",
       "      <td>0</td>\n",
       "      <td>0</td>\n",
       "      <td>0</td>\n",
       "      <td>0</td>\n",
       "      <td>0</td>\n",
       "      <td>1</td>\n",
       "      <td>0</td>\n",
       "      <td>0</td>\n",
       "      <td>0</td>\n",
       "      <td>0</td>\n",
       "    </tr>\n",
       "  </tbody>\n",
       "</table>\n",
       "<p>5 rows × 48 columns</p>\n",
       "</div>"
      ],
      "text/plain": [
       "         week  sku  weekly_sales  price  price-1  price-2  feat_main_page  \\\n",
       "0  2016-11-14    1         110.0  10.24     9.86    10.16               1   \n",
       "1  2016-11-21    1         127.0   8.27    10.24     9.86               1   \n",
       "2  2016-11-28    1          84.0   8.83     8.27    10.24               1   \n",
       "3  2016-12-05    1          87.0   8.98     8.83     8.27               1   \n",
       "4  2016-12-12    1          64.0  10.40     8.98     8.83               1   \n",
       "\n",
       "   trend  month_2  month_3  ...  color_white  vendor_2  vendor_3  vendor_4  \\\n",
       "0      0        0        0  ...            0         0         0         0   \n",
       "1      0        0        0  ...            0         0         0         0   \n",
       "2      0        0        0  ...            0         0         0         0   \n",
       "3      0        0        0  ...            0         0         0         0   \n",
       "4      0        0        0  ...            0         0         0         0   \n",
       "\n",
       "   vendor_5  vendor_6  vendor_7  vendor_8  vendor_9  vendor_10  \n",
       "0         0         1         0         0         0          0  \n",
       "1         0         1         0         0         0          0  \n",
       "2         0         1         0         0         0          0  \n",
       "3         0         1         0         0         0          0  \n",
       "4         0         1         0         0         0          0  \n",
       "\n",
       "[5 rows x 48 columns]"
      ]
     },
     "execution_count": 1,
     "metadata": {},
     "output_type": "execute_result"
    }
   ],
   "source": [
    "import numpy as np\n",
    "import pandas as pd\n",
    "df=pd.read_csv('data_processed.csv')\n",
    "\n",
    "df.head()"
   ]
  },
  {
   "cell_type": "code",
   "execution_count": 2,
   "id": "daf71102",
   "metadata": {
    "ExecuteTime": {
     "end_time": "2023-06-17T14:48:21.429322Z",
     "start_time": "2023-06-17T14:48:21.337160Z"
    }
   },
   "outputs": [],
   "source": [
    "skuSet = list(df.sku.unique())\n",
    "skuData = {}\n",
    "\n",
    "# removing dates, target variable, sku number\n",
    "colnames = [i for i in df.columns if i not in ['week', 'weekly_sales','sku']]\n",
    "\n",
    "for i in skuSet:\n",
    "    df_i = df[df.sku == i]\n",
    "#     print(df_i[colnames].values)\n",
    "    skuData[i] = {'X': df_i[colnames].values,\n",
    "                 'y': df_i.weekly_sales.values}"
   ]
  },
  {
   "cell_type": "code",
   "execution_count": 3,
   "id": "1799f5d1",
   "metadata": {
    "ExecuteTime": {
     "end_time": "2023-06-17T14:48:27.321085Z",
     "start_time": "2023-06-17T14:48:27.218794Z"
    }
   },
   "outputs": [],
   "source": [
    "## Structure by SKU ##\n",
    "skuSet = list(df.sku.unique())\n",
    "skuData = {}\n",
    "colnames = [i for i in df.columns if i not in [\"week\",\"weekly_sales\",\"sku\"] ]\n",
    "for i in skuSet:\n",
    "    df_i = df[df.sku == i]\n",
    "    skuData[i] = {'X': df_i[colnames].values,\n",
    "                'y': df_i.weekly_sales.values}\n",
    "\n",
    "## Decentralized Structure ##\n",
    "X_dict = {}\n",
    "y_dict = {}\n",
    "\n",
    "skuModels = {}\n",
    "y_pred = []\n",
    "y_test = []\n",
    "y_train = []\n",
    "\n",
    "for i in skuSet:\n",
    "  \n",
    "    X_train_i,X_test_i = np.split(skuData[i][\"X\"], [68]) #split for X\n",
    "    y_train_i,y_test_i = np.split(skuData[i][\"y\"], [68]) #split for y \n",
    "\n",
    "    X_dict[i] = {'train': X_train_i, 'test': X_test_i} #filling dictionary\n",
    "    y_dict[i] = {'train': y_train_i, 'test': y_test_i}\n",
    "\n",
    "    y_test += list(y_test_i) #creating the complete training array\n",
    "    y_train += list(y_train_i) #creating the complete testing array\n"
   ]
  },
  {
   "cell_type": "code",
   "execution_count": 4,
   "id": "fd230bf8",
   "metadata": {
    "ExecuteTime": {
     "end_time": "2023-06-17T14:48:29.224640Z",
     "start_time": "2023-06-17T14:48:29.208270Z"
    }
   },
   "outputs": [],
   "source": [
    "## Build Subset\n",
    "X_dict_subsplit = {} \n",
    "y_dict_subsplit = {} \n",
    "\n",
    "y_validation = [] \n",
    "y_subtrain = [] \n",
    "\n",
    "for i in skuSet:\n",
    "\n",
    "    X_train_i,X_test_i = np.split(X_dict[i][\"train\"], [48]) #split for X\n",
    "    y_train_i,y_test_i = np.split(y_dict[i][\"train\"], [48]) #split for y \n",
    "\n",
    "    X_dict_subsplit[i] = {'train': X_train_i, 'test': X_test_i} #filling dictionary\n",
    "    y_dict_subsplit[i] = {'train': y_train_i, 'test': y_test_i}\n",
    "\n",
    "    y_validation += list(y_test_i) #creating the complete training array\n",
    "    y_subtrain += list(y_train_i) #creating the complete testing array\n",
    "     "
   ]
  },
  {
   "cell_type": "markdown",
   "id": "fdb239fa",
   "metadata": {},
   "source": [
    "#### Decision Tree"
   ]
  },
  {
   "cell_type": "code",
   "execution_count": 5,
   "id": "545fcf60",
   "metadata": {
    "ExecuteTime": {
     "end_time": "2023-06-17T14:48:38.067318Z",
     "start_time": "2023-06-17T14:48:31.044892Z"
    }
   },
   "outputs": [
    {
     "name": "stdout",
     "output_type": "stream",
     "text": [
      "Model number: 1\n",
      "  Parameters: [28, 4]\n",
      "Model number: 2\n",
      "  Parameters: [33, 4]\n",
      "Model number: 3\n",
      "  Parameters: [36, 8]\n",
      "Model number: 4\n",
      "  Parameters: [42, 5]\n",
      "Model number: 5\n",
      "  Parameters: [33, 4]\n",
      "Model number: 6\n",
      "  Parameters: [41, 5]\n",
      "Model number: 7\n",
      "  Parameters: [3, 7]\n",
      "Model number: 8\n",
      "  Parameters: [22, 2]\n",
      "Model number: 9\n",
      "  Parameters: [42, 9]\n",
      "Model number: 10\n",
      "  Parameters: [29, 2]\n",
      "Model number: 11\n",
      "  Parameters: [40, 7]\n",
      "Model number: 12\n",
      "  Parameters: [6, 8]\n",
      "Model number: 13\n",
      "  Parameters: [22, 2]\n",
      "Model number: 14\n",
      "  Parameters: [12, 8]\n",
      "Model number: 15\n",
      "  Parameters: [25, 4]\n",
      "Model number: 16\n",
      "  Parameters: [26, 6]\n",
      "Model number: 17\n",
      "  Parameters: [2, 2]\n",
      "Model number: 18\n",
      "  Parameters: [11, 2]\n",
      "Model number: 19\n",
      "  Parameters: [14, 3]\n",
      "Model number: 20\n",
      "  Parameters: [41, 9]\n",
      "Model number: 21\n",
      "  Parameters: [34, 3]\n",
      "Model number: 22\n",
      "  Parameters: [8, 8]\n",
      "Model number: 23\n",
      "  Parameters: [36, 9]\n",
      "Model number: 24\n",
      "  Parameters: [7, 9]\n",
      "Model number: 25\n",
      "  Parameters: [28, 4]\n",
      "Model number: 26\n",
      "  Parameters: [7, 4]\n",
      "Model number: 27\n",
      "  Parameters: [2, 6]\n",
      "Model number: 28\n",
      "  Parameters: [39, 8]\n",
      "Model number: 29\n",
      "  Parameters: [11, 2]\n",
      "Model number: 30\n",
      "  Parameters: [11, 7]\n",
      "Model number: 31\n",
      "  Parameters: [44, 8]\n",
      "Model number: 32\n",
      "  Parameters: [39, 8]\n",
      "Model number: 33\n",
      "  Parameters: [14, 2]\n",
      "Model number: 34\n",
      "  Parameters: [43, 9]\n",
      "Model number: 35\n",
      "  Parameters: [25, 2]\n",
      "Model number: 36\n",
      "  Parameters: [31, 4]\n",
      "Model number: 37\n",
      "  Parameters: [10, 6]\n",
      "Model number: 38\n",
      "  Parameters: [42, 9]\n",
      "Model number: 39\n",
      "  Parameters: [31, 4]\n",
      "Model number: 40\n",
      "  Parameters: [43, 9]\n",
      "Model number: 41\n",
      "  Parameters: [40, 6]\n",
      "Model number: 42\n",
      "  Parameters: [14, 4]\n",
      "Model number: 43\n",
      "  Parameters: [17, 4]\n",
      "Model number: 44\n",
      "  Parameters: [9, 3]\n",
      "Model number: 45\n",
      "  Parameters: [8, 2]\n",
      "Model number: 46\n",
      "  Parameters: [4, 3]\n",
      "Model number: 47\n",
      "  Parameters: [14, 7]\n",
      "Model number: 48\n",
      "  Parameters: [27, 9]\n",
      "Model number: 49\n",
      "  Parameters: [2, 3]\n",
      "Model number: 50\n",
      "  Parameters: [31, 2]\n",
      "\n",
      "Best Model:\n",
      "Parameters: [14, 4]\n",
      "Validation R2: 0.6849106123545796\n",
      "OOS R2: 0.398778830984148\n"
     ]
    }
   ],
   "source": [
    "import random\n",
    "from sklearn.tree import DecisionTreeRegressor, plot_tree\n",
    "from sklearn.metrics import r2_score\n",
    "\n",
    "max_features_ = list(range(2,45)) \n",
    "max_depth_ = list(range(2,10))\n",
    "params=[]\n",
    "maximum_score=0\n",
    "\n",
    "#selection of parameters to test\n",
    "random.seed(5)\n",
    "mf_ = random.choices(max_features_, k=50)\n",
    "md_ = random.choices(max_depth_, k=50)\n",
    "\n",
    "## Selection of the best model\n",
    "for i in range (50):\n",
    "    print('Model number:',i+1)\n",
    "    #selection of parameters to test\n",
    "    mf = mf_[i]\n",
    "    md = md_[i]\n",
    "    print('  Parameters:',[mf,md])\n",
    "    #model\n",
    "    y_pred = []\n",
    "    for i in skuSet:\n",
    "        model_i = DecisionTreeRegressor(max_features=mf,max_depth=md,random_state=0).fit(X_dict_subsplit[i]['train'] , y_dict_subsplit[i]['train'])\n",
    "        y_pred += list(model_i.predict(X_dict_subsplit[i]['test']))\n",
    "    score=r2_score(y_validation, np.array(y_pred))\n",
    "    #compare performances on validation data\n",
    "    if score>maximum_score:\n",
    "        params = [mf,md]\n",
    "        maximum_score = score\n",
    "\n",
    "## Test on fresh data\n",
    "mf,md = params\n",
    "y_pred = []\n",
    "for i in skuSet:\n",
    "    model_i = DecisionTreeRegressor(max_features=mf,max_depth=md,random_state=0).fit(X_dict[i]['train'] , y_dict[i]['train'])\n",
    "    y_pred += list(model_i.predict(X_dict[i]['test']))\n",
    "oos_r2=r2_score(y_test, np.array(y_pred))\n",
    "\n",
    "print('\\nBest Model:')\n",
    "print('Parameters:',params)\n",
    "print('Validation R2:',maximum_score)\n",
    "print('OOS R2:', oos_r2)"
   ]
  },
  {
   "cell_type": "code",
   "execution_count": 11,
   "id": "4a75657b",
   "metadata": {
    "ExecuteTime": {
     "end_time": "2023-06-17T17:01:37.284990Z",
     "start_time": "2023-06-17T17:01:37.253656Z"
    }
   },
   "outputs": [
    {
     "data": {
      "text/html": [
       "<div>\n",
       "<style scoped>\n",
       "    .dataframe tbody tr th:only-of-type {\n",
       "        vertical-align: middle;\n",
       "    }\n",
       "\n",
       "    .dataframe tbody tr th {\n",
       "        vertical-align: top;\n",
       "    }\n",
       "\n",
       "    .dataframe thead th {\n",
       "        text-align: right;\n",
       "    }\n",
       "</style>\n",
       "<table border=\"1\" class=\"dataframe\">\n",
       "  <thead>\n",
       "    <tr style=\"text-align: right;\">\n",
       "      <th></th>\n",
       "    </tr>\n",
       "  </thead>\n",
       "  <tbody>\n",
       "    <tr>\n",
       "      <th>R2</th>\n",
       "    </tr>\n",
       "  </tbody>\n",
       "</table>\n",
       "</div>"
      ],
      "text/plain": [
       "Empty DataFrame\n",
       "Columns: []\n",
       "Index: [R2]"
      ]
     },
     "execution_count": 11,
     "metadata": {},
     "output_type": "execute_result"
    }
   ],
   "source": [
    "res=pd.DataFrame(index=['R2'])\n",
    "res"
   ]
  },
  {
   "cell_type": "code",
   "execution_count": 12,
   "id": "8731ff78",
   "metadata": {
    "ExecuteTime": {
     "end_time": "2023-06-17T17:01:38.241451Z",
     "start_time": "2023-06-17T17:01:38.197238Z"
    }
   },
   "outputs": [
    {
     "name": "stdout",
     "output_type": "stream",
     "text": [
      "OOS R2: 0.399\n",
      "Time to compute: 0.025  sec\n"
     ]
    }
   ],
   "source": [
    "import time \n",
    "tZero=time.time()\n",
    "\n",
    "y_pred = []\n",
    "for i in skuSet:\n",
    "    model_i = DecisionTreeRegressor(max_features=14, max_depth=4, random_state=0).fit(X_dict[i]['train'] , y_dict[i]['train'])\n",
    "    y_pred += list(model_i.predict(X_dict[i]['test']))\n",
    "\n",
    "print('OOS R2:',round(r2_score(y_test, np.array(y_pred)),3))\n",
    "\n",
    "t = time.time()-tZero\n",
    "print(\"Time to compute:\",round(t,3),\" sec\")\n",
    "res['decentralized-DT']=[r2_score(y_test, np.array(y_pred))]"
   ]
  },
  {
   "cell_type": "markdown",
   "id": "fe68e3dd",
   "metadata": {},
   "source": [
    "#### Random Forest"
   ]
  },
  {
   "cell_type": "code",
   "execution_count": 7,
   "id": "9a0ce5af",
   "metadata": {
    "ExecuteTime": {
     "end_time": "2023-06-17T15:01:23.051122Z",
     "start_time": "2023-06-17T14:48:44.083256Z"
    }
   },
   "outputs": [
    {
     "name": "stdout",
     "output_type": "stream",
     "text": [
      "Model number: 1\n",
      "  Parameters: [28, 4]\n",
      "Model number: 2\n",
      "  Parameters: [33, 4]\n",
      "Model number: 3\n",
      "  Parameters: [36, 8]\n",
      "Model number: 4\n",
      "  Parameters: [42, 5]\n",
      "Model number: 5\n",
      "  Parameters: [33, 4]\n",
      "Model number: 6\n",
      "  Parameters: [41, 5]\n",
      "Model number: 7\n",
      "  Parameters: [3, 7]\n",
      "Model number: 8\n",
      "  Parameters: [22, 2]\n",
      "Model number: 9\n",
      "  Parameters: [42, 9]\n",
      "Model number: 10\n",
      "  Parameters: [29, 2]\n",
      "Model number: 11\n",
      "  Parameters: [40, 7]\n",
      "Model number: 12\n",
      "  Parameters: [6, 8]\n",
      "Model number: 13\n",
      "  Parameters: [22, 2]\n",
      "Model number: 14\n",
      "  Parameters: [12, 8]\n",
      "Model number: 15\n",
      "  Parameters: [25, 4]\n",
      "Model number: 16\n",
      "  Parameters: [26, 6]\n",
      "Model number: 17\n",
      "  Parameters: [2, 2]\n",
      "Model number: 18\n",
      "  Parameters: [11, 2]\n",
      "Model number: 19\n",
      "  Parameters: [14, 3]\n",
      "Model number: 20\n",
      "  Parameters: [41, 9]\n",
      "Model number: 21\n",
      "  Parameters: [34, 3]\n",
      "Model number: 22\n",
      "  Parameters: [8, 8]\n",
      "Model number: 23\n",
      "  Parameters: [36, 9]\n",
      "Model number: 24\n",
      "  Parameters: [7, 9]\n",
      "Model number: 25\n",
      "  Parameters: [28, 4]\n",
      "Model number: 26\n",
      "  Parameters: [7, 4]\n",
      "Model number: 27\n",
      "  Parameters: [2, 6]\n",
      "Model number: 28\n",
      "  Parameters: [39, 8]\n",
      "Model number: 29\n",
      "  Parameters: [11, 2]\n",
      "Model number: 30\n",
      "  Parameters: [11, 7]\n",
      "Model number: 31\n",
      "  Parameters: [44, 8]\n",
      "Model number: 32\n",
      "  Parameters: [39, 8]\n",
      "Model number: 33\n",
      "  Parameters: [14, 2]\n",
      "Model number: 34\n",
      "  Parameters: [43, 9]\n",
      "Model number: 35\n",
      "  Parameters: [25, 2]\n",
      "Model number: 36\n",
      "  Parameters: [31, 4]\n",
      "Model number: 37\n",
      "  Parameters: [10, 6]\n",
      "Model number: 38\n",
      "  Parameters: [42, 9]\n",
      "Model number: 39\n",
      "  Parameters: [31, 4]\n",
      "Model number: 40\n",
      "  Parameters: [43, 9]\n",
      "Model number: 41\n",
      "  Parameters: [40, 6]\n",
      "Model number: 42\n",
      "  Parameters: [14, 4]\n",
      "Model number: 43\n",
      "  Parameters: [17, 4]\n",
      "Model number: 44\n",
      "  Parameters: [9, 3]\n",
      "Model number: 45\n",
      "  Parameters: [8, 2]\n",
      "Model number: 46\n",
      "  Parameters: [4, 3]\n",
      "Model number: 47\n",
      "  Parameters: [14, 7]\n",
      "Model number: 48\n",
      "  Parameters: [27, 9]\n",
      "Model number: 49\n",
      "  Parameters: [2, 3]\n",
      "Model number: 50\n",
      "  Parameters: [31, 2]\n",
      "\n",
      "Best Model:\n",
      "Parameters: [44, 8]\n",
      "Validation R2: 0.5713288104700193\n",
      "OOS R2: 0.5403167762404049\n"
     ]
    }
   ],
   "source": [
    "from sklearn.ensemble import RandomForestRegressor\n",
    "\n",
    "max_features_ = list(range(2,45)) \n",
    "max_depth_ = list(range(2,10))\n",
    "params=[]\n",
    "maximum_score=0\n",
    "\n",
    "#selection of parameters to test\n",
    "random.seed(5)\n",
    "mf_ = random.choices(max_features_, k=50)\n",
    "md_ = random.choices(max_depth_, k=50)\n",
    "\n",
    "## Iterations to select best model\n",
    "for i in range (50):\n",
    "    print('Model number:',i+1)\n",
    "    #selection of parameters to test\n",
    "    mf = mf_[i]\n",
    "    md = md_[i]\n",
    "    print('  Parameters:',[mf,md])\n",
    "    #model\n",
    "    y_pred = []\n",
    "    for i in skuSet:\n",
    "        model_i = RandomForestRegressor(max_features=mf, max_depth=md, random_state=42).fit(X_dict_subsplit[i]['train'] , y_dict_subsplit[i]['train'])\n",
    "        y_pred += list(model_i.predict(X_dict_subsplit[i]['test']))\n",
    "    score=r2_score(y_validation, np.array(y_pred))\n",
    "    #compare performances on validation data\n",
    "    if score > maximum_score:\n",
    "        params = [mf,md]\n",
    "        maximum_score = score\n",
    "\n",
    "## Test on fresh data\n",
    "mf,md=params\n",
    "y_pred = []\n",
    "\n",
    "for i in skuSet:\n",
    "    model_i = RandomForestRegressor(max_features=mf, max_depth=md, random_state=42).fit(X_dict[i]['train'] , y_dict[i]['train'])\n",
    "    y_pred += list(model_i.predict(X_dict[i]['test']))\n",
    "\n",
    "oos_r2=r2_score(y_test, np.array(y_pred))\n",
    "\n",
    "print('\\nBest Model:')\n",
    "print('Parameters:',params)\n",
    "print('Validation R2:',maximum_score)\n",
    "print('OOS R2:', oos_r2)"
   ]
  },
  {
   "cell_type": "code",
   "execution_count": 13,
   "id": "9d2e2090",
   "metadata": {
    "ExecuteTime": {
     "end_time": "2023-06-17T17:01:49.521292Z",
     "start_time": "2023-06-17T17:01:43.870397Z"
    }
   },
   "outputs": [
    {
     "name": "stdout",
     "output_type": "stream",
     "text": [
      "OOS R2: 0.559\n",
      "Time to compute: 5.632  sec\n"
     ]
    }
   ],
   "source": [
    "\n",
    "tZero=time.time()\n",
    "\n",
    "y_pred = []\n",
    "for i in skuSet:\n",
    "    model_i = RandomForestRegressor(max_features=44,\n",
    "                                  max_depth=8,\n",
    "                                  random_state=0).fit(X_dict[i]['train'] , y_dict[i]['train'])\n",
    "    y_pred += list(model_i.predict(X_dict[i]['test']))\n",
    "\n",
    "print('OOS R2:',round(r2_score(y_test, np.array(y_pred)),3))\n",
    "\n",
    "t = time.time()-tZero\n",
    "print(\"Time to compute:\",round(t,3),\" sec\")\n",
    "\n",
    "res['decentralized-RF']=[r2_score(y_test, np.array(y_pred))]"
   ]
  },
  {
   "cell_type": "markdown",
   "id": "f081c9d7",
   "metadata": {},
   "source": [
    "#### Gradient Boosting"
   ]
  },
  {
   "cell_type": "code",
   "execution_count": 17,
   "id": "b7ef6dfc",
   "metadata": {
    "ExecuteTime": {
     "end_time": "2023-06-17T17:04:51.181514Z",
     "start_time": "2023-06-17T17:03:18.001821Z"
    }
   },
   "outputs": [
    {
     "name": "stdout",
     "output_type": "stream",
     "text": [
      "Model number: 1\n",
      "  Parameters: [28, 4, 0.5]\n",
      "  R2: 0.4166304539569655\n",
      "Model number: 2\n",
      "  Parameters: [33, 4, 0.1]\n",
      "  R2: 0.44220877874153786\n",
      "Model number: 3\n",
      "  Parameters: [36, 8, 0.05]\n",
      "  R2: 0.43610639782904914\n",
      "Model number: 4\n",
      "  Parameters: [42, 5, 0.01]\n",
      "  R2: 0.36258621458042184\n",
      "Model number: 5\n",
      "  Parameters: [33, 4, 0.1]\n",
      "  R2: 0.44220877874153786\n",
      "Model number: 6\n",
      "  Parameters: [41, 5, 0.5]\n",
      "  R2: 0.4618685984700921\n",
      "Model number: 7\n",
      "  Parameters: [3, 7, 0.05]\n",
      "  R2: 0.23275046781581632\n",
      "Model number: 8\n",
      "  Parameters: [22, 2, 0.05]\n",
      "  R2: 0.3554789148712222\n",
      "Model number: 9\n",
      "  Parameters: [42, 9, 0.01]\n",
      "  R2: 0.34681921684993167\n",
      "Model number: 10\n",
      "  Parameters: [29, 2, 0.5]\n",
      "  R2: 0.49737574680748886\n",
      "Model number: 11\n",
      "  Parameters: [40, 7, 0.01]\n",
      "  R2: 0.33912278640721794\n",
      "Model number: 12\n",
      "  Parameters: [6, 8, 0.05]\n",
      "  R2: 0.28029920671548325\n",
      "Model number: 13\n",
      "  Parameters: [22, 2, 0.5]\n",
      "  R2: 0.5663441850269925\n",
      "Model number: 14\n",
      "  Parameters: [12, 8, 0.01]\n",
      "  R2: 0.2619961812033985\n",
      "Model number: 15\n",
      "  Parameters: [25, 4, 0.1]\n",
      "  R2: 0.4174765157487702\n",
      "Model number: 16\n",
      "  Parameters: [26, 6, 0.5]\n",
      "  R2: 0.47534184802464385\n",
      "Model number: 17\n",
      "  Parameters: [2, 2, 0.1]\n",
      "  R2: 0.16558247866540254\n",
      "Model number: 18\n",
      "  Parameters: [11, 2, 0.5]\n",
      "  R2: 0.29178349677497883\n",
      "Model number: 19\n",
      "  Parameters: [14, 3, 0.01]\n",
      "  R2: 0.24592413083777842\n",
      "Model number: 20\n",
      "  Parameters: [41, 9, 0.05]\n",
      "  R2: 0.4429760144994159\n",
      "Model number: 21\n",
      "  Parameters: [34, 3, 0.01]\n",
      "  R2: 0.3257132029557136\n",
      "Model number: 22\n",
      "  Parameters: [8, 8, 0.5]\n",
      "  R2: 0.06287523115709404\n",
      "Model number: 23\n",
      "  Parameters: [36, 9, 0.05]\n",
      "  R2: 0.4328401417733805\n",
      "Model number: 24\n",
      "  Parameters: [7, 9, 0.05]\n",
      "  R2: 0.29871645281662507\n",
      "Model number: 25\n",
      "  Parameters: [28, 4, 0.5]\n",
      "  R2: 0.4166304539569655\n",
      "Model number: 26\n",
      "  Parameters: [7, 4, 0.5]\n",
      "  R2: 0.29010436121334404\n",
      "Model number: 27\n",
      "  Parameters: [2, 6, 0.5]\n",
      "  R2: 0.021550100736472455\n",
      "Model number: 28\n",
      "  Parameters: [39, 8, 0.05]\n",
      "  R2: 0.44045080989990604\n",
      "Model number: 29\n",
      "  Parameters: [11, 2, 0.05]\n",
      "  R2: 0.3263139404552652\n",
      "Model number: 30\n",
      "  Parameters: [11, 7, 0.1]\n",
      "  R2: 0.2977510965433302\n",
      "Model number: 31\n",
      "  Parameters: [44, 8, 0.05]\n",
      "  R2: 0.4672181600416496\n",
      "Model number: 32\n",
      "  Parameters: [39, 8, 0.05]\n",
      "  R2: 0.44045080989990604\n",
      "Model number: 33\n",
      "  Parameters: [14, 2, 0.05]\n",
      "  R2: 0.30811020904483166\n",
      "Model number: 34\n",
      "  Parameters: [43, 9, 0.01]\n",
      "  R2: 0.35378365567822667\n",
      "Model number: 35\n",
      "  Parameters: [25, 2, 0.05]\n",
      "  R2: 0.4127986666085628\n",
      "Model number: 36\n",
      "  Parameters: [31, 4, 0.5]\n",
      "  R2: 0.606650246121987\n",
      "Model number: 37\n",
      "  Parameters: [10, 6, 0.5]\n",
      "  R2: 0.33915857963245855\n",
      "Model number: 38\n",
      "  Parameters: [42, 9, 0.1]\n",
      "  R2: 0.44119559043467416\n",
      "Model number: 39\n",
      "  Parameters: [31, 4, 0.05]\n",
      "  R2: 0.46179933591701616\n",
      "Model number: 40\n",
      "  Parameters: [43, 9, 0.05]\n",
      "  R2: 0.4543678824832199\n",
      "Model number: 41\n",
      "  Parameters: [40, 6, 0.01]\n",
      "  R2: 0.33768388446234354\n",
      "Model number: 42\n",
      "  Parameters: [14, 4, 0.05]\n",
      "  R2: 0.3588977387061889\n",
      "Model number: 43\n",
      "  Parameters: [17, 4, 0.5]\n",
      "  R2: 0.334434058921833\n",
      "Model number: 44\n",
      "  Parameters: [9, 3, 0.5]\n",
      "  R2: 0.2880178397672063\n",
      "Model number: 45\n",
      "  Parameters: [8, 2, 0.05]\n",
      "  R2: 0.23004387200545928\n",
      "Model number: 46\n",
      "  Parameters: [4, 3, 0.5]\n",
      "  R2: -0.04790594196852438\n",
      "Model number: 47\n",
      "  Parameters: [14, 7, 0.5]\n",
      "  R2: 0.507654157802168\n",
      "Model number: 48\n",
      "  Parameters: [27, 9, 0.1]\n",
      "  R2: 0.39343178691329384\n",
      "Model number: 49\n",
      "  Parameters: [2, 3, 0.1]\n",
      "  R2: 0.1356741396659299\n",
      "Model number: 50\n",
      "  Parameters: [31, 2, 0.5]\n",
      "  R2: 0.5006739430090812\n",
      "\n",
      "Best Model:\n",
      "Parameters: [31, 4, 0.5]\n",
      "Validation R2: 0.606650246121987\n",
      "OOS R2: 0.4966031946951096\n"
     ]
    }
   ],
   "source": [
    "from sklearn.ensemble import GradientBoostingRegressor\n",
    "max_features_ = list(range(2,45)) \n",
    "max_depth_ = list(range(2,10))\n",
    "learning_rate_ = [0.01, 0.05, 0.1, 0.5]\n",
    "params=[]\n",
    "maximum_score=0\n",
    "\n",
    "#selection of parameters to test\n",
    "random.seed(5)\n",
    "mf_ = random.choices(max_features_, k=50)\n",
    "md_ = random.choices(max_depth_, k=50)\n",
    "lr_ = random.choices(learning_rate_, k=50)\n",
    "\n",
    "## Iterations to select best model\n",
    "for i in range (50):\n",
    "    print('Model number:',i+1)\n",
    "    \n",
    "    #selection of parameters to test\n",
    "    mf = mf_[i]\n",
    "    md = md_[i]\n",
    "    lr = lr_[i]\n",
    "    print('  Parameters:',[mf,md,lr])\n",
    "    \n",
    "    #model\n",
    "    y_pred = []\n",
    "    \n",
    "    for i in skuSet:\n",
    "        model_i = GradientBoostingRegressor(max_features=mf,\n",
    "                                            max_depth=md,\n",
    "                                            learning_rate=lr,\n",
    "                                            random_state=0).fit(X_dict_subsplit[i]['train'] , y_dict_subsplit[i]['train'])\n",
    "        y_pred += list(model_i.predict(X_dict_subsplit[i]['test']))\n",
    "    score=r2_score(y_validation, np.array(y_pred))\n",
    "    print('  R2:',score)\n",
    " \n",
    "    #compare performances on validation data\n",
    "    if score > maximum_score:\n",
    "        params = [mf,md,lr]\n",
    "        maximum_score = score\n",
    "\n",
    "## Test on fresh data\n",
    "mf,md,lr=params\n",
    "y_pred = []\n",
    "\n",
    "for i in skuSet:\n",
    "    model_i = GradientBoostingRegressor(max_features=mf,\n",
    "                                      max_depth=md,\n",
    "                                      learning_rate=lr,\n",
    "                                      random_state=0)\n",
    "    \n",
    "    model_i.fit(X_dict[i]['train'] , y_dict[i]['train'])\n",
    "    \n",
    "    y_pred += list(model_i.predict(X_dict[i]['test']))\n",
    "\n",
    "oos_r2=r2_score(y_test, np.array(y_pred))\n",
    "\n",
    "print('\\nBest Model:')\n",
    "print('Parameters:',params)\n",
    "print('Validation R2:',maximum_score)\n",
    "print('OOS R2:', oos_r2) "
   ]
  },
  {
   "cell_type": "code",
   "execution_count": 18,
   "id": "e786071b",
   "metadata": {
    "ExecuteTime": {
     "end_time": "2023-06-17T17:05:20.529798Z",
     "start_time": "2023-06-17T17:05:18.643313Z"
    }
   },
   "outputs": [
    {
     "name": "stdout",
     "output_type": "stream",
     "text": [
      "OOS R2: 0.497\n",
      "Time to compute: 1.877  sec\n"
     ]
    }
   ],
   "source": [
    "tZero=time.time()\n",
    "y_pred = []\n",
    "for i in skuSet:\n",
    "    model_i = GradientBoostingRegressor(max_features=31,\n",
    "                                        max_depth=4,\n",
    "                                        learning_rate=0.5,\n",
    "                                        random_state=0).fit(X_dict[i]['train'] , y_dict[i]['train'])\n",
    "    y_pred += list(model_i.predict(X_dict[i]['test']))\n",
    "\n",
    "print('OOS R2:',round(r2_score(y_test, np.array(y_pred)),3))\n",
    "\n",
    "\n",
    "t = time.time()-tZero\n",
    "print(\"Time to compute:\",round(t,3),\" sec\")\n",
    "\n",
    "res['decentralized-GB']=[r2_score(y_test, np.array(y_pred))]"
   ]
  },
  {
   "cell_type": "code",
   "execution_count": 19,
   "id": "a560955e",
   "metadata": {
    "ExecuteTime": {
     "end_time": "2023-06-17T17:05:25.401287Z",
     "start_time": "2023-06-17T17:05:25.389105Z"
    }
   },
   "outputs": [
    {
     "data": {
      "text/html": [
       "<div>\n",
       "<style scoped>\n",
       "    .dataframe tbody tr th:only-of-type {\n",
       "        vertical-align: middle;\n",
       "    }\n",
       "\n",
       "    .dataframe tbody tr th {\n",
       "        vertical-align: top;\n",
       "    }\n",
       "\n",
       "    .dataframe thead th {\n",
       "        text-align: right;\n",
       "    }\n",
       "</style>\n",
       "<table border=\"1\" class=\"dataframe\">\n",
       "  <thead>\n",
       "    <tr style=\"text-align: right;\">\n",
       "      <th></th>\n",
       "      <th>decentralized-DT</th>\n",
       "      <th>decentralized-RF</th>\n",
       "      <th>decentralized-GB</th>\n",
       "    </tr>\n",
       "  </thead>\n",
       "  <tbody>\n",
       "    <tr>\n",
       "      <th>R2</th>\n",
       "      <td>0.398779</td>\n",
       "      <td>0.558817</td>\n",
       "      <td>0.496603</td>\n",
       "    </tr>\n",
       "  </tbody>\n",
       "</table>\n",
       "</div>"
      ],
      "text/plain": [
       "    decentralized-DT  decentralized-RF  decentralized-GB\n",
       "R2          0.398779          0.558817          0.496603"
      ]
     },
     "execution_count": 19,
     "metadata": {},
     "output_type": "execute_result"
    }
   ],
   "source": [
    "res"
   ]
  },
  {
   "cell_type": "markdown",
   "id": "9dca838d",
   "metadata": {},
   "source": [
    "# Clustering"
   ]
  },
  {
   "cell_type": "code",
   "execution_count": 20,
   "id": "cad5d1a5",
   "metadata": {
    "ExecuteTime": {
     "end_time": "2023-06-17T17:05:47.370666Z",
     "start_time": "2023-06-17T17:05:47.312567Z"
    }
   },
   "outputs": [
    {
     "data": {
      "text/html": [
       "<div>\n",
       "<style scoped>\n",
       "    .dataframe tbody tr th:only-of-type {\n",
       "        vertical-align: middle;\n",
       "    }\n",
       "\n",
       "    .dataframe tbody tr th {\n",
       "        vertical-align: top;\n",
       "    }\n",
       "\n",
       "    .dataframe thead th {\n",
       "        text-align: right;\n",
       "    }\n",
       "</style>\n",
       "<table border=\"1\" class=\"dataframe\">\n",
       "  <thead>\n",
       "    <tr style=\"text-align: right;\">\n",
       "      <th></th>\n",
       "      <th>week</th>\n",
       "      <th>sku</th>\n",
       "      <th>weekly_sales</th>\n",
       "      <th>price</th>\n",
       "      <th>price-1</th>\n",
       "      <th>price-2</th>\n",
       "      <th>feat_main_page</th>\n",
       "      <th>trend</th>\n",
       "      <th>month_2</th>\n",
       "      <th>month_3</th>\n",
       "      <th>...</th>\n",
       "      <th>color_white</th>\n",
       "      <th>vendor_2</th>\n",
       "      <th>vendor_3</th>\n",
       "      <th>vendor_4</th>\n",
       "      <th>vendor_5</th>\n",
       "      <th>vendor_6</th>\n",
       "      <th>vendor_7</th>\n",
       "      <th>vendor_8</th>\n",
       "      <th>vendor_9</th>\n",
       "      <th>vendor_10</th>\n",
       "    </tr>\n",
       "  </thead>\n",
       "  <tbody>\n",
       "    <tr>\n",
       "      <th>0</th>\n",
       "      <td>2016-11-14</td>\n",
       "      <td>1</td>\n",
       "      <td>110.0</td>\n",
       "      <td>10.24</td>\n",
       "      <td>9.86</td>\n",
       "      <td>10.16</td>\n",
       "      <td>1</td>\n",
       "      <td>0</td>\n",
       "      <td>0</td>\n",
       "      <td>0</td>\n",
       "      <td>...</td>\n",
       "      <td>0</td>\n",
       "      <td>0</td>\n",
       "      <td>0</td>\n",
       "      <td>0</td>\n",
       "      <td>0</td>\n",
       "      <td>1</td>\n",
       "      <td>0</td>\n",
       "      <td>0</td>\n",
       "      <td>0</td>\n",
       "      <td>0</td>\n",
       "    </tr>\n",
       "    <tr>\n",
       "      <th>1</th>\n",
       "      <td>2016-11-21</td>\n",
       "      <td>1</td>\n",
       "      <td>127.0</td>\n",
       "      <td>8.27</td>\n",
       "      <td>10.24</td>\n",
       "      <td>9.86</td>\n",
       "      <td>1</td>\n",
       "      <td>0</td>\n",
       "      <td>0</td>\n",
       "      <td>0</td>\n",
       "      <td>...</td>\n",
       "      <td>0</td>\n",
       "      <td>0</td>\n",
       "      <td>0</td>\n",
       "      <td>0</td>\n",
       "      <td>0</td>\n",
       "      <td>1</td>\n",
       "      <td>0</td>\n",
       "      <td>0</td>\n",
       "      <td>0</td>\n",
       "      <td>0</td>\n",
       "    </tr>\n",
       "    <tr>\n",
       "      <th>2</th>\n",
       "      <td>2016-11-28</td>\n",
       "      <td>1</td>\n",
       "      <td>84.0</td>\n",
       "      <td>8.83</td>\n",
       "      <td>8.27</td>\n",
       "      <td>10.24</td>\n",
       "      <td>1</td>\n",
       "      <td>0</td>\n",
       "      <td>0</td>\n",
       "      <td>0</td>\n",
       "      <td>...</td>\n",
       "      <td>0</td>\n",
       "      <td>0</td>\n",
       "      <td>0</td>\n",
       "      <td>0</td>\n",
       "      <td>0</td>\n",
       "      <td>1</td>\n",
       "      <td>0</td>\n",
       "      <td>0</td>\n",
       "      <td>0</td>\n",
       "      <td>0</td>\n",
       "    </tr>\n",
       "    <tr>\n",
       "      <th>3</th>\n",
       "      <td>2016-12-05</td>\n",
       "      <td>1</td>\n",
       "      <td>87.0</td>\n",
       "      <td>8.98</td>\n",
       "      <td>8.83</td>\n",
       "      <td>8.27</td>\n",
       "      <td>1</td>\n",
       "      <td>0</td>\n",
       "      <td>0</td>\n",
       "      <td>0</td>\n",
       "      <td>...</td>\n",
       "      <td>0</td>\n",
       "      <td>0</td>\n",
       "      <td>0</td>\n",
       "      <td>0</td>\n",
       "      <td>0</td>\n",
       "      <td>1</td>\n",
       "      <td>0</td>\n",
       "      <td>0</td>\n",
       "      <td>0</td>\n",
       "      <td>0</td>\n",
       "    </tr>\n",
       "    <tr>\n",
       "      <th>4</th>\n",
       "      <td>2016-12-12</td>\n",
       "      <td>1</td>\n",
       "      <td>64.0</td>\n",
       "      <td>10.40</td>\n",
       "      <td>8.98</td>\n",
       "      <td>8.83</td>\n",
       "      <td>1</td>\n",
       "      <td>0</td>\n",
       "      <td>0</td>\n",
       "      <td>0</td>\n",
       "      <td>...</td>\n",
       "      <td>0</td>\n",
       "      <td>0</td>\n",
       "      <td>0</td>\n",
       "      <td>0</td>\n",
       "      <td>0</td>\n",
       "      <td>1</td>\n",
       "      <td>0</td>\n",
       "      <td>0</td>\n",
       "      <td>0</td>\n",
       "      <td>0</td>\n",
       "    </tr>\n",
       "    <tr>\n",
       "      <th>...</th>\n",
       "      <td>...</td>\n",
       "      <td>...</td>\n",
       "      <td>...</td>\n",
       "      <td>...</td>\n",
       "      <td>...</td>\n",
       "      <td>...</td>\n",
       "      <td>...</td>\n",
       "      <td>...</td>\n",
       "      <td>...</td>\n",
       "      <td>...</td>\n",
       "      <td>...</td>\n",
       "      <td>...</td>\n",
       "      <td>...</td>\n",
       "      <td>...</td>\n",
       "      <td>...</td>\n",
       "      <td>...</td>\n",
       "      <td>...</td>\n",
       "      <td>...</td>\n",
       "      <td>...</td>\n",
       "      <td>...</td>\n",
       "      <td>...</td>\n",
       "    </tr>\n",
       "    <tr>\n",
       "      <th>4307</th>\n",
       "      <td>2018-08-27</td>\n",
       "      <td>44</td>\n",
       "      <td>20.0</td>\n",
       "      <td>53.99</td>\n",
       "      <td>42.38</td>\n",
       "      <td>43.99</td>\n",
       "      <td>0</td>\n",
       "      <td>2</td>\n",
       "      <td>0</td>\n",
       "      <td>0</td>\n",
       "      <td>...</td>\n",
       "      <td>0</td>\n",
       "      <td>0</td>\n",
       "      <td>0</td>\n",
       "      <td>0</td>\n",
       "      <td>0</td>\n",
       "      <td>1</td>\n",
       "      <td>0</td>\n",
       "      <td>0</td>\n",
       "      <td>0</td>\n",
       "      <td>0</td>\n",
       "    </tr>\n",
       "    <tr>\n",
       "      <th>4308</th>\n",
       "      <td>2018-09-03</td>\n",
       "      <td>44</td>\n",
       "      <td>14.0</td>\n",
       "      <td>52.99</td>\n",
       "      <td>53.99</td>\n",
       "      <td>42.38</td>\n",
       "      <td>0</td>\n",
       "      <td>2</td>\n",
       "      <td>0</td>\n",
       "      <td>0</td>\n",
       "      <td>...</td>\n",
       "      <td>0</td>\n",
       "      <td>0</td>\n",
       "      <td>0</td>\n",
       "      <td>0</td>\n",
       "      <td>0</td>\n",
       "      <td>1</td>\n",
       "      <td>0</td>\n",
       "      <td>0</td>\n",
       "      <td>0</td>\n",
       "      <td>0</td>\n",
       "    </tr>\n",
       "    <tr>\n",
       "      <th>4309</th>\n",
       "      <td>2018-09-10</td>\n",
       "      <td>44</td>\n",
       "      <td>22.0</td>\n",
       "      <td>44.99</td>\n",
       "      <td>52.99</td>\n",
       "      <td>53.99</td>\n",
       "      <td>1</td>\n",
       "      <td>2</td>\n",
       "      <td>0</td>\n",
       "      <td>0</td>\n",
       "      <td>...</td>\n",
       "      <td>0</td>\n",
       "      <td>0</td>\n",
       "      <td>0</td>\n",
       "      <td>0</td>\n",
       "      <td>0</td>\n",
       "      <td>1</td>\n",
       "      <td>0</td>\n",
       "      <td>0</td>\n",
       "      <td>0</td>\n",
       "      <td>0</td>\n",
       "    </tr>\n",
       "    <tr>\n",
       "      <th>4310</th>\n",
       "      <td>2018-09-17</td>\n",
       "      <td>44</td>\n",
       "      <td>28.0</td>\n",
       "      <td>42.99</td>\n",
       "      <td>44.99</td>\n",
       "      <td>52.99</td>\n",
       "      <td>1</td>\n",
       "      <td>2</td>\n",
       "      <td>0</td>\n",
       "      <td>0</td>\n",
       "      <td>...</td>\n",
       "      <td>0</td>\n",
       "      <td>0</td>\n",
       "      <td>0</td>\n",
       "      <td>0</td>\n",
       "      <td>0</td>\n",
       "      <td>1</td>\n",
       "      <td>0</td>\n",
       "      <td>0</td>\n",
       "      <td>0</td>\n",
       "      <td>0</td>\n",
       "    </tr>\n",
       "    <tr>\n",
       "      <th>4311</th>\n",
       "      <td>2018-09-24</td>\n",
       "      <td>44</td>\n",
       "      <td>26.0</td>\n",
       "      <td>43.45</td>\n",
       "      <td>42.99</td>\n",
       "      <td>44.99</td>\n",
       "      <td>1</td>\n",
       "      <td>2</td>\n",
       "      <td>0</td>\n",
       "      <td>0</td>\n",
       "      <td>...</td>\n",
       "      <td>0</td>\n",
       "      <td>0</td>\n",
       "      <td>0</td>\n",
       "      <td>0</td>\n",
       "      <td>0</td>\n",
       "      <td>1</td>\n",
       "      <td>0</td>\n",
       "      <td>0</td>\n",
       "      <td>0</td>\n",
       "      <td>0</td>\n",
       "    </tr>\n",
       "  </tbody>\n",
       "</table>\n",
       "<p>4312 rows × 48 columns</p>\n",
       "</div>"
      ],
      "text/plain": [
       "            week  sku  weekly_sales  price  price-1  price-2  feat_main_page  \\\n",
       "0     2016-11-14    1         110.0  10.24     9.86    10.16               1   \n",
       "1     2016-11-21    1         127.0   8.27    10.24     9.86               1   \n",
       "2     2016-11-28    1          84.0   8.83     8.27    10.24               1   \n",
       "3     2016-12-05    1          87.0   8.98     8.83     8.27               1   \n",
       "4     2016-12-12    1          64.0  10.40     8.98     8.83               1   \n",
       "...          ...  ...           ...    ...      ...      ...             ...   \n",
       "4307  2018-08-27   44          20.0  53.99    42.38    43.99               0   \n",
       "4308  2018-09-03   44          14.0  52.99    53.99    42.38               0   \n",
       "4309  2018-09-10   44          22.0  44.99    52.99    53.99               1   \n",
       "4310  2018-09-17   44          28.0  42.99    44.99    52.99               1   \n",
       "4311  2018-09-24   44          26.0  43.45    42.99    44.99               1   \n",
       "\n",
       "      trend  month_2  month_3  ...  color_white  vendor_2  vendor_3  vendor_4  \\\n",
       "0         0        0        0  ...            0         0         0         0   \n",
       "1         0        0        0  ...            0         0         0         0   \n",
       "2         0        0        0  ...            0         0         0         0   \n",
       "3         0        0        0  ...            0         0         0         0   \n",
       "4         0        0        0  ...            0         0         0         0   \n",
       "...     ...      ...      ...  ...          ...       ...       ...       ...   \n",
       "4307      2        0        0  ...            0         0         0         0   \n",
       "4308      2        0        0  ...            0         0         0         0   \n",
       "4309      2        0        0  ...            0         0         0         0   \n",
       "4310      2        0        0  ...            0         0         0         0   \n",
       "4311      2        0        0  ...            0         0         0         0   \n",
       "\n",
       "      vendor_5  vendor_6  vendor_7  vendor_8  vendor_9  vendor_10  \n",
       "0            0         1         0         0         0          0  \n",
       "1            0         1         0         0         0          0  \n",
       "2            0         1         0         0         0          0  \n",
       "3            0         1         0         0         0          0  \n",
       "4            0         1         0         0         0          0  \n",
       "...        ...       ...       ...       ...       ...        ...  \n",
       "4307         0         1         0         0         0          0  \n",
       "4308         0         1         0         0         0          0  \n",
       "4309         0         1         0         0         0          0  \n",
       "4310         0         1         0         0         0          0  \n",
       "4311         0         1         0         0         0          0  \n",
       "\n",
       "[4312 rows x 48 columns]"
      ]
     },
     "execution_count": 20,
     "metadata": {},
     "output_type": "execute_result"
    }
   ],
   "source": [
    "import pandas as pd\n",
    "df=pd.read_csv(\"data_processed.csv\")\n",
    "df "
   ]
  },
  {
   "cell_type": "code",
   "execution_count": 21,
   "id": "f9775023",
   "metadata": {
    "ExecuteTime": {
     "end_time": "2023-06-17T17:05:58.724929Z",
     "start_time": "2023-06-17T17:05:58.715928Z"
    }
   },
   "outputs": [
    {
     "data": {
      "text/html": [
       "<div>\n",
       "<style scoped>\n",
       "    .dataframe tbody tr th:only-of-type {\n",
       "        vertical-align: middle;\n",
       "    }\n",
       "\n",
       "    .dataframe tbody tr th {\n",
       "        vertical-align: top;\n",
       "    }\n",
       "\n",
       "    .dataframe thead th {\n",
       "        text-align: right;\n",
       "    }\n",
       "</style>\n",
       "<table border=\"1\" class=\"dataframe\">\n",
       "  <thead>\n",
       "    <tr style=\"text-align: right;\">\n",
       "      <th></th>\n",
       "    </tr>\n",
       "  </thead>\n",
       "  <tbody>\n",
       "    <tr>\n",
       "      <th>R2</th>\n",
       "    </tr>\n",
       "  </tbody>\n",
       "</table>\n",
       "</div>"
      ],
      "text/plain": [
       "Empty DataFrame\n",
       "Columns: []\n",
       "Index: [R2]"
      ]
     },
     "execution_count": 21,
     "metadata": {},
     "output_type": "execute_result"
    }
   ],
   "source": [
    "\n",
    "res=pd.DataFrame(index=['R2']) #useful to gather results and visualize them\n",
    "res\n",
    "     "
   ]
  },
  {
   "cell_type": "markdown",
   "id": "ca5d2479",
   "metadata": {},
   "source": [
    "## K-Means\n",
    "\n",
    "### Just with sales and prices"
   ]
  },
  {
   "cell_type": "code",
   "execution_count": 22,
   "id": "ffbbe76b",
   "metadata": {
    "ExecuteTime": {
     "end_time": "2023-06-17T17:07:31.330119Z",
     "start_time": "2023-06-17T17:07:31.318907Z"
    }
   },
   "outputs": [],
   "source": [
    "from sklearn.cluster import KMeans\n",
    "from sklearn.linear_model import LinearRegression\n",
    "from sklearn.preprocessing import MinMaxScaler\n",
    "from sklearn.metrics import r2_score"
   ]
  },
  {
   "cell_type": "code",
   "execution_count": 23,
   "id": "a1f41b16",
   "metadata": {
    "ExecuteTime": {
     "end_time": "2023-06-17T17:07:37.178856Z",
     "start_time": "2023-06-17T17:07:37.162856Z"
    }
   },
   "outputs": [],
   "source": [
    "scaler = MinMaxScaler()"
   ]
  },
  {
   "cell_type": "code",
   "execution_count": null,
   "id": "5eaa2bfb",
   "metadata": {},
   "outputs": [],
   "source": []
  }
 ],
 "metadata": {
  "kernelspec": {
   "display_name": "Python 3 (ipykernel)",
   "language": "python",
   "name": "python3"
  },
  "language_info": {
   "codemirror_mode": {
    "name": "ipython",
    "version": 3
   },
   "file_extension": ".py",
   "mimetype": "text/x-python",
   "name": "python",
   "nbconvert_exporter": "python",
   "pygments_lexer": "ipython3",
   "version": "3.8.16"
  },
  "toc": {
   "base_numbering": 1,
   "nav_menu": {},
   "number_sections": true,
   "sideBar": true,
   "skip_h1_title": false,
   "title_cell": "Table of Contents",
   "title_sidebar": "Contents",
   "toc_cell": false,
   "toc_position": {},
   "toc_section_display": true,
   "toc_window_display": false
  }
 },
 "nbformat": 4,
 "nbformat_minor": 5
}
