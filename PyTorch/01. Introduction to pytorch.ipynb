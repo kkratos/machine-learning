{
 "cells": [
  {
   "cell_type": "markdown",
   "id": "6a3bc9bc",
   "metadata": {
    "ExecuteTime": {
     "end_time": "2022-11-17T05:27:40.480370Z",
     "start_time": "2022-11-17T05:27:40.466917Z"
    }
   },
   "source": [
    "## Microsoft - Introduction to pytorch\n",
    "* https://learn.microsoft.com/en-us/training/modules/intro-machine-learning-pytorch/2-tensors\n",
    "\n",
    "# Deep learning - Sabastian Raschka\n",
    "https://lightning.ai/pages/courses/deep-learning-fundamentals/unit-1/unit-1-1/"
   ]
  },
  {
   "attachments": {
    "image.png": {
     "image/png": "[encoded data removed]"
    }
   },
   "cell_type": "markdown",
   "id": "cfa6ee2c",
   "metadata": {},
   "source": [
    "![image.png](attachment:image.png)"
   ]
  },
  {
   "cell_type": "markdown",
   "id": "4c191945",
   "metadata": {},
   "source": [
    "Tensors are specialized data structure similar to arrays and matrices. Tensors are similar to numpy ndarrays except that tensors can run on GPU's or other hardware accelerators."
   ]
  },
  {
   "cell_type": "code",
   "execution_count": 1,
   "id": "0f2bc04a",
   "metadata": {
    "ExecuteTime": {
     "end_time": "2023-04-18T21:43:56.006915Z",
     "start_time": "2023-04-18T21:43:52.354004Z"
    }
   },
   "outputs": [],
   "source": [
    "import torch\n",
    "import numpy as np"
   ]
  },
  {
   "cell_type": "code",
   "execution_count": 2,
   "id": "3dc9ddf1",
   "metadata": {
    "ExecuteTime": {
     "end_time": "2023-04-18T21:43:56.031103Z",
     "start_time": "2023-04-18T21:43:56.007747Z"
    }
   },
   "outputs": [],
   "source": [
    "data = [[1, 2], [2, 3]]\n",
    "x_data = torch.tensor(data)"
   ]
  },
  {
   "cell_type": "code",
   "execution_count": 3,
   "id": "acb44fbe",
   "metadata": {
    "ExecuteTime": {
     "end_time": "2023-04-18T21:43:56.057466Z",
     "start_time": "2023-04-18T21:43:56.032135Z"
    }
   },
   "outputs": [
    {
     "data": {
      "text/plain": [
       "tensor([[1, 2],\n",
       "        [2, 3]])"
      ]
     },
     "execution_count": 3,
     "metadata": {},
     "output_type": "execute_result"
    }
   ],
   "source": [
    "x_data"
   ]
  },
  {
   "cell_type": "code",
   "execution_count": 4,
   "id": "bd89b44b",
   "metadata": {
    "ExecuteTime": {
     "end_time": "2023-04-18T21:43:56.084696Z",
     "start_time": "2023-04-18T21:43:56.062428Z"
    }
   },
   "outputs": [
    {
     "name": "stdout",
     "output_type": "stream",
     "text": [
      "Numpy np values: \n",
      " [[1 2]\n",
      " [2 3]]\n",
      "\n",
      "Tensor x_np value: \n",
      " tensor([[1, 2],\n",
      "        [2, 3]], dtype=torch.int32) \n",
      "\n"
     ]
    },
    {
     "data": {
      "text/plain": [
       "array([[2, 4],\n",
       "       [4, 6]])"
      ]
     },
     "execution_count": 4,
     "metadata": {},
     "output_type": "execute_result"
    }
   ],
   "source": [
    "np_array = np.array(data)\n",
    "x_np = torch.from_numpy(np_array)\n",
    "\n",
    "print(f\"Numpy np values: \\n {np_array}\\n\")\n",
    "print(f\"Tensor x_np value: \\n {x_np} \\n\")\n",
    "\n",
    "np.multiply(np_array, 2, out=np_array)"
   ]
  },
  {
   "cell_type": "code",
   "execution_count": 5,
   "id": "227573bb",
   "metadata": {
    "ExecuteTime": {
     "end_time": "2023-04-18T21:43:56.103958Z",
     "start_time": "2023-04-18T21:43:56.084696Z"
    }
   },
   "outputs": [
    {
     "data": {
      "text/plain": [
       "tensor([[0.0445, 0.0778],\n",
       "        [0.4963, 0.0362]])"
      ]
     },
     "execution_count": 5,
     "metadata": {},
     "output_type": "execute_result"
    }
   ],
   "source": [
    "x_ones = torch.ones_like(x_data)\n",
    "x_ones\n",
    "\n",
    "x_rand = torch.rand_like(x_data, dtype=torch.float)\n",
    "x_rand"
   ]
  },
  {
   "cell_type": "code",
   "execution_count": 6,
   "id": "796d47e4",
   "metadata": {
    "ExecuteTime": {
     "end_time": "2023-04-18T21:43:56.123144Z",
     "start_time": "2023-04-18T21:43:56.108078Z"
    }
   },
   "outputs": [
    {
     "name": "stdout",
     "output_type": "stream",
     "text": [
      "tensor([[0.3835, 0.1674, 0.1937],\n",
      "        [0.2320, 0.5586, 0.6192]])\n",
      "tensor([[1., 1., 1.],\n",
      "        [1., 1., 1.]])\n",
      "tensor([[0., 0., 0.],\n",
      "        [0., 0., 0.]])\n"
     ]
    }
   ],
   "source": [
    "shape = (2, 3)\n",
    "\n",
    "rand_tensor = torch.rand(shape)\n",
    "one_tensor = torch.ones(shape)\n",
    "zeros_tensor = torch.zeros(shape)\n",
    "\n",
    "print(rand_tensor)\n",
    "print(one_tensor)\n",
    "print(zeros_tensor)\n"
   ]
  },
  {
   "cell_type": "code",
   "execution_count": 7,
   "id": "5d920ee9",
   "metadata": {
    "ExecuteTime": {
     "end_time": "2023-04-18T21:43:56.151344Z",
     "start_time": "2023-04-18T21:43:56.130287Z"
    }
   },
   "outputs": [
    {
     "name": "stdout",
     "output_type": "stream",
     "text": [
      "torch.Size([2, 3])\n",
      "torch.float32\n",
      "cpu\n"
     ]
    }
   ],
   "source": [
    "tensor = torch.rand(2, 3)\n",
    "\n",
    "print(tensor.shape)\n",
    "print(tensor.dtype)\n",
    "print(tensor.device)"
   ]
  },
  {
   "cell_type": "code",
   "execution_count": 8,
   "id": "9fff9070",
   "metadata": {
    "ExecuteTime": {
     "end_time": "2023-04-18T21:43:56.173405Z",
     "start_time": "2023-04-18T21:43:56.152270Z"
    }
   },
   "outputs": [],
   "source": [
    "if torch.cuda.is_available():\n",
    "    tensor = tensor.to('cuda')"
   ]
  },
  {
   "cell_type": "code",
   "execution_count": 9,
   "id": "20f5d9e0",
   "metadata": {
    "ExecuteTime": {
     "end_time": "2023-04-18T21:43:56.191241Z",
     "start_time": "2023-04-18T21:43:56.175912Z"
    }
   },
   "outputs": [
    {
     "data": {
      "text/plain": [
       "False"
      ]
     },
     "execution_count": 9,
     "metadata": {},
     "output_type": "execute_result"
    }
   ],
   "source": [
    "torch.cuda.is_available()"
   ]
  },
  {
   "cell_type": "code",
   "execution_count": 10,
   "id": "fd73365e",
   "metadata": {
    "ExecuteTime": {
     "end_time": "2023-04-18T21:43:56.211113Z",
     "start_time": "2023-04-18T21:43:56.192189Z"
    }
   },
   "outputs": [
    {
     "data": {
      "text/plain": [
       "tensor([[1., 1., 1., 1.],\n",
       "        [1., 1., 1., 1.],\n",
       "        [1., 1., 1., 1.],\n",
       "        [1., 1., 1., 1.]])"
      ]
     },
     "execution_count": 10,
     "metadata": {},
     "output_type": "execute_result"
    }
   ],
   "source": [
    "tensor = torch.ones(4, 4)\n",
    "tensor"
   ]
  },
  {
   "cell_type": "code",
   "execution_count": 11,
   "id": "a8405fdf",
   "metadata": {
    "ExecuteTime": {
     "end_time": "2023-04-18T21:43:56.229178Z",
     "start_time": "2023-04-18T21:43:56.212147Z"
    }
   },
   "outputs": [
    {
     "data": {
      "text/plain": [
       "tensor([1., 1., 1., 1.])"
      ]
     },
     "execution_count": 11,
     "metadata": {},
     "output_type": "execute_result"
    }
   ],
   "source": [
    "tensor[0]"
   ]
  },
  {
   "cell_type": "code",
   "execution_count": 12,
   "id": "0ba1522c",
   "metadata": {
    "ExecuteTime": {
     "end_time": "2023-04-18T21:43:56.249906Z",
     "start_time": "2023-04-18T21:43:56.233805Z"
    }
   },
   "outputs": [
    {
     "data": {
      "text/plain": [
       "tensor([1., 1., 1., 1.])"
      ]
     },
     "execution_count": 12,
     "metadata": {},
     "output_type": "execute_result"
    }
   ],
   "source": [
    "tensor[:, 0]"
   ]
  },
  {
   "cell_type": "code",
   "execution_count": 13,
   "id": "8e2d2fda",
   "metadata": {
    "ExecuteTime": {
     "end_time": "2023-04-18T21:43:56.267422Z",
     "start_time": "2023-04-18T21:43:56.254259Z"
    }
   },
   "outputs": [
    {
     "data": {
      "text/plain": [
       "tensor([1., 1., 1., 1.])"
      ]
     },
     "execution_count": 13,
     "metadata": {},
     "output_type": "execute_result"
    }
   ],
   "source": [
    "tensor[..., -1]"
   ]
  },
  {
   "cell_type": "code",
   "execution_count": 14,
   "id": "9a92fd92",
   "metadata": {
    "ExecuteTime": {
     "end_time": "2023-04-18T21:43:56.289891Z",
     "start_time": "2023-04-18T21:43:56.272719Z"
    }
   },
   "outputs": [
    {
     "name": "stdout",
     "output_type": "stream",
     "text": [
      "tensor([[1., 0., 1., 1.],\n",
      "        [1., 0., 1., 1.],\n",
      "        [1., 0., 1., 1.],\n",
      "        [1., 0., 1., 1.]])\n"
     ]
    }
   ],
   "source": [
    "tensor[:, 1] = 0\n",
    "print(tensor)"
   ]
  },
  {
   "cell_type": "code",
   "execution_count": 15,
   "id": "f4161965",
   "metadata": {
    "ExecuteTime": {
     "end_time": "2023-04-18T21:43:56.316490Z",
     "start_time": "2023-04-18T21:43:56.295133Z"
    }
   },
   "outputs": [
    {
     "name": "stdout",
     "output_type": "stream",
     "text": [
      "tensor([[1., 0., 1., 1., 1., 0., 1., 1., 1., 0., 1., 1.],\n",
      "        [1., 0., 1., 1., 1., 0., 1., 1., 1., 0., 1., 1.],\n",
      "        [1., 0., 1., 1., 1., 0., 1., 1., 1., 0., 1., 1.],\n",
      "        [1., 0., 1., 1., 1., 0., 1., 1., 1., 0., 1., 1.]])\n"
     ]
    }
   ],
   "source": [
    "t1 = torch.cat([tensor, tensor, tensor], dim=1)\n",
    "print(t1)"
   ]
  },
  {
   "cell_type": "code",
   "execution_count": 16,
   "id": "2b97ceb7",
   "metadata": {
    "ExecuteTime": {
     "end_time": "2023-04-18T21:43:56.342445Z",
     "start_time": "2023-04-18T21:43:56.319530Z"
    }
   },
   "outputs": [
    {
     "data": {
      "text/plain": [
       "tensor([[3., 3., 3., 3.],\n",
       "        [3., 3., 3., 3.],\n",
       "        [3., 3., 3., 3.],\n",
       "        [3., 3., 3., 3.]])"
      ]
     },
     "execution_count": 16,
     "metadata": {},
     "output_type": "execute_result"
    }
   ],
   "source": [
    "y1 = tensor @ tensor.T\n",
    "y1"
   ]
  },
  {
   "cell_type": "code",
   "execution_count": 17,
   "id": "4feb82f4",
   "metadata": {
    "ExecuteTime": {
     "end_time": "2023-04-18T21:43:56.369179Z",
     "start_time": "2023-04-18T21:43:56.347691Z"
    }
   },
   "outputs": [
    {
     "data": {
      "text/plain": [
       "tensor([[3., 3., 3., 3.],\n",
       "        [3., 3., 3., 3.],\n",
       "        [3., 3., 3., 3.],\n",
       "        [3., 3., 3., 3.]])"
      ]
     },
     "execution_count": 17,
     "metadata": {},
     "output_type": "execute_result"
    }
   ],
   "source": [
    "y2 = tensor.matmul(tensor.T)\n",
    "y2"
   ]
  },
  {
   "cell_type": "code",
   "execution_count": 18,
   "id": "945e1b34",
   "metadata": {
    "ExecuteTime": {
     "end_time": "2023-04-18T21:43:56.406578Z",
     "start_time": "2023-04-18T21:43:56.375102Z"
    }
   },
   "outputs": [
    {
     "data": {
      "text/plain": [
       "tensor([[3., 3., 3., 3.],\n",
       "        [3., 3., 3., 3.],\n",
       "        [3., 3., 3., 3.],\n",
       "        [3., 3., 3., 3.]])"
      ]
     },
     "execution_count": 18,
     "metadata": {},
     "output_type": "execute_result"
    }
   ],
   "source": [
    "y3 = torch.rand_like(tensor)\n",
    "torch.matmul(tensor, tensor.T, out=y3)"
   ]
  },
  {
   "cell_type": "code",
   "execution_count": 19,
   "id": "89446a28",
   "metadata": {
    "ExecuteTime": {
     "end_time": "2023-04-18T21:43:56.445270Z",
     "start_time": "2023-04-18T21:43:56.422545Z"
    }
   },
   "outputs": [],
   "source": [
    "z1 = tensor * tensor"
   ]
  },
  {
   "cell_type": "code",
   "execution_count": 20,
   "id": "6fbc9f4a",
   "metadata": {
    "ExecuteTime": {
     "end_time": "2023-04-18T21:43:56.473313Z",
     "start_time": "2023-04-18T21:43:56.447673Z"
    }
   },
   "outputs": [
    {
     "data": {
      "text/plain": [
       "tensor([[1., 0., 1., 1.],\n",
       "        [1., 0., 1., 1.],\n",
       "        [1., 0., 1., 1.],\n",
       "        [1., 0., 1., 1.]])"
      ]
     },
     "execution_count": 20,
     "metadata": {},
     "output_type": "execute_result"
    }
   ],
   "source": [
    "z1"
   ]
  },
  {
   "cell_type": "code",
   "execution_count": 21,
   "id": "30dea77a",
   "metadata": {
    "ExecuteTime": {
     "end_time": "2023-04-18T21:43:56.497739Z",
     "start_time": "2023-04-18T21:43:56.479913Z"
    }
   },
   "outputs": [
    {
     "data": {
      "text/plain": [
       "tensor([[1., 0., 1., 1.],\n",
       "        [1., 0., 1., 1.],\n",
       "        [1., 0., 1., 1.],\n",
       "        [1., 0., 1., 1.]])"
      ]
     },
     "execution_count": 21,
     "metadata": {},
     "output_type": "execute_result"
    }
   ],
   "source": [
    "z2 = tensor.mul(tensor)\n",
    "z2"
   ]
  },
  {
   "cell_type": "code",
   "execution_count": 22,
   "id": "e95b6445",
   "metadata": {
    "ExecuteTime": {
     "end_time": "2023-04-18T21:43:56.529235Z",
     "start_time": "2023-04-18T21:43:56.505814Z"
    }
   },
   "outputs": [
    {
     "data": {
      "text/plain": [
       "tensor([[1., 0., 1., 1.],\n",
       "        [1., 0., 1., 1.],\n",
       "        [1., 0., 1., 1.],\n",
       "        [1., 0., 1., 1.]])"
      ]
     },
     "execution_count": 22,
     "metadata": {},
     "output_type": "execute_result"
    }
   ],
   "source": [
    "z3 = torch.rand_like(tensor)\n",
    "torch.mul(tensor, tensor, out=z3)"
   ]
  },
  {
   "cell_type": "code",
   "execution_count": 23,
   "id": "c73e0361",
   "metadata": {
    "ExecuteTime": {
     "end_time": "2023-04-18T21:43:56.562499Z",
     "start_time": "2023-04-18T21:43:56.536864Z"
    }
   },
   "outputs": [
    {
     "data": {
      "text/plain": [
       "tensor(12.)"
      ]
     },
     "execution_count": 23,
     "metadata": {},
     "output_type": "execute_result"
    }
   ],
   "source": [
    "agg = tensor.sum()\n",
    "agg"
   ]
  },
  {
   "cell_type": "code",
   "execution_count": 24,
   "id": "b37e4ac0",
   "metadata": {
    "ExecuteTime": {
     "end_time": "2023-04-18T21:43:56.587012Z",
     "start_time": "2023-04-18T21:43:56.567743Z"
    }
   },
   "outputs": [
    {
     "data": {
      "text/plain": [
       "12.0"
      ]
     },
     "execution_count": 24,
     "metadata": {},
     "output_type": "execute_result"
    }
   ],
   "source": [
    "agg.item()"
   ]
  },
  {
   "cell_type": "code",
   "execution_count": 25,
   "id": "ace7c887",
   "metadata": {
    "ExecuteTime": {
     "end_time": "2023-04-18T21:43:56.613106Z",
     "start_time": "2023-04-18T21:43:56.594516Z"
    }
   },
   "outputs": [
    {
     "name": "stdout",
     "output_type": "stream",
     "text": [
      "tensor([[1., 0., 1., 1.],\n",
      "        [1., 0., 1., 1.],\n",
      "        [1., 0., 1., 1.],\n",
      "        [1., 0., 1., 1.]]) \n",
      "\n",
      "tensor([[6., 5., 6., 6.],\n",
      "        [6., 5., 6., 6.],\n",
      "        [6., 5., 6., 6.],\n",
      "        [6., 5., 6., 6.]])\n"
     ]
    }
   ],
   "source": [
    "print(tensor, \"\\n\")\n",
    "tensor.add_(5)\n",
    "print(tensor)"
   ]
  },
  {
   "cell_type": "code",
   "execution_count": 26,
   "id": "2e8929ec",
   "metadata": {
    "ExecuteTime": {
     "end_time": "2023-04-18T21:43:56.639996Z",
     "start_time": "2023-04-18T21:43:56.617344Z"
    }
   },
   "outputs": [
    {
     "name": "stdout",
     "output_type": "stream",
     "text": [
      "t = tensor([1., 1., 1., 1., 1.])\n",
      "n = [1. 1. 1. 1. 1.]\n"
     ]
    }
   ],
   "source": [
    "t = torch.ones(5)\n",
    "n = t.numpy()\n",
    "print(f\"t = {t}\")\n",
    "print(f\"n = {n}\")"
   ]
  },
  {
   "cell_type": "code",
   "execution_count": 27,
   "id": "6f6b0625",
   "metadata": {
    "ExecuteTime": {
     "end_time": "2023-04-18T21:43:56.669404Z",
     "start_time": "2023-04-18T21:43:56.646876Z"
    }
   },
   "outputs": [
    {
     "data": {
      "text/plain": [
       "tensor([2., 2., 2., 2., 2.])"
      ]
     },
     "execution_count": 27,
     "metadata": {},
     "output_type": "execute_result"
    }
   ],
   "source": [
    "t.add_(1)"
   ]
  },
  {
   "cell_type": "code",
   "execution_count": 28,
   "id": "69df7bc6",
   "metadata": {
    "ExecuteTime": {
     "end_time": "2023-04-18T21:43:56.695044Z",
     "start_time": "2023-04-18T21:43:56.674187Z"
    }
   },
   "outputs": [
    {
     "name": "stdout",
     "output_type": "stream",
     "text": [
      "[2. 2. 2. 2. 2.]\n"
     ]
    }
   ],
   "source": [
    "print(n)"
   ]
  },
  {
   "cell_type": "code",
   "execution_count": 29,
   "id": "9ab7774d",
   "metadata": {
    "ExecuteTime": {
     "end_time": "2023-04-18T21:43:56.719708Z",
     "start_time": "2023-04-18T21:43:56.700399Z"
    }
   },
   "outputs": [
    {
     "name": "stdout",
     "output_type": "stream",
     "text": [
      "tensor([2., 2., 2., 2.], dtype=torch.float64)\n",
      "[2. 2. 2. 2.]\n"
     ]
    }
   ],
   "source": [
    "n = np.ones(4)\n",
    "t = torch.from_numpy(n)\n",
    "np.add(n, 1, out=n)\n",
    "\n",
    "print(t)\n",
    "print(n)"
   ]
  },
  {
   "cell_type": "code",
   "execution_count": 30,
   "id": "925d2198",
   "metadata": {
    "ExecuteTime": {
     "end_time": "2023-04-18T21:44:00.321104Z",
     "start_time": "2023-04-18T21:43:56.725123Z"
    }
   },
   "outputs": [
    {
     "name": "stdout",
     "output_type": "stream",
     "text": [
      "1.13.1\n"
     ]
    }
   ],
   "source": [
    "%matplotlib inline\n",
    "import torch\n",
    "import pandas as pd\n",
    "import numpy as np\n",
    "print(torch.__version__)"
   ]
  },
  {
   "cell_type": "markdown",
   "id": "63d79c88",
   "metadata": {
    "ExecuteTime": {
     "end_time": "2023-02-27T03:59:54.454655Z",
     "start_time": "2023-02-27T03:59:54.447656Z"
    }
   },
   "source": [
    "## Introduction to tensors\n",
    "\n",
    "### Create a tensor\n"
   ]
  },
  {
   "cell_type": "code",
   "execution_count": 31,
   "id": "04a40c2d",
   "metadata": {
    "ExecuteTime": {
     "end_time": "2023-04-18T21:44:00.361382Z",
     "start_time": "2023-04-18T21:44:00.334034Z"
    }
   },
   "outputs": [
    {
     "data": {
      "text/plain": [
       "tensor(7)"
      ]
     },
     "execution_count": 31,
     "metadata": {},
     "output_type": "execute_result"
    }
   ],
   "source": [
    "scalar = torch.tensor(7)\n",
    "scalar"
   ]
  },
  {
   "cell_type": "code",
   "execution_count": 32,
   "id": "baaa4d12",
   "metadata": {
    "ExecuteTime": {
     "end_time": "2023-04-18T21:44:00.408640Z",
     "start_time": "2023-04-18T21:44:00.374092Z"
    }
   },
   "outputs": [
    {
     "data": {
      "text/plain": [
       "0"
      ]
     },
     "execution_count": 32,
     "metadata": {},
     "output_type": "execute_result"
    }
   ],
   "source": [
    "scalar.ndim"
   ]
  },
  {
   "cell_type": "code",
   "execution_count": 33,
   "id": "9cd78706",
   "metadata": {
    "ExecuteTime": {
     "end_time": "2023-04-18T21:44:00.447286Z",
     "start_time": "2023-04-18T21:44:00.420571Z"
    }
   },
   "outputs": [
    {
     "data": {
      "text/plain": [
       "7"
      ]
     },
     "execution_count": 33,
     "metadata": {},
     "output_type": "execute_result"
    }
   ],
   "source": [
    "scalar.item()"
   ]
  },
  {
   "cell_type": "code",
   "execution_count": 34,
   "id": "ec49c56d",
   "metadata": {
    "ExecuteTime": {
     "end_time": "2023-04-18T21:44:00.483865Z",
     "start_time": "2023-04-18T21:44:00.457656Z"
    }
   },
   "outputs": [
    {
     "data": {
      "text/plain": [
       "tensor([7, 7])"
      ]
     },
     "execution_count": 34,
     "metadata": {},
     "output_type": "execute_result"
    }
   ],
   "source": [
    "# Vector\n",
    "vector = torch.tensor([7,7])\n",
    "vector"
   ]
  },
  {
   "cell_type": "code",
   "execution_count": 35,
   "id": "b8d6c4af",
   "metadata": {
    "ExecuteTime": {
     "end_time": "2023-04-18T21:44:00.516895Z",
     "start_time": "2023-04-18T21:44:00.485679Z"
    }
   },
   "outputs": [
    {
     "data": {
      "text/plain": [
       "1"
      ]
     },
     "execution_count": 35,
     "metadata": {},
     "output_type": "execute_result"
    }
   ],
   "source": [
    "vector.ndim"
   ]
  },
  {
   "cell_type": "code",
   "execution_count": 36,
   "id": "310d410f",
   "metadata": {
    "ExecuteTime": {
     "end_time": "2023-04-18T21:44:00.549106Z",
     "start_time": "2023-04-18T21:44:00.522122Z"
    }
   },
   "outputs": [
    {
     "data": {
      "text/plain": [
       "torch.Size([2])"
      ]
     },
     "execution_count": 36,
     "metadata": {},
     "output_type": "execute_result"
    }
   ],
   "source": [
    "vector.shape"
   ]
  },
  {
   "cell_type": "code",
   "execution_count": 37,
   "id": "e5d5fece",
   "metadata": {
    "ExecuteTime": {
     "end_time": "2023-04-18T21:44:00.573196Z",
     "start_time": "2023-04-18T21:44:00.555246Z"
    }
   },
   "outputs": [
    {
     "data": {
      "text/plain": [
       "tensor([[ 7,  8],\n",
       "        [ 9, 10]])"
      ]
     },
     "execution_count": 37,
     "metadata": {},
     "output_type": "execute_result"
    }
   ],
   "source": [
    "# Matrix\n",
    "MATRIX = torch.tensor([[7, 8], \n",
    "                      [9, 10]])\n",
    "MATRIX"
   ]
  },
  {
   "cell_type": "code",
   "execution_count": 38,
   "id": "51fd115a",
   "metadata": {
    "ExecuteTime": {
     "end_time": "2023-04-18T21:44:00.604473Z",
     "start_time": "2023-04-18T21:44:00.581596Z"
    }
   },
   "outputs": [
    {
     "data": {
      "text/plain": [
       "2"
      ]
     },
     "execution_count": 38,
     "metadata": {},
     "output_type": "execute_result"
    }
   ],
   "source": [
    "MATRIX.ndim"
   ]
  },
  {
   "cell_type": "code",
   "execution_count": 39,
   "id": "cd063fea",
   "metadata": {
    "ExecuteTime": {
     "end_time": "2023-04-18T21:44:00.635853Z",
     "start_time": "2023-04-18T21:44:00.615078Z"
    }
   },
   "outputs": [
    {
     "data": {
      "text/plain": [
       "tensor([7, 8])"
      ]
     },
     "execution_count": 39,
     "metadata": {},
     "output_type": "execute_result"
    }
   ],
   "source": [
    "MATRIX[0]"
   ]
  },
  {
   "cell_type": "code",
   "execution_count": 40,
   "id": "2d22eb6a",
   "metadata": {
    "ExecuteTime": {
     "end_time": "2023-04-18T21:44:00.666537Z",
     "start_time": "2023-04-18T21:44:00.642442Z"
    }
   },
   "outputs": [
    {
     "data": {
      "text/plain": [
       "torch.Size([2, 2])"
      ]
     },
     "execution_count": 40,
     "metadata": {},
     "output_type": "execute_result"
    }
   ],
   "source": [
    "MATRIX.shape"
   ]
  },
  {
   "cell_type": "code",
   "execution_count": 41,
   "id": "c6df304b",
   "metadata": {
    "ExecuteTime": {
     "end_time": "2023-04-18T21:44:00.699952Z",
     "start_time": "2023-04-18T21:44:00.674021Z"
    }
   },
   "outputs": [
    {
     "data": {
      "text/plain": [
       "tensor([[[ 1,  2,  3],\n",
       "         [ 3,  6,  9],\n",
       "         [ 2,  4,  5]],\n",
       "\n",
       "        [[ 1,  2,  3],\n",
       "         [12, 34, 56],\n",
       "         [14, 12, 14]]])"
      ]
     },
     "execution_count": 41,
     "metadata": {},
     "output_type": "execute_result"
    }
   ],
   "source": [
    "# Tensor\n",
    "TENSOR = torch.tensor([[[1, 2, 3],\n",
    "                       [3, 6, 9],\n",
    "                       [2, 4, 5]],\n",
    "                      [[1, 2, 3],\n",
    "                      [12, 34, 56],\n",
    "                      [14, 12, 14]]])\n",
    "TENSOR"
   ]
  },
  {
   "cell_type": "code",
   "execution_count": 42,
   "id": "729d8160",
   "metadata": {
    "ExecuteTime": {
     "end_time": "2023-04-18T21:44:00.727029Z",
     "start_time": "2023-04-18T21:44:00.708919Z"
    }
   },
   "outputs": [
    {
     "data": {
      "text/plain": [
       "3"
      ]
     },
     "execution_count": 42,
     "metadata": {},
     "output_type": "execute_result"
    }
   ],
   "source": [
    "TENSOR.ndim"
   ]
  },
  {
   "cell_type": "code",
   "execution_count": 43,
   "id": "491e81f8",
   "metadata": {
    "ExecuteTime": {
     "end_time": "2023-04-18T21:44:00.754833Z",
     "start_time": "2023-04-18T21:44:00.735073Z"
    }
   },
   "outputs": [
    {
     "data": {
      "text/plain": [
       "torch.Size([2, 3, 3])"
      ]
     },
     "execution_count": 43,
     "metadata": {},
     "output_type": "execute_result"
    }
   ],
   "source": [
    "TENSOR.shape"
   ]
  },
  {
   "cell_type": "code",
   "execution_count": 44,
   "id": "841d00f0",
   "metadata": {
    "ExecuteTime": {
     "end_time": "2023-04-18T21:44:00.798792Z",
     "start_time": "2023-04-18T21:44:00.764459Z"
    }
   },
   "outputs": [
    {
     "data": {
      "text/plain": [
       "tensor([[1, 2, 3],\n",
       "        [3, 6, 9],\n",
       "        [2, 4, 5]])"
      ]
     },
     "execution_count": 44,
     "metadata": {},
     "output_type": "execute_result"
    }
   ],
   "source": [
    "TENSOR[0]"
   ]
  },
  {
   "cell_type": "markdown",
   "id": "d395d4bf",
   "metadata": {
    "ExecuteTime": {
     "end_time": "2023-02-27T04:48:00.623111Z",
     "start_time": "2023-02-27T04:48:00.602124Z"
    }
   },
   "source": [
    "# Random tensors\n",
    "random tensors are important because the way reural networks learn is what they start with random numbers and adjust those random numbers to better represent the data"
   ]
  },
  {
   "cell_type": "code",
   "execution_count": 45,
   "id": "86258fe5",
   "metadata": {
    "ExecuteTime": {
     "end_time": "2023-04-18T21:44:00.836524Z",
     "start_time": "2023-04-18T21:44:00.806804Z"
    }
   },
   "outputs": [
    {
     "data": {
      "text/plain": [
       "tensor([[[0.6490, 0.9623, 0.0864],\n",
       "         [0.6315, 0.8863, 0.9468],\n",
       "         [0.9059, 0.2537, 0.2074]],\n",
       "\n",
       "        [[0.5147, 0.1690, 0.1921],\n",
       "         [0.8576, 0.1819, 0.6989],\n",
       "         [0.8380, 0.3574, 0.9992]],\n",
       "\n",
       "        [[0.8568, 0.9432, 0.5408],\n",
       "         [0.3362, 0.3531, 0.7060],\n",
       "         [0.7944, 0.2351, 0.5464]]])"
      ]
     },
     "execution_count": 45,
     "metadata": {},
     "output_type": "execute_result"
    }
   ],
   "source": [
    "# Create a random tensor of size ( 3, 4)\n",
    "random_tensor = torch.rand(3, 3, 3)\n",
    "random_tensor"
   ]
  },
  {
   "cell_type": "code",
   "execution_count": 46,
   "id": "dc7947ca",
   "metadata": {
    "ExecuteTime": {
     "end_time": "2023-04-18T21:44:00.867129Z",
     "start_time": "2023-04-18T21:44:00.842750Z"
    }
   },
   "outputs": [
    {
     "data": {
      "text/plain": [
       "3"
      ]
     },
     "execution_count": 46,
     "metadata": {},
     "output_type": "execute_result"
    }
   ],
   "source": [
    "random_tensor.ndim"
   ]
  },
  {
   "cell_type": "code",
   "execution_count": 47,
   "id": "022aebfe",
   "metadata": {
    "ExecuteTime": {
     "end_time": "2023-04-18T21:44:00.895032Z",
     "start_time": "2023-04-18T21:44:00.872524Z"
    }
   },
   "outputs": [
    {
     "data": {
      "text/plain": [
       "(torch.Size([3, 2, 2]), 3)"
      ]
     },
     "execution_count": 47,
     "metadata": {},
     "output_type": "execute_result"
    }
   ],
   "source": [
    "image_tensor = torch.rand(size=(3, 2, 2))\n",
    "image_tensor.shape, image_tensor.ndim"
   ]
  },
  {
   "cell_type": "code",
   "execution_count": 48,
   "id": "78a93064",
   "metadata": {
    "ExecuteTime": {
     "end_time": "2023-04-18T21:44:00.917373Z",
     "start_time": "2023-04-18T21:44:00.902126Z"
    }
   },
   "outputs": [
    {
     "data": {
      "text/plain": [
       "tensor([[[0.6243, 0.7530],\n",
       "         [0.4728, 0.9701]],\n",
       "\n",
       "        [[0.6130, 0.7946],\n",
       "         [0.0231, 0.8865]],\n",
       "\n",
       "        [[0.5149, 0.0733],\n",
       "         [0.6397, 0.3461]]])"
      ]
     },
     "execution_count": 48,
     "metadata": {},
     "output_type": "execute_result"
    }
   ],
   "source": [
    "image_tensor"
   ]
  },
  {
   "cell_type": "code",
   "execution_count": 49,
   "id": "140caaa3",
   "metadata": {
    "ExecuteTime": {
     "end_time": "2023-04-18T21:44:00.953788Z",
     "start_time": "2023-04-18T21:44:00.925986Z"
    }
   },
   "outputs": [
    {
     "data": {
      "text/plain": [
       "torch.Size([244, 244])"
      ]
     },
     "execution_count": 49,
     "metadata": {},
     "output_type": "execute_result"
    }
   ],
   "source": [
    "# Create a random with similar shape to an image tensor (R, G, B)\n",
    "image_tensor = torch.rand(size=(3, 244, 244))\n",
    "image_tensor[0].shape"
   ]
  },
  {
   "cell_type": "code",
   "execution_count": 50,
   "id": "2cf9190e",
   "metadata": {
    "ExecuteTime": {
     "end_time": "2023-04-18T21:44:00.981253Z",
     "start_time": "2023-04-18T21:44:00.960807Z"
    }
   },
   "outputs": [
    {
     "data": {
      "text/plain": [
       "tensor([[0.5947, 0.8560, 0.7254, 0.6942],\n",
       "        [0.6692, 0.2767, 0.0106, 0.8177],\n",
       "        [0.3448, 0.4093, 0.9460, 0.9567]])"
      ]
     },
     "execution_count": 50,
     "metadata": {},
     "output_type": "execute_result"
    }
   ],
   "source": [
    "x = torch.rand(3, 4)\n",
    "x"
   ]
  },
  {
   "cell_type": "code",
   "execution_count": 51,
   "id": "2aa64e8a",
   "metadata": {
    "ExecuteTime": {
     "end_time": "2023-04-18T21:44:01.016655Z",
     "start_time": "2023-04-18T21:44:00.988260Z"
    }
   },
   "outputs": [
    {
     "data": {
      "text/plain": [
       "tensor([[0., 0., 0., 0.],\n",
       "        [0., 0., 0., 0.],\n",
       "        [0., 0., 0., 0.]])"
      ]
     },
     "execution_count": 51,
     "metadata": {},
     "output_type": "execute_result"
    }
   ],
   "source": [
    "# Zeros and Ones\n",
    "zero = torch.zeros(size=(3, 4))\n",
    "zero"
   ]
  },
  {
   "cell_type": "code",
   "execution_count": 52,
   "id": "2c0eea2e",
   "metadata": {
    "ExecuteTime": {
     "end_time": "2023-04-18T21:44:01.055160Z",
     "start_time": "2023-04-18T21:44:01.028566Z"
    }
   },
   "outputs": [
    {
     "data": {
      "text/plain": [
       "tensor([[0., 0., 0., 0.],\n",
       "        [0., 0., 0., 0.],\n",
       "        [0., 0., 0., 0.]])"
      ]
     },
     "execution_count": 52,
     "metadata": {},
     "output_type": "execute_result"
    }
   ],
   "source": [
    "zero * x"
   ]
  },
  {
   "cell_type": "code",
   "execution_count": 53,
   "id": "cdf50029",
   "metadata": {
    "ExecuteTime": {
     "end_time": "2023-04-18T21:44:01.095302Z",
     "start_time": "2023-04-18T21:44:01.064137Z"
    }
   },
   "outputs": [
    {
     "data": {
      "text/plain": [
       "tensor([[1., 1., 1., 1.],\n",
       "        [1., 1., 1., 1.],\n",
       "        [1., 1., 1., 1.]])"
      ]
     },
     "execution_count": 53,
     "metadata": {},
     "output_type": "execute_result"
    }
   ],
   "source": [
    "# Create a tensor of ones\n",
    "ones = torch.ones(size=(3, 4))\n",
    "ones"
   ]
  },
  {
   "cell_type": "code",
   "execution_count": 54,
   "id": "ebbc8516",
   "metadata": {
    "ExecuteTime": {
     "end_time": "2023-04-18T21:44:01.139255Z",
     "start_time": "2023-04-18T21:44:01.107972Z"
    }
   },
   "outputs": [
    {
     "data": {
      "text/plain": [
       "torch.float32"
      ]
     },
     "execution_count": 54,
     "metadata": {},
     "output_type": "execute_result"
    }
   ],
   "source": [
    "ones.dtype"
   ]
  },
  {
   "cell_type": "code",
   "execution_count": 55,
   "id": "76ef2186",
   "metadata": {
    "ExecuteTime": {
     "end_time": "2023-04-18T21:44:01.253579Z",
     "start_time": "2023-04-18T21:44:01.227797Z"
    }
   },
   "outputs": [
    {
     "data": {
      "text/plain": [
       "torch.float32"
      ]
     },
     "execution_count": 55,
     "metadata": {},
     "output_type": "execute_result"
    }
   ],
   "source": [
    "random_tensor.dtype"
   ]
  },
  {
   "cell_type": "code",
   "execution_count": 56,
   "id": "5b509b00",
   "metadata": {
    "ExecuteTime": {
     "end_time": "2023-04-18T21:44:01.288835Z",
     "start_time": "2023-04-18T21:44:01.259950Z"
    }
   },
   "outputs": [
    {
     "data": {
      "text/plain": [
       "tensor([0, 1, 2, 3, 4, 5, 6, 7, 8, 9])"
      ]
     },
     "execution_count": 56,
     "metadata": {},
     "output_type": "execute_result"
    }
   ],
   "source": [
    "# Crate a range of tensors and tensor-like\n",
    "torch.arange(0, 10)"
   ]
  },
  {
   "cell_type": "code",
   "execution_count": 57,
   "id": "c6115f8a",
   "metadata": {
    "ExecuteTime": {
     "end_time": "2023-04-18T21:44:01.312858Z",
     "start_time": "2023-04-18T21:44:01.294730Z"
    }
   },
   "outputs": [
    {
     "data": {
      "text/plain": [
       "tensor([ 1,  2,  3,  4,  5,  6,  7,  8,  9, 10])"
      ]
     },
     "execution_count": 57,
     "metadata": {},
     "output_type": "execute_result"
    }
   ],
   "source": [
    "one_to_ten = torch.arange(start=1, end=11, step=1)\n",
    "one_to_ten"
   ]
  },
  {
   "cell_type": "code",
   "execution_count": 58,
   "id": "1565e867",
   "metadata": {
    "ExecuteTime": {
     "end_time": "2023-04-18T21:44:01.344876Z",
     "start_time": "2023-04-18T21:44:01.319299Z"
    }
   },
   "outputs": [
    {
     "data": {
      "text/plain": [
       "tensor([0, 0, 0, 0, 0, 0, 0, 0, 0, 0])"
      ]
     },
     "execution_count": 58,
     "metadata": {},
     "output_type": "execute_result"
    }
   ],
   "source": [
    "# Creating tensors like\n",
    "ten_zeros = torch.zeros_like(input=one_to_ten)\n",
    "ten_zeros"
   ]
  },
  {
   "cell_type": "code",
   "execution_count": 59,
   "id": "9e0851cd",
   "metadata": {
    "ExecuteTime": {
     "end_time": "2023-04-18T21:44:01.380411Z",
     "start_time": "2023-04-18T21:44:01.351582Z"
    }
   },
   "outputs": [
    {
     "data": {
      "text/plain": [
       "tensor([3., 6., 9.])"
      ]
     },
     "execution_count": 59,
     "metadata": {},
     "output_type": "execute_result"
    }
   ],
   "source": [
    "# Float 32 tensor\n",
    "float_32_tensor = torch.tensor([3.0, 6.0, 9.0], \n",
    "                               dtype=None,  # datatype\n",
    "                               device=None, # \n",
    "                               requires_grad=False)\n",
    "float_32_tensor.shape, float_32_tensor.ndim, float_32_tensor.device\n",
    "float_32_tensor"
   ]
  },
  {
   "cell_type": "code",
   "execution_count": 60,
   "id": "90e40715",
   "metadata": {
    "ExecuteTime": {
     "end_time": "2023-04-18T21:44:01.405476Z",
     "start_time": "2023-04-18T21:44:01.386120Z"
    }
   },
   "outputs": [
    {
     "data": {
      "text/plain": [
       "tensor([3., 6., 9.], dtype=torch.float16)"
      ]
     },
     "execution_count": 60,
     "metadata": {},
     "output_type": "execute_result"
    }
   ],
   "source": [
    "float_16_tensor = float_32_tensor.type(torch.float16)\n",
    "float_16_tensor"
   ]
  },
  {
   "cell_type": "code",
   "execution_count": 61,
   "id": "4d0376c3",
   "metadata": {
    "ExecuteTime": {
     "end_time": "2023-04-18T21:44:01.435554Z",
     "start_time": "2023-04-18T21:44:01.414732Z"
    }
   },
   "outputs": [
    {
     "data": {
      "text/plain": [
       "tensor([ 9., 36., 81.])"
      ]
     },
     "execution_count": 61,
     "metadata": {},
     "output_type": "execute_result"
    }
   ],
   "source": [
    "float_16_tensor * float_32_tensor"
   ]
  },
  {
   "cell_type": "markdown",
   "id": "aa8e72cb",
   "metadata": {},
   "source": [
    "### Getting information from tensors\n",
    "\n",
    "1. Tensors not right datatype - to get datatype from a tensor `tensor.dtype`\n",
    "2. Tensor not right shape - get it with `tensor.shape`\n",
    "3. Tensor not right device - get it with `tensor.device`"
   ]
  },
  {
   "cell_type": "code",
   "execution_count": 62,
   "id": "0d2bdfb7",
   "metadata": {
    "ExecuteTime": {
     "end_time": "2023-04-18T21:44:01.473770Z",
     "start_time": "2023-04-18T21:44:01.445489Z"
    }
   },
   "outputs": [
    {
     "data": {
      "text/plain": [
       "tensor([[0.0839, 0.5220, 0.3679, 0.6493],\n",
       "        [0.9489, 0.8792, 0.7036, 0.8857],\n",
       "        [0.9096, 0.6761, 0.0616, 0.9396]])"
      ]
     },
     "execution_count": 62,
     "metadata": {},
     "output_type": "execute_result"
    }
   ],
   "source": [
    "some_tensor = torch.rand(3, 4)\n",
    "some_tensor"
   ]
  },
  {
   "cell_type": "code",
   "execution_count": 63,
   "id": "beeaefd6",
   "metadata": {
    "ExecuteTime": {
     "end_time": "2023-04-18T21:44:01.506818Z",
     "start_time": "2023-04-18T21:44:01.482185Z"
    }
   },
   "outputs": [
    {
     "name": "stdout",
     "output_type": "stream",
     "text": [
      "tensor([[0.0839, 0.5220, 0.3679, 0.6493],\n",
      "        [0.9489, 0.8792, 0.7036, 0.8857],\n",
      "        [0.9096, 0.6761, 0.0616, 0.9396]])\n",
      "Datatype of tensor: torch.float32\n",
      "Shape of tensor: torch.Size([3, 4])\n",
      "Device tensor is on: cpu\n"
     ]
    }
   ],
   "source": [
    "print(some_tensor)\n",
    "print(f\"Datatype of tensor: {some_tensor.dtype}\")\n",
    "print(f\"Shape of tensor: {some_tensor.shape}\")\n",
    "print(f\"Device tensor is on: {some_tensor.device}\")"
   ]
  },
  {
   "cell_type": "markdown",
   "id": "fe4a64fd",
   "metadata": {},
   "source": [
    "# Manipulating Tensors (tensor operations)\n",
    "* Addition\n",
    "* Subtraction\n",
    "* Multiplication\n",
    "* Division\n",
    "* Matrix Multiplication"
   ]
  },
  {
   "cell_type": "code",
   "execution_count": 64,
   "id": "c3689510",
   "metadata": {
    "ExecuteTime": {
     "end_time": "2023-04-18T21:44:01.540196Z",
     "start_time": "2023-04-18T21:44:01.514724Z"
    }
   },
   "outputs": [
    {
     "data": {
      "text/plain": [
       "tensor([11., 12., 13.])"
      ]
     },
     "execution_count": 64,
     "metadata": {},
     "output_type": "execute_result"
    }
   ],
   "source": [
    "tensor = torch.Tensor([1, 2, 3])\n",
    "tensor + 10"
   ]
  },
  {
   "cell_type": "code",
   "execution_count": 65,
   "id": "58231b48",
   "metadata": {
    "ExecuteTime": {
     "end_time": "2023-04-18T21:44:01.572594Z",
     "start_time": "2023-04-18T21:44:01.548509Z"
    }
   },
   "outputs": [
    {
     "data": {
      "text/plain": [
       "tensor([10., 20., 30.])"
      ]
     },
     "execution_count": 65,
     "metadata": {},
     "output_type": "execute_result"
    }
   ],
   "source": [
    "# Multiply by 10\n",
    "tensor * 10"
   ]
  },
  {
   "cell_type": "code",
   "execution_count": 66,
   "id": "e6aa9e3f",
   "metadata": {
    "ExecuteTime": {
     "end_time": "2023-04-18T21:44:01.596393Z",
     "start_time": "2023-04-18T21:44:01.575743Z"
    }
   },
   "outputs": [
    {
     "data": {
      "text/plain": [
       "tensor([0.1000, 0.2000, 0.3000])"
      ]
     },
     "execution_count": 66,
     "metadata": {},
     "output_type": "execute_result"
    }
   ],
   "source": [
    "# divide by 10\n",
    "tensor / 10"
   ]
  },
  {
   "cell_type": "code",
   "execution_count": 67,
   "id": "978811b9",
   "metadata": {
    "ExecuteTime": {
     "end_time": "2023-04-18T21:44:01.629949Z",
     "start_time": "2023-04-18T21:44:01.603446Z"
    }
   },
   "outputs": [
    {
     "data": {
      "text/plain": [
       "tensor([10., 20., 30.])"
      ]
     },
     "execution_count": 67,
     "metadata": {},
     "output_type": "execute_result"
    }
   ],
   "source": [
    "torch.mul(tensor, 10)"
   ]
  },
  {
   "cell_type": "code",
   "execution_count": 68,
   "id": "2267f3a3",
   "metadata": {
    "ExecuteTime": {
     "end_time": "2023-04-18T21:44:01.660994Z",
     "start_time": "2023-04-18T21:44:01.637853Z"
    }
   },
   "outputs": [
    {
     "data": {
      "text/plain": [
       "tensor([1., 4., 9.])"
      ]
     },
     "execution_count": 68,
     "metadata": {},
     "output_type": "execute_result"
    }
   ],
   "source": [
    "# element-wise multplication\n",
    "tensor * tensor"
   ]
  },
  {
   "cell_type": "markdown",
   "id": "3560412f",
   "metadata": {},
   "source": [
    "# Matrix Multiplication\n",
    "Two main ways to performing multiplication in neural networks and deep learning\n",
    "1. Element-wise \n",
    "2. Matrix Multiplication(dot product)"
   ]
  },
  {
   "cell_type": "code",
   "execution_count": 69,
   "id": "db9062e6",
   "metadata": {
    "ExecuteTime": {
     "end_time": "2023-04-18T21:44:01.695918Z",
     "start_time": "2023-04-18T21:44:01.664433Z"
    }
   },
   "outputs": [
    {
     "name": "stdout",
     "output_type": "stream",
     "text": [
      "tensor([1., 2., 3.]) * tensor([1., 2., 3.])\n"
     ]
    }
   ],
   "source": [
    "print(tensor, \"*\", tensor)"
   ]
  },
  {
   "cell_type": "code",
   "execution_count": 70,
   "id": "3e99fa31",
   "metadata": {
    "ExecuteTime": {
     "end_time": "2023-04-18T21:44:01.733874Z",
     "start_time": "2023-04-18T21:44:01.707584Z"
    }
   },
   "outputs": [
    {
     "name": "stdout",
     "output_type": "stream",
     "text": [
      "Equal: tensor([1., 4., 9.])\n"
     ]
    }
   ],
   "source": [
    "print(f\"Equal: {tensor * tensor}\")"
   ]
  },
  {
   "cell_type": "code",
   "execution_count": 71,
   "id": "eddb00b7",
   "metadata": {
    "ExecuteTime": {
     "end_time": "2023-04-18T21:44:01.782647Z",
     "start_time": "2023-04-18T21:44:01.746819Z"
    }
   },
   "outputs": [
    {
     "data": {
      "text/plain": [
       "tensor(14.)"
      ]
     },
     "execution_count": 71,
     "metadata": {},
     "output_type": "execute_result"
    }
   ],
   "source": [
    "torch.matmul(tensor, tensor)"
   ]
  },
  {
   "cell_type": "code",
   "execution_count": 72,
   "id": "8c5cf892",
   "metadata": {
    "ExecuteTime": {
     "end_time": "2023-04-18T21:44:01.829564Z",
     "start_time": "2023-04-18T21:44:01.792288Z"
    }
   },
   "outputs": [
    {
     "data": {
      "text/plain": [
       "tensor(14.)"
      ]
     },
     "execution_count": 72,
     "metadata": {},
     "output_type": "execute_result"
    }
   ],
   "source": [
    "# matric multiplication by hand\n",
    "1 * 1 + 2 * 2 + 3 * 3\n",
    "tensor.dot(tensor)"
   ]
  },
  {
   "cell_type": "code",
   "execution_count": 73,
   "id": "52c27557",
   "metadata": {
    "ExecuteTime": {
     "end_time": "2023-04-18T21:44:01.861863Z",
     "start_time": "2023-04-18T21:44:01.839708Z"
    }
   },
   "outputs": [
    {
     "name": "stdout",
     "output_type": "stream",
     "text": [
      "tensor(14.)\n",
      "CPU times: total: 0 ns\n",
      "Wall time: 1.94 ms\n"
     ]
    }
   ],
   "source": [
    "%%time\n",
    "value = 0\n",
    "for i in range(len(tensor)):\n",
    "    value += tensor[i] * tensor[i]\n",
    "print(value)"
   ]
  },
  {
   "cell_type": "code",
   "execution_count": 74,
   "id": "9dba953e",
   "metadata": {
    "ExecuteTime": {
     "end_time": "2023-04-18T21:44:01.893462Z",
     "start_time": "2023-04-18T21:44:01.868864Z"
    }
   },
   "outputs": [
    {
     "name": "stdout",
     "output_type": "stream",
     "text": [
      "CPU times: total: 0 ns\n",
      "Wall time: 0 ns\n"
     ]
    },
    {
     "data": {
      "text/plain": [
       "tensor(14.)"
      ]
     },
     "execution_count": 74,
     "metadata": {},
     "output_type": "execute_result"
    }
   ],
   "source": [
    "%%time\n",
    "torch.matmul(tensor, tensor)"
   ]
  },
  {
   "cell_type": "code",
   "execution_count": 75,
   "id": "76f3a961",
   "metadata": {
    "ExecuteTime": {
     "end_time": "2023-04-18T21:44:01.920995Z",
     "start_time": "2023-04-18T21:44:01.900695Z"
    }
   },
   "outputs": [
    {
     "data": {
      "text/plain": [
       "tensor([1., 2., 3.])"
      ]
     },
     "execution_count": 75,
     "metadata": {},
     "output_type": "execute_result"
    }
   ],
   "source": [
    "tensor"
   ]
  },
  {
   "cell_type": "markdown",
   "id": "8cae4942",
   "metadata": {},
   "source": [
    "### One of the most common error is deep learning: Shape errors\n",
    "\n",
    "1. The **inner dimension** must match:\n",
    "* `(3,2) @ (3, 2)` won't work\n",
    "* `(2,3) @ (3, 2)` will work\n",
    "* `(3,2) @ (2, 3)` will work\n",
    "2. The resulting matrix has the shape of **outer dimensions**:\n",
    "* `(2, 3) @ (3, 2)` -> `(2, 2)`\n",
    "* `(3, 2) @ (2, 3)` -> `(3, 3)` "
   ]
  },
  {
   "cell_type": "code",
   "execution_count": 76,
   "id": "fba26ad4",
   "metadata": {
    "ExecuteTime": {
     "end_time": "2023-04-18T21:44:01.958426Z",
     "start_time": "2023-04-18T21:44:01.927776Z"
    }
   },
   "outputs": [
    {
     "name": "stdout",
     "output_type": "stream",
     "text": [
      "Input shape: torch.Size([3, 4])\n",
      "\n",
      "Output:\n",
      "tensor([[2.2368, 1.2292, 0.4714, 0.3864, 0.1309, 0.9838],\n",
      "        [4.4919, 2.1970, 0.4469, 0.5285, 0.3401, 2.4777],\n",
      "        [6.7469, 3.1648, 0.4224, 0.6705, 0.5493, 3.9716]],\n",
      "       grad_fn=<AddmmBackward0>)\n",
      "\n",
      "Output shape: torch.Size([3, 6])\n"
     ]
    }
   ],
   "source": [
    "# Since the linear layer starts with a random weights matrix, let's make it reproducible (more on this later)\n",
    "torch.manual_seed(42)\n",
    "# This uses matrix multiplication\n",
    "linear = torch.nn.Linear(in_features=2, # in_features = matches inner dimension of input \n",
    "                         out_features=6) # out_features = describes outer value \n",
    "tensor_A = torch.tensor([[1, 2],\n",
    "                         [3, 4],\n",
    "                         [5, 6]], dtype=torch.float32)\n",
    "\n",
    "output = linear(tensor_A)\n",
    "\n",
    "print(f\"Input shape: {x.shape}\\n\")\n",
    "print(f\"Output:\\n{output}\\n\\nOutput shape: {output.shape}\")"
   ]
  },
  {
   "cell_type": "code",
   "execution_count": 77,
   "id": "c73e1e46",
   "metadata": {
    "ExecuteTime": {
     "end_time": "2023-04-18T21:44:01.985598Z",
     "start_time": "2023-04-18T21:44:01.963128Z"
    }
   },
   "outputs": [],
   "source": [
    "## Tensor aggregation\n",
    "## Finding Min-Max-Mean-Sum etc"
   ]
  },
  {
   "cell_type": "code",
   "execution_count": 78,
   "id": "aa46bd0b",
   "metadata": {
    "ExecuteTime": {
     "end_time": "2023-04-18T21:44:02.014349Z",
     "start_time": "2023-04-18T21:44:01.994380Z"
    }
   },
   "outputs": [
    {
     "data": {
      "text/plain": [
       "tensor([ 0, 10, 20, 30, 40, 50, 60, 70, 80, 90])"
      ]
     },
     "execution_count": 78,
     "metadata": {},
     "output_type": "execute_result"
    }
   ],
   "source": [
    "x = torch.arange(0, 100, 10)\n",
    "x"
   ]
  },
  {
   "cell_type": "code",
   "execution_count": 79,
   "id": "0c8e785e",
   "metadata": {
    "ExecuteTime": {
     "end_time": "2023-04-18T21:44:02.046530Z",
     "start_time": "2023-04-18T21:44:02.018237Z"
    }
   },
   "outputs": [
    {
     "data": {
      "text/plain": [
       "(tensor(0), tensor(0))"
      ]
     },
     "execution_count": 79,
     "metadata": {},
     "output_type": "execute_result"
    }
   ],
   "source": [
    "torch.min(x), x.min()"
   ]
  },
  {
   "cell_type": "code",
   "execution_count": 80,
   "id": "c30c5216",
   "metadata": {
    "ExecuteTime": {
     "end_time": "2023-04-18T21:44:02.079318Z",
     "start_time": "2023-04-18T21:44:02.054002Z"
    }
   },
   "outputs": [
    {
     "data": {
      "text/plain": [
       "(tensor(90), tensor(90))"
      ]
     },
     "execution_count": 80,
     "metadata": {},
     "output_type": "execute_result"
    }
   ],
   "source": [
    "torch.max(x), x.max()"
   ]
  },
  {
   "cell_type": "code",
   "execution_count": 81,
   "id": "17639ef9",
   "metadata": {
    "ExecuteTime": {
     "end_time": "2023-04-18T21:44:02.136452Z",
     "start_time": "2023-04-18T21:44:02.085677Z"
    }
   },
   "outputs": [
    {
     "data": {
      "text/plain": [
       "(tensor(45.), tensor(45.))"
      ]
     },
     "execution_count": 81,
     "metadata": {},
     "output_type": "execute_result"
    }
   ],
   "source": [
    "# torch.mean() required a tensor float32 datatype to work\n",
    "torch.mean(x.type(torch.float32)), x.type(torch.float32).mean()"
   ]
  },
  {
   "cell_type": "code",
   "execution_count": 82,
   "id": "f6126f67",
   "metadata": {
    "ExecuteTime": {
     "end_time": "2023-04-18T21:44:02.181024Z",
     "start_time": "2023-04-18T21:44:02.150902Z"
    }
   },
   "outputs": [
    {
     "data": {
      "text/plain": [
       "(tensor(450), tensor(450))"
      ]
     },
     "execution_count": 82,
     "metadata": {},
     "output_type": "execute_result"
    }
   ],
   "source": [
    "# find the sum\n",
    "x.sum(), torch.sum(x)"
   ]
  },
  {
   "cell_type": "markdown",
   "id": "20b9ca62",
   "metadata": {},
   "source": [
    "# Finding the positional min and max"
   ]
  },
  {
   "cell_type": "code",
   "execution_count": 83,
   "id": "1bdff6b6",
   "metadata": {
    "ExecuteTime": {
     "end_time": "2023-04-18T21:44:02.222414Z",
     "start_time": "2023-04-18T21:44:02.194766Z"
    }
   },
   "outputs": [
    {
     "data": {
      "text/plain": [
       "tensor([ 1, 11, 21, 31, 41, 51, 61, 71, 81, 91])"
      ]
     },
     "execution_count": 83,
     "metadata": {},
     "output_type": "execute_result"
    }
   ],
   "source": [
    "x = torch.arange(1, 100, 10)\n",
    "x"
   ]
  },
  {
   "cell_type": "code",
   "execution_count": 84,
   "id": "f9c39605",
   "metadata": {
    "ExecuteTime": {
     "end_time": "2023-04-18T21:44:02.271116Z",
     "start_time": "2023-04-18T21:44:02.235033Z"
    }
   },
   "outputs": [
    {
     "data": {
      "text/plain": [
       "(tensor(0), tensor(1))"
      ]
     },
     "execution_count": 84,
     "metadata": {},
     "output_type": "execute_result"
    }
   ],
   "source": [
    "x.argmin(), x[0]"
   ]
  },
  {
   "cell_type": "code",
   "execution_count": 85,
   "id": "3663390e",
   "metadata": {
    "ExecuteTime": {
     "end_time": "2023-04-18T21:44:02.305754Z",
     "start_time": "2023-04-18T21:44:02.284023Z"
    }
   },
   "outputs": [
    {
     "data": {
      "text/plain": [
       "(tensor(9), tensor(91))"
      ]
     },
     "execution_count": 85,
     "metadata": {},
     "output_type": "execute_result"
    }
   ],
   "source": [
    "x.argmax(), x[9]"
   ]
  },
  {
   "cell_type": "markdown",
   "id": "d531542b",
   "metadata": {
    "ExecuteTime": {
     "end_time": "2023-03-02T22:22:05.500221Z",
     "start_time": "2023-03-02T22:22:05.488222Z"
    }
   },
   "source": [
    "# video 27 - Stacking\n",
    "\n",
    "## Reshaping, Stacking, Squeezing and Unsqueezing tensors\n",
    "* Reshaping - reshape tensor to defined shape\n",
    "* view = return a view of an input tensor of certain shape but keep the same memory as the original tensor\n",
    "* Stacking - combine multiple tensors on top of each othe (vstack) or side by side (hstack)\n",
    "* squeeze - removes all `1` dimensions from a tensor\n",
    "* Unsqueeze - add a `1` dimension to a target tensor\n",
    "* premute - Return a view of the input with dimension permuted(swapped)in certain way"
   ]
  },
  {
   "cell_type": "code",
   "execution_count": 86,
   "id": "21096ebb",
   "metadata": {
    "ExecuteTime": {
     "end_time": "2023-04-18T21:44:02.331547Z",
     "start_time": "2023-04-18T21:44:02.313083Z"
    }
   },
   "outputs": [
    {
     "data": {
      "text/plain": [
       "(tensor([1., 2., 3., 4., 5., 6., 7., 8., 9.]), torch.Size([9]))"
      ]
     },
     "execution_count": 86,
     "metadata": {},
     "output_type": "execute_result"
    }
   ],
   "source": [
    "import torch\n",
    "x = torch.arange(1., 10.)\n",
    "x, x.shape"
   ]
  },
  {
   "cell_type": "code",
   "execution_count": 87,
   "id": "a6914e69",
   "metadata": {
    "ExecuteTime": {
     "end_time": "2023-04-18T21:44:02.371909Z",
     "start_time": "2023-04-18T21:44:02.340479Z"
    }
   },
   "outputs": [
    {
     "data": {
      "text/plain": [
       "(tensor([[1., 2., 3., 4., 5., 6., 7., 8., 9.]]), torch.Size([1, 9]))"
      ]
     },
     "execution_count": 87,
     "metadata": {},
     "output_type": "execute_result"
    }
   ],
   "source": [
    "# Add an extra dimension\n",
    "x_reshaped = x.reshape(1, 9)\n",
    "x_reshaped, x_reshaped.shape"
   ]
  },
  {
   "cell_type": "code",
   "execution_count": 88,
   "id": "9961eb8a",
   "metadata": {
    "ExecuteTime": {
     "end_time": "2023-04-18T21:44:02.405487Z",
     "start_time": "2023-04-18T21:44:02.378754Z"
    }
   },
   "outputs": [
    {
     "data": {
      "text/plain": [
       "(tensor([[1., 2., 3., 4., 5., 6., 7., 8., 9.]]), torch.Size([1, 9]))"
      ]
     },
     "execution_count": 88,
     "metadata": {},
     "output_type": "execute_result"
    }
   ],
   "source": [
    "z = x.view(1, 9)\n",
    "z, z.shape"
   ]
  },
  {
   "cell_type": "markdown",
   "id": "fca6fb8e",
   "metadata": {
    "ExecuteTime": {
     "end_time": "2023-03-02T22:32:43.991667Z",
     "start_time": "2023-03-02T22:32:43.981669Z"
    }
   },
   "source": []
  },
  {
   "cell_type": "code",
   "execution_count": 89,
   "id": "886e9df3",
   "metadata": {
    "ExecuteTime": {
     "end_time": "2023-04-18T21:44:02.437762Z",
     "start_time": "2023-04-18T21:44:02.414489Z"
    }
   },
   "outputs": [
    {
     "data": {
      "text/plain": [
       "(tensor([[5., 2., 3., 4., 5., 6., 7., 8., 9.]]),\n",
       " tensor([5., 2., 3., 4., 5., 6., 7., 8., 9.]))"
      ]
     },
     "execution_count": 89,
     "metadata": {},
     "output_type": "execute_result"
    }
   ],
   "source": [
    "# Changing z changes x (because a view of a tensor shares the same memory as the original x)\n",
    "z[:, 0] = 5\n",
    "z, x"
   ]
  },
  {
   "cell_type": "code",
   "execution_count": 90,
   "id": "fc3d49b9",
   "metadata": {
    "ExecuteTime": {
     "end_time": "2023-04-18T21:44:02.463806Z",
     "start_time": "2023-04-18T21:44:02.445667Z"
    }
   },
   "outputs": [
    {
     "data": {
      "text/plain": [
       "3"
      ]
     },
     "execution_count": 90,
     "metadata": {},
     "output_type": "execute_result"
    }
   ],
   "source": [
    "ex = torch.randint(len(x), size=(1,)).item()\n",
    "ex"
   ]
  },
  {
   "cell_type": "code",
   "execution_count": 91,
   "id": "89580cdb",
   "metadata": {
    "ExecuteTime": {
     "end_time": "2023-04-18T21:44:02.481400Z",
     "start_time": "2023-04-18T21:44:02.467172Z"
    }
   },
   "outputs": [
    {
     "data": {
      "text/plain": [
       "tensor([[5., 5., 5., 5.],\n",
       "        [2., 2., 2., 2.],\n",
       "        [3., 3., 3., 3.],\n",
       "        [4., 4., 4., 4.],\n",
       "        [5., 5., 5., 5.],\n",
       "        [6., 6., 6., 6.],\n",
       "        [7., 7., 7., 7.],\n",
       "        [8., 8., 8., 8.],\n",
       "        [9., 9., 9., 9.]])"
      ]
     },
     "execution_count": 91,
     "metadata": {},
     "output_type": "execute_result"
    }
   ],
   "source": [
    "# Stack tensors on top of each other\n",
    "x_stacked = torch.stack([x, x, x, x], dim=1)\n",
    "x_stacked"
   ]
  },
  {
   "cell_type": "code",
   "execution_count": 92,
   "id": "d5343d21",
   "metadata": {
    "ExecuteTime": {
     "end_time": "2023-04-18T21:44:02.504374Z",
     "start_time": "2023-04-18T21:44:02.482395Z"
    }
   },
   "outputs": [
    {
     "data": {
      "text/plain": [
       "tensor([5., 2., 3., 4., 5., 6., 7., 8., 9., 5., 2., 3., 4., 5., 6., 7., 8., 9.,\n",
       "        5., 2., 3., 4., 5., 6., 7., 8., 9.])"
      ]
     },
     "execution_count": 92,
     "metadata": {},
     "output_type": "execute_result"
    }
   ],
   "source": [
    "h_stack = torch.hstack([x, x, x])\n",
    "h_stack"
   ]
  },
  {
   "cell_type": "code",
   "execution_count": 93,
   "id": "355f7291",
   "metadata": {
    "ExecuteTime": {
     "end_time": "2023-04-18T21:44:02.533781Z",
     "start_time": "2023-04-18T21:44:02.510009Z"
    }
   },
   "outputs": [
    {
     "name": "stdout",
     "output_type": "stream",
     "text": [
      "Previous tensor: tensor([[5., 2., 3., 4., 5., 6., 7., 8., 9.]])\n",
      "previous shape:torch.Size([1, 9])\n",
      "Previous tensor: tensor([5., 2., 3., 4., 5., 6., 7., 8., 9.])\n",
      "previous shape:torch.Size([9])\n"
     ]
    }
   ],
   "source": [
    "print(f\"Previous tensor: {x_reshaped}\")\n",
    "print(f\"previous shape:{x_reshaped.shape}\")\n",
    "\n",
    "x_squeezed = x_reshaped.squeeze()\n",
    "print(f\"Previous tensor: {x_squeezed}\")\n",
    "print(f\"previous shape:{x_squeezed.shape}\")\n"
   ]
  },
  {
   "cell_type": "code",
   "execution_count": 94,
   "id": "4589fc34",
   "metadata": {
    "ExecuteTime": {
     "end_time": "2023-04-18T21:44:02.559187Z",
     "start_time": "2023-04-18T21:44:02.539553Z"
    }
   },
   "outputs": [
    {
     "name": "stdout",
     "output_type": "stream",
     "text": [
      "Previous target: tensor([5., 2., 3., 4., 5., 6., 7., 8., 9.])\n",
      "previous shape:torch.Size([9])\n",
      "\n",
      "New  tensor: tensor([[5., 2., 3., 4., 5., 6., 7., 8., 9.]])\n",
      "previous shape:torch.Size([1, 9])\n"
     ]
    }
   ],
   "source": [
    "# torch.unsqueeze - adds a single dimenson to a target tensor at a specific dim (dimension)\n",
    "print(f\"Previous target: {x_squeezed}\")\n",
    "print(f\"previous shape:{x_squeezed.shape}\")\n",
    "\n",
    "# Add a extra dimension with unsqueeze\n",
    "x_unsqueezed = x_squeezed.unsqueeze(dim=0)\n",
    "print(f\"\\nNew  tensor: {x_unsqueezed}\")\n",
    "print(f\"previous shape:{x_unsqueezed.shape}\")\n"
   ]
  },
  {
   "cell_type": "code",
   "execution_count": 95,
   "id": "8e18fd9e",
   "metadata": {
    "ExecuteTime": {
     "end_time": "2023-04-18T21:44:02.586403Z",
     "start_time": "2023-04-18T21:44:02.564597Z"
    }
   },
   "outputs": [
    {
     "name": "stdout",
     "output_type": "stream",
     "text": [
      "Previous Shape: torch.Size([224, 224, 3])\n",
      "New shape:torch.Size([3, 224, 224])\n"
     ]
    }
   ],
   "source": [
    "# torch.premute - returns a view - rearranges the dimensions of target tensor in a specified order\n",
    "x_original = torch.rand(size=(224, 224, 3)) # [height, width, color_channel]\n",
    "\n",
    "# permute the originl tensor to rearrange the axis(or dim) order\n",
    "x_permuted = x_original.permute(2, 0, 1) # shifts axis 0 -> , 1->2, 2->0\n",
    "x_permuted\n",
    "\n",
    "print(f\"Previous Shape: {x_original.shape}\")\n",
    "print(f\"New shape:{x_permuted.shape}\")"
   ]
  },
  {
   "cell_type": "code",
   "execution_count": 96,
   "id": "5205bc9c",
   "metadata": {
    "ExecuteTime": {
     "end_time": "2023-04-18T21:44:02.605855Z",
     "start_time": "2023-04-18T21:44:02.592872Z"
    }
   },
   "outputs": [],
   "source": [
    "# view share same memory as the original tensor"
   ]
  },
  {
   "cell_type": "code",
   "execution_count": 97,
   "id": "2bca4bc2",
   "metadata": {
    "ExecuteTime": {
     "end_time": "2023-04-18T21:44:02.632567Z",
     "start_time": "2023-04-18T21:44:02.611219Z"
    }
   },
   "outputs": [],
   "source": [
    "x_original[0,0,0] = 1234"
   ]
  },
  {
   "cell_type": "code",
   "execution_count": 98,
   "id": "bdc9a5cd",
   "metadata": {
    "ExecuteTime": {
     "end_time": "2023-04-18T21:44:02.670863Z",
     "start_time": "2023-04-18T21:44:02.640911Z"
    }
   },
   "outputs": [
    {
     "data": {
      "text/plain": [
       "(tensor(1234.), tensor(1234.))"
      ]
     },
     "execution_count": 98,
     "metadata": {},
     "output_type": "execute_result"
    }
   ],
   "source": [
    "x_original[0, 0, 0], x_permuted[0, 0, 0]"
   ]
  },
  {
   "cell_type": "markdown",
   "id": "ef37a1f7",
   "metadata": {},
   "source": [
    "## Indexing (selecting data from tensors)\n",
    "\n",
    "Indexing with PyTorch is similar to indexing with numpy"
   ]
  },
  {
   "cell_type": "code",
   "execution_count": 99,
   "id": "9942e605",
   "metadata": {
    "ExecuteTime": {
     "end_time": "2023-04-18T21:44:02.705953Z",
     "start_time": "2023-04-18T21:44:02.679720Z"
    }
   },
   "outputs": [
    {
     "data": {
      "text/plain": [
       "(tensor([[[1, 2, 3],\n",
       "          [4, 5, 6],\n",
       "          [7, 8, 9]]]),\n",
       " torch.Size([1, 3, 3]))"
      ]
     },
     "execution_count": 99,
     "metadata": {},
     "output_type": "execute_result"
    }
   ],
   "source": [
    "# create a tensor\n",
    "import torch\n",
    "x = torch.arange(1, 10).reshape(1, 3, 3)\n",
    "x, x.shape"
   ]
  },
  {
   "cell_type": "code",
   "execution_count": 100,
   "id": "c7e3100b",
   "metadata": {
    "ExecuteTime": {
     "end_time": "2023-04-18T21:44:02.754572Z",
     "start_time": "2023-04-18T21:44:02.717971Z"
    }
   },
   "outputs": [
    {
     "data": {
      "text/plain": [
       "tensor([[1, 2, 3],\n",
       "        [4, 5, 6],\n",
       "        [7, 8, 9]])"
      ]
     },
     "execution_count": 100,
     "metadata": {},
     "output_type": "execute_result"
    }
   ],
   "source": [
    "# Let's index on our new tensor\n",
    "x[0]"
   ]
  },
  {
   "cell_type": "code",
   "execution_count": 101,
   "id": "6c5848c2",
   "metadata": {
    "ExecuteTime": {
     "end_time": "2023-04-18T21:44:02.804372Z",
     "start_time": "2023-04-18T21:44:02.765617Z"
    }
   },
   "outputs": [
    {
     "data": {
      "text/plain": [
       "tensor([1, 2, 3])"
      ]
     },
     "execution_count": 101,
     "metadata": {},
     "output_type": "execute_result"
    }
   ],
   "source": [
    "# lets index on middle bracket (dim 1)\n",
    "x[0, 0]"
   ]
  },
  {
   "cell_type": "code",
   "execution_count": 102,
   "id": "d1627725",
   "metadata": {
    "ExecuteTime": {
     "end_time": "2023-04-18T21:44:02.849671Z",
     "start_time": "2023-04-18T21:44:02.812995Z"
    }
   },
   "outputs": [
    {
     "data": {
      "text/plain": [
       "tensor(9)"
      ]
     },
     "execution_count": 102,
     "metadata": {},
     "output_type": "execute_result"
    }
   ],
   "source": [
    "# Lets index on the most inner bracket (last dimension)\n",
    "x[0, 2, 2]"
   ]
  },
  {
   "cell_type": "code",
   "execution_count": 103,
   "id": "9a9930ec",
   "metadata": {
    "ExecuteTime": {
     "end_time": "2023-04-18T21:44:02.892502Z",
     "start_time": "2023-04-18T21:44:02.862558Z"
    }
   },
   "outputs": [
    {
     "data": {
      "text/plain": [
       "tensor([[1, 2, 3]])"
      ]
     },
     "execution_count": 103,
     "metadata": {},
     "output_type": "execute_result"
    }
   ],
   "source": [
    "# You can also use \":\" to select \"all\" of a target dimension\n",
    "x[:, 0]"
   ]
  },
  {
   "cell_type": "code",
   "execution_count": 104,
   "id": "88cf4c78",
   "metadata": {
    "ExecuteTime": {
     "end_time": "2023-04-18T21:44:02.939743Z",
     "start_time": "2023-04-18T21:44:02.905944Z"
    }
   },
   "outputs": [
    {
     "data": {
      "text/plain": [
       "tensor([[2, 5, 8]])"
      ]
     },
     "execution_count": 104,
     "metadata": {},
     "output_type": "execute_result"
    }
   ],
   "source": [
    "# Get all values of 0th and 1st dimensions but only index 1 of 2nd dimension\n",
    "x[:, :, 1]"
   ]
  },
  {
   "cell_type": "code",
   "execution_count": 105,
   "id": "89b8553c",
   "metadata": {
    "ExecuteTime": {
     "end_time": "2023-04-18T21:44:02.988054Z",
     "start_time": "2023-04-18T21:44:02.955366Z"
    }
   },
   "outputs": [
    {
     "data": {
      "text/plain": [
       "tensor([5])"
      ]
     },
     "execution_count": 105,
     "metadata": {},
     "output_type": "execute_result"
    }
   ],
   "source": [
    "# Get all values of 0 dimension but only 1 index values of 1st and 2nd dim\n",
    "x[:, 1, 1]"
   ]
  },
  {
   "cell_type": "code",
   "execution_count": 106,
   "id": "dc5dc48e",
   "metadata": {
    "ExecuteTime": {
     "end_time": "2023-04-18T21:44:03.033631Z",
     "start_time": "2023-04-18T21:44:03.000052Z"
    }
   },
   "outputs": [
    {
     "data": {
      "text/plain": [
       "tensor([1, 2, 3])"
      ]
     },
     "execution_count": 106,
     "metadata": {},
     "output_type": "execute_result"
    }
   ],
   "source": [
    "# Get index 0 of 0th and 1st dimension and all values of 2nd dimension\n",
    "x[0, 0, :]"
   ]
  },
  {
   "cell_type": "code",
   "execution_count": 107,
   "id": "abcf40e3",
   "metadata": {
    "ExecuteTime": {
     "end_time": "2023-04-18T21:44:03.077680Z",
     "start_time": "2023-04-18T21:44:03.045437Z"
    }
   },
   "outputs": [
    {
     "data": {
      "text/plain": [
       "tensor([[3, 6, 9]])"
      ]
     },
     "execution_count": 107,
     "metadata": {},
     "output_type": "execute_result"
    }
   ],
   "source": [
    "# index on x to return 9\n",
    "x[:, :, 2]"
   ]
  },
  {
   "cell_type": "markdown",
   "id": "d1f40756",
   "metadata": {
    "ExecuteTime": {
     "end_time": "2023-03-04T03:18:48.165492Z",
     "start_time": "2023-03-04T03:18:48.147416Z"
    }
   },
   "source": [
    "## PyTorch tensors & NumPy\n",
    "\n",
    "pytorch tensor -> NumPy -> `torch.Tensor.numpy()`"
   ]
  },
  {
   "cell_type": "code",
   "execution_count": 108,
   "id": "95f0943e",
   "metadata": {
    "ExecuteTime": {
     "end_time": "2023-04-18T21:44:03.139196Z",
     "start_time": "2023-04-18T21:44:03.090634Z"
    }
   },
   "outputs": [
    {
     "data": {
      "text/plain": [
       "(array([1., 2., 3., 4., 5., 6., 7.]),\n",
       " tensor([1., 2., 3., 4., 5., 6., 7.], dtype=torch.float64))"
      ]
     },
     "execution_count": 108,
     "metadata": {},
     "output_type": "execute_result"
    }
   ],
   "source": [
    "import torch\n",
    "import numpy as np\n",
    "\n",
    "array = np.arange(1.0, 8.0)\n",
    "tensor = torch.from_numpy(array)\n",
    "array, tensor"
   ]
  },
  {
   "cell_type": "code",
   "execution_count": 109,
   "id": "587a52ba",
   "metadata": {
    "ExecuteTime": {
     "end_time": "2023-04-18T21:44:03.183912Z",
     "start_time": "2023-04-18T21:44:03.150392Z"
    }
   },
   "outputs": [
    {
     "data": {
      "text/plain": [
       "dtype('float64')"
      ]
     },
     "execution_count": 109,
     "metadata": {},
     "output_type": "execute_result"
    }
   ],
   "source": [
    "array.dtype"
   ]
  },
  {
   "cell_type": "code",
   "execution_count": 110,
   "id": "b734bfd7",
   "metadata": {
    "ExecuteTime": {
     "end_time": "2023-04-18T21:44:03.239498Z",
     "start_time": "2023-04-18T21:44:03.195579Z"
    }
   },
   "outputs": [
    {
     "data": {
      "text/plain": [
       "torch.float64"
      ]
     },
     "execution_count": 110,
     "metadata": {},
     "output_type": "execute_result"
    }
   ],
   "source": [
    "tensor.dtype"
   ]
  },
  {
   "cell_type": "markdown",
   "id": "3ae50507",
   "metadata": {},
   "source": [
    "# Reproducibility ( trying to take random out of random)\n",
    "\n",
    "In short how a neural networks learns:\n",
    "\n",
    "`Start with random numbers -> tensor operations -> update random numbers to try and make them representation of data -> again -> again`\n",
    "\n",
    "to reduce randomness in neural networds and pytorch comes the concept of **random seed**.\n",
    "\n",
    "essentially what random seed does is \"flavour\" the randomness"
   ]
  },
  {
   "cell_type": "code",
   "execution_count": 111,
   "id": "513947ee",
   "metadata": {
    "ExecuteTime": {
     "end_time": "2023-04-18T21:44:03.302237Z",
     "start_time": "2023-04-18T21:44:03.250118Z"
    }
   },
   "outputs": [
    {
     "name": "stdout",
     "output_type": "stream",
     "text": [
      "tensor([[0.8823, 0.9150, 0.3829, 0.9593],\n",
      "        [0.3904, 0.6009, 0.2566, 0.7936],\n",
      "        [0.9408, 0.1332, 0.9346, 0.5936]])\n",
      "tensor([[0.8823, 0.9150, 0.3829, 0.9593],\n",
      "        [0.3904, 0.6009, 0.2566, 0.7936],\n",
      "        [0.9408, 0.1332, 0.9346, 0.5936]])\n",
      "tensor([[True, True, True, True],\n",
      "        [True, True, True, True],\n",
      "        [True, True, True, True]])\n"
     ]
    }
   ],
   "source": [
    "import torch\n",
    "torch.manual_seed(42)\n",
    "\n",
    "# create two random tensors\n",
    "random_tensor_A = torch.rand(3, 4)\n",
    "\n",
    "torch.manual_seed(42)\n",
    "random_tensor_B = torch.rand(3, 4)\n",
    "\n",
    "print(random_tensor_A)\n",
    "print(random_tensor_B)\n",
    "print(random_tensor_A == random_tensor_B)"
   ]
  },
  {
   "cell_type": "markdown",
   "id": "fed2d703",
   "metadata": {
    "ExecuteTime": {
     "end_time": "2023-03-06T22:25:12.974380Z",
     "start_time": "2023-03-06T22:25:12.961345Z"
    }
   },
   "source": [
    "## 32 - Running tensors and pytorch objects on the GPU's (and making faster computations)\n",
    "\n",
    "CUDA + NVIDIA hardware + PyTorch working behind the scenes to make everything hunky dory"
   ]
  },
  {
   "cell_type": "markdown",
   "id": "39bc3d14",
   "metadata": {
    "ExecuteTime": {
     "end_time": "2023-03-06T22:26:58.900113Z",
     "start_time": "2023-03-06T22:26:58.878120Z"
    }
   },
   "source": [
    "### 1. Getting GPU\n",
    "1. Easiest = use google colab\n",
    "2. Use your own \n",
    "3. Using cloud computing - GCP, AWS, Azure"
   ]
  },
  {
   "cell_type": "code",
   "execution_count": 112,
   "id": "65209650",
   "metadata": {
    "ExecuteTime": {
     "end_time": "2023-04-18T21:44:04.688673Z",
     "start_time": "2023-04-18T21:44:03.312825Z"
    }
   },
   "outputs": [
    {
     "name": "stdout",
     "output_type": "stream",
     "text": [
      "Tue Apr 18 17:44:04 2023       \n",
      "+-----------------------------------------------------------------------------+\n",
      "| NVIDIA-SMI 517.66       Driver Version: 517.66       CUDA Version: 11.7     |\n",
      "|-------------------------------+----------------------+----------------------+\n",
      "| GPU  Name            TCC/WDDM | Bus-Id        Disp.A | Volatile Uncorr. ECC |\n",
      "| Fan  Temp  Perf  Pwr:Usage/Cap|         Memory-Usage | GPU-Util  Compute M. |\n",
      "|                               |                      |               MIG M. |\n",
      "|===============================+======================+======================|\n",
      "|   0  Quadro P1000       WDDM  | 00000000:01:00.0 Off |                  N/A |\n",
      "| N/A   40C    P3    N/A /  N/A |      0MiB /  4096MiB |      1%      Default |\n",
      "|                               |                      |                  N/A |\n",
      "+-------------------------------+----------------------+----------------------+\n",
      "                                                                               \n",
      "+-----------------------------------------------------------------------------+\n",
      "| Processes:                                                                  |\n",
      "|  GPU   GI   CI        PID   Type   Process name                  GPU Memory |\n",
      "|        ID   ID                                                   Usage      |\n",
      "|=============================================================================|\n",
      "|  No running processes found                                                 |\n",
      "+-----------------------------------------------------------------------------+\n"
     ]
    }
   ],
   "source": [
    "!nvidia-smi"
   ]
  },
  {
   "cell_type": "markdown",
   "id": "a3055708",
   "metadata": {},
   "source": [
    "### 2. Check for GPU access with PyTorch"
   ]
  },
  {
   "cell_type": "code",
   "execution_count": 113,
   "id": "127a0e52",
   "metadata": {
    "ExecuteTime": {
     "end_time": "2023-04-18T21:44:04.720753Z",
     "start_time": "2023-04-18T21:44:04.691817Z"
    }
   },
   "outputs": [
    {
     "data": {
      "text/plain": [
       "False"
      ]
     },
     "execution_count": 113,
     "metadata": {},
     "output_type": "execute_result"
    }
   ],
   "source": [
    "import torch\n",
    "torch.cuda.is_available()"
   ]
  },
  {
   "cell_type": "code",
   "execution_count": 114,
   "id": "c3bf8517",
   "metadata": {
    "ExecuteTime": {
     "end_time": "2023-04-18T21:44:04.748933Z",
     "start_time": "2023-04-18T21:44:04.726189Z"
    }
   },
   "outputs": [
    {
     "data": {
      "text/plain": [
       "'cpu'"
      ]
     },
     "execution_count": 114,
     "metadata": {},
     "output_type": "execute_result"
    }
   ],
   "source": [
    "device = \"cuda\" if torch.cuda.is_available() else 'cpu'\n",
    "device"
   ]
  },
  {
   "cell_type": "code",
   "execution_count": 115,
   "id": "2d4b9d01",
   "metadata": {
    "ExecuteTime": {
     "end_time": "2023-04-18T21:44:04.779711Z",
     "start_time": "2023-04-18T21:44:04.751449Z"
    }
   },
   "outputs": [
    {
     "data": {
      "text/plain": [
       "0"
      ]
     },
     "execution_count": 115,
     "metadata": {},
     "output_type": "execute_result"
    }
   ],
   "source": [
    "# count numbe rof gpu\n",
    "torch.cuda.device_count()"
   ]
  },
  {
   "cell_type": "code",
   "execution_count": 116,
   "id": "b95027bc",
   "metadata": {
    "ExecuteTime": {
     "end_time": "2023-04-18T21:44:04.794837Z",
     "start_time": "2023-04-18T21:44:04.781708Z"
    }
   },
   "outputs": [],
   "source": [
    "## 3. Putting tensors (and models) on the gpu"
   ]
  },
  {
   "cell_type": "code",
   "execution_count": 117,
   "id": "84d03c42",
   "metadata": {
    "ExecuteTime": {
     "end_time": "2023-04-18T21:44:04.810276Z",
     "start_time": "2023-04-18T21:44:04.799562Z"
    }
   },
   "outputs": [],
   "source": [
    "# 36"
   ]
  },
  {
   "cell_type": "code",
   "execution_count": 118,
   "id": "c12bf9ff",
   "metadata": {
    "ExecuteTime": {
     "end_time": "2023-04-18T21:44:04.826036Z",
     "start_time": "2023-04-18T21:44:04.811272Z"
    }
   },
   "outputs": [],
   "source": [
    "import torch\n",
    "\n",
    "x = torch.rand(7, 7, 7)"
   ]
  },
  {
   "cell_type": "code",
   "execution_count": 119,
   "id": "4b216927",
   "metadata": {
    "ExecuteTime": {
     "end_time": "2023-04-18T21:44:04.841826Z",
     "start_time": "2023-04-18T21:44:04.827967Z"
    }
   },
   "outputs": [
    {
     "data": {
      "text/plain": [
       "3"
      ]
     },
     "execution_count": 119,
     "metadata": {},
     "output_type": "execute_result"
    }
   ],
   "source": [
    "x.ndim"
   ]
  },
  {
   "cell_type": "markdown",
   "id": "03e9fa49",
   "metadata": {},
   "source": [
    "## 1. Data (preparing and loading)\n",
    "\n",
    "Data can be almost anything ... in machine learning\n",
    "\n",
    "* Excel spreassheet\n",
    "* Images of any kind\n",
    "* Videos (Youtube has lots of data...)\n",
    "* Audio like songs or poadcasts\n",
    "* DNA\n",
    "* Text\n"
   ]
  },
  {
   "cell_type": "code",
   "execution_count": 120,
   "id": "f7ecbe81",
   "metadata": {
    "ExecuteTime": {
     "end_time": "2023-04-18T21:44:04.857271Z",
     "start_time": "2023-04-18T21:44:04.846486Z"
    }
   },
   "outputs": [],
   "source": [
    "import torch\n",
    "from torch import nn # nn contains all of PyTorch's building blocks for neural networks\n",
    "import matplotlib.pyplot as plt\n",
    "\n",
    "import os\n",
    "os.environ['KMP_DUPLICATE_LIB_OK']='True'\n",
    "\n",
    "# Check PyTorch version\n",
    "torch.__version__\n",
    "\n",
    "# Create *known* parameters\n",
    "weight = 0.7\n",
    "bias = 0.3\n",
    "\n",
    "# Create data\n",
    "start = 0\n",
    "end = 1\n",
    "step = 0.02\n",
    "X = torch.arange(start, end, step).unsqueeze(dim=1)\n",
    "y = weight * X + bias\n",
    "\n",
    "#X[:10], y[:10]"
   ]
  },
  {
   "cell_type": "markdown",
   "id": "d7621e4d",
   "metadata": {},
   "source": [
    "#38\n",
    "### Splitting data into training and test data"
   ]
  },
  {
   "cell_type": "code",
   "execution_count": 121,
   "id": "b20056d9",
   "metadata": {
    "ExecuteTime": {
     "end_time": "2023-04-18T21:44:04.880157Z",
     "start_time": "2023-04-18T21:44:04.863005Z"
    }
   },
   "outputs": [
    {
     "data": {
      "text/plain": [
       "(40, 40, 10, 10)"
      ]
     },
     "execution_count": 121,
     "metadata": {},
     "output_type": "execute_result"
    }
   ],
   "source": [
    "# Create train/test split\n",
    "train_split = int(0.8 * len(X)) # 80% of data used for training set, 20% for testing \n",
    "X_train, y_train = X[:train_split], y[:train_split]\n",
    "X_test, y_test = X[train_split:], y[train_split:]\n",
    "\n",
    "len(X_train), len(y_train), len(X_test), len(y_test)"
   ]
  },
  {
   "cell_type": "code",
   "execution_count": 122,
   "id": "d5b00646",
   "metadata": {
    "ExecuteTime": {
     "end_time": "2023-04-18T21:44:04.896888Z",
     "start_time": "2023-04-18T21:44:04.884542Z"
    }
   },
   "outputs": [],
   "source": [
    "def plot_predictions(train_data=X_train, \n",
    "                     train_labels=y_train, \n",
    "                     test_data=X_test, \n",
    "                     test_labels=y_test, \n",
    "                     predictions=None):\n",
    "    \"\"\"\n",
    "    Plots training data, test data and compares predictions.\n",
    "    \"\"\"\n",
    "    plt.figure(figsize=(10, 7))\n",
    "\n",
    "  # Plot training data in blue\n",
    "    plt.scatter(train_data, train_labels, c=\"b\", s=4, label=\"Training data\")\n",
    "  \n",
    "  # Plot test data in green\n",
    "    plt.scatter(test_data, test_labels, c=\"g\", s=4, label=\"Testing data\")\n",
    "\n",
    "    if predictions is not None:\n",
    "        # Plot the predictions in red (predictions were made on the test data)\n",
    "        plt.scatter(test_data, predictions, c=\"r\", s=4, label=\"Predictions\")\n",
    "\n",
    "    # Show the legend\n",
    "    plt.legend(prop={\"size\": 14});"
   ]
  },
  {
   "cell_type": "code",
   "execution_count": 123,
   "id": "8623881e",
   "metadata": {
    "ExecuteTime": {
     "end_time": "2023-04-18T21:44:05.505423Z",
     "start_time": "2023-04-18T21:44:04.901616Z"
    }
   },
   "outputs": [
    {
     "data": {
      "image/png": "[encoded data removed]",
      "text/plain": [
       "<Figure size 1000x700 with 1 Axes>"
      ]
     },
     "metadata": {},
     "output_type": "display_data"
    }
   ],
   "source": [
    "plot_predictions();"
   ]
  },
  {
   "cell_type": "markdown",
   "id": "ddfe31dc",
   "metadata": {},
   "source": [
    "# Build Model\n",
    "- read about nn.module in pytorch website\n",
    "- https://realpython.com/python3-object-oriented-programming/\n",
    "\n",
    "What our model does:\n",
    "* Start with random values (weight & bias)\n",
    "* Look at training data and adjust the random values to better represent\n",
    "(or get closer to) the ideal values (the weight & bias values we used to create the data)\n",
    "\n",
    "How does it do so ?\n",
    "\n",
    "Two main algorithms:\n",
    "1. Gradient Descent 3blue1brown\n",
    "2. Back Propogation 3blue1brown"
   ]
  },
  {
   "cell_type": "code",
   "execution_count": 124,
   "id": "9fc81994",
   "metadata": {
    "ExecuteTime": {
     "end_time": "2023-04-18T21:44:05.538634Z",
     "start_time": "2023-04-18T21:44:05.510127Z"
    }
   },
   "outputs": [],
   "source": [
    "# Create a Linear Regression model class\n",
    "class LinearRegressionModel(nn.Module): # <- almost everything in PyTorch is a nn.Module (think of this as neural network lego blocks)\n",
    "    def __init__(self):\n",
    "        super().__init__() \n",
    "        \n",
    "        # Initialize model parameter\n",
    "        self.weights = nn.Parameter(torch.randn(1, # <- start with random weights (this will get adjusted as the model learns)\n",
    "                                                dtype=torch.float), # <- PyTorch loves float32 by default\n",
    "                                   requires_grad=True) # <- can we update this value with gradient descent?)\n",
    "\n",
    "        self.bias = nn.Parameter(torch.randn(1, # <- start with random bias (this will get adjusted as the model learns)\n",
    "                                            dtype=torch.float), # <- PyTorch loves float32 by default\n",
    "                                requires_grad=True) # <- can we update this value with gradient descent?))\n",
    "\n",
    "    # Forward defines the computation in the model\n",
    "    def forward(self, x: torch.Tensor) -> torch.Tensor: # <- \"x\" is the input data (e.g. training/testing features)\n",
    "        return self.weights * x + self.bias # <- this is the linear regression formula (y = m*x + b)"
   ]
  },
  {
   "cell_type": "code",
   "execution_count": 125,
   "id": "30341ad4",
   "metadata": {
    "ExecuteTime": {
     "end_time": "2023-04-18T21:44:05.565273Z",
     "start_time": "2023-04-18T21:44:05.544655Z"
    }
   },
   "outputs": [
    {
     "data": {
      "text/plain": [
       "LinearRegressionModel()"
      ]
     },
     "execution_count": 125,
     "metadata": {},
     "output_type": "execute_result"
    }
   ],
   "source": [
    "LinearRegressionModel()"
   ]
  },
  {
   "cell_type": "markdown",
   "id": "83743821",
   "metadata": {
    "ExecuteTime": {
     "end_time": "2023-04-18T12:56:06.646265Z",
     "start_time": "2023-04-18T12:56:06.628958Z"
    }
   },
   "source": [
    "### Pytorch modle building essential\n",
    "\n",
    "* torch.nn - contains all the of the building graphs( neural network considered as computational graph)\n",
    "* torch.nn.parameter\n",
    "* torch.nn.Module - base class for all neural network, if you subclass you should overwrite forward()\n",
    "* torch.optim - optimizer in pytorch they will help with gradiend descent\n",
    "* def forward() - All nn.module subclass require you to overwrite forward()"
   ]
  },
  {
   "cell_type": "code",
   "execution_count": 126,
   "id": "6cf0eeba",
   "metadata": {
    "ExecuteTime": {
     "end_time": "2023-04-18T21:44:05.601840Z",
     "start_time": "2023-04-18T21:44:05.567117Z"
    }
   },
   "outputs": [
    {
     "data": {
      "text/plain": [
       "[Parameter containing:\n",
       " tensor([0.3367], requires_grad=True),\n",
       " Parameter containing:\n",
       " tensor([0.1288], requires_grad=True)]"
      ]
     },
     "execution_count": 126,
     "metadata": {},
     "output_type": "execute_result"
    }
   ],
   "source": [
    "torch.manual_seed(42)\n",
    "model_0 = LinearRegressionModel()\n",
    "list(model_0.parameters())"
   ]
  },
  {
   "cell_type": "code",
   "execution_count": 127,
   "id": "6b26c659",
   "metadata": {
    "ExecuteTime": {
     "end_time": "2023-04-18T21:44:05.638425Z",
     "start_time": "2023-04-18T21:44:05.606153Z"
    }
   },
   "outputs": [
    {
     "data": {
      "text/plain": [
       "OrderedDict([('weights', tensor([0.3367])), ('bias', tensor([0.1288]))])"
      ]
     },
     "execution_count": 127,
     "metadata": {},
     "output_type": "execute_result"
    }
   ],
   "source": [
    "model_0.state_dict()"
   ]
  },
  {
   "cell_type": "code",
   "execution_count": 128,
   "id": "8fa8be15",
   "metadata": {
    "ExecuteTime": {
     "end_time": "2023-04-18T21:44:05.653522Z",
     "start_time": "2023-04-18T21:44:05.642021Z"
    }
   },
   "outputs": [
    {
     "data": {
      "text/plain": [
       "(0.7, 0.3)"
      ]
     },
     "execution_count": 128,
     "metadata": {},
     "output_type": "execute_result"
    }
   ],
   "source": [
    "weight, bias"
   ]
  },
  {
   "cell_type": "markdown",
   "id": "5446fbac",
   "metadata": {},
   "source": [
    "### Making predictions uisng 'torch.inference_mode()'\n",
    "predictive power \n",
    "- predict 'y_test' based on 'X_test'\n",
    "- run it through forward() method"
   ]
  },
  {
   "cell_type": "code",
   "execution_count": 129,
   "id": "dded98b4",
   "metadata": {
    "ExecuteTime": {
     "end_time": "2023-04-18T21:44:05.680049Z",
     "start_time": "2023-04-18T21:44:05.657429Z"
    }
   },
   "outputs": [
    {
     "data": {
      "text/plain": [
       "(tensor([[0.8000],\n",
       "         [0.8200],\n",
       "         [0.8400],\n",
       "         [0.8600],\n",
       "         [0.8800],\n",
       "         [0.9000],\n",
       "         [0.9200],\n",
       "         [0.9400],\n",
       "         [0.9600],\n",
       "         [0.9800]]),\n",
       " tensor([[0.8600],\n",
       "         [0.8740],\n",
       "         [0.8880],\n",
       "         [0.9020],\n",
       "         [0.9160],\n",
       "         [0.9300],\n",
       "         [0.9440],\n",
       "         [0.9580],\n",
       "         [0.9720],\n",
       "         [0.9860]]))"
      ]
     },
     "execution_count": 129,
     "metadata": {},
     "output_type": "execute_result"
    }
   ],
   "source": [
    "X_test, y_test"
   ]
  },
  {
   "cell_type": "code",
   "execution_count": 130,
   "id": "f6660955",
   "metadata": {
    "ExecuteTime": {
     "end_time": "2023-04-18T21:44:05.695496Z",
     "start_time": "2023-04-18T21:44:05.681286Z"
    }
   },
   "outputs": [
    {
     "data": {
      "text/plain": [
       "tensor([[0.3982],\n",
       "        [0.4049],\n",
       "        [0.4116],\n",
       "        [0.4184],\n",
       "        [0.4251],\n",
       "        [0.4318],\n",
       "        [0.4386],\n",
       "        [0.4453],\n",
       "        [0.4520],\n",
       "        [0.4588]])"
      ]
     },
     "execution_count": 130,
     "metadata": {},
     "output_type": "execute_result"
    }
   ],
   "source": [
    "# https://twitter.com/PyTorch/status/1437838231505096708?s=20\n",
    "with torch.inference_mode():\n",
    "    y_preds = model_0(X_test)\n",
    "\n",
    "y_preds"
   ]
  },
  {
   "cell_type": "code",
   "execution_count": 131,
   "id": "a14c50c9",
   "metadata": {
    "ExecuteTime": {
     "end_time": "2023-04-18T21:44:06.290634Z",
     "start_time": "2023-04-18T21:44:05.695496Z"
    }
   },
   "outputs": [
    {
     "data": {
      "image/png": "[encoded data removed]",
      "text/plain": [
       "<Figure size 1000x700 with 1 Axes>"
      ]
     },
     "metadata": {},
     "output_type": "display_data"
    }
   ],
   "source": [
    "plot_predictions(predictions=y_preds)"
   ]
  },
  {
   "cell_type": "markdown",
   "id": "1cc8085e",
   "metadata": {},
   "source": [
    "### Train Model"
   ]
  },
  {
   "cell_type": "markdown",
   "id": "34659808",
   "metadata": {
    "ExecuteTime": {
     "end_time": "2023-04-18T13:23:14.202805Z",
     "start_time": "2023-04-18T13:23:14.195782Z"
    }
   },
   "source": [
    "- train the model to move from *unkown* to * known* parameters\n",
    "- one way to measure how poor or wrong your model prediction are use loss functions\n",
    "* Note: loss functions is also called cost function or criterion in different areas.\n",
    "\n",
    "Things we need to train:\n",
    "\n",
    "* **loss function:** A function to measure how wrong model predictions are to te ideal output, lower is better\n",
    "\n",
    "* **Optimizer**: Takes into account the loss of a model and adjust model's parameter (eg. weight & bias) to improve the loss function.\n",
    "\n",
    "Specificially for PyTorch, we needL\n",
    "* A training loop\n",
    "* A testing loop"
   ]
  },
  {
   "cell_type": "markdown",
   "id": "ac776901",
   "metadata": {},
   "source": [
    "### setting up loss function and optimizer"
   ]
  },
  {
   "cell_type": "code",
   "execution_count": 132,
   "id": "39e36903",
   "metadata": {
    "ExecuteTime": {
     "end_time": "2023-04-18T21:44:06.330664Z",
     "start_time": "2023-04-18T21:44:06.292040Z"
    }
   },
   "outputs": [
    {
     "data": {
      "text/plain": [
       "SGD (\n",
       "Parameter Group 0\n",
       "    dampening: 0\n",
       "    differentiable: False\n",
       "    foreach: None\n",
       "    lr: 0.01\n",
       "    maximize: False\n",
       "    momentum: 0\n",
       "    nesterov: False\n",
       "    weight_decay: 0\n",
       ")"
      ]
     },
     "execution_count": 132,
     "metadata": {},
     "output_type": "execute_result"
    }
   ],
   "source": [
    "loss_fn = nn.L1Loss()\n",
    "\n",
    "optimizer = torch.optim.SGD(model_0.parameters(), lr=0.01)\n",
    "optimizer"
   ]
  },
  {
   "cell_type": "markdown",
   "id": "14ab4608",
   "metadata": {},
   "source": [
    "### Training loop"
   ]
  },
  {
   "cell_type": "code",
   "execution_count": 133,
   "id": "ca742ea4",
   "metadata": {
    "ExecuteTime": {
     "end_time": "2023-04-18T21:44:06.360304Z",
     "start_time": "2023-04-18T21:44:06.330664Z"
    }
   },
   "outputs": [],
   "source": [
    "#47 video"
   ]
  },
  {
   "cell_type": "code",
   "execution_count": 134,
   "id": "373fa5ac",
   "metadata": {
    "ExecuteTime": {
     "end_time": "2023-04-18T21:44:06.375659Z",
     "start_time": "2023-04-18T21:44:06.363011Z"
    }
   },
   "outputs": [
    {
     "name": "stdout",
     "output_type": "stream",
     "text": [
      "Number of testing samples: 10\n",
      "Number of predictions made: 10\n",
      "Predicted values:\n",
      "tensor([[0.3982],\n",
      "        [0.4049],\n",
      "        [0.4116],\n",
      "        [0.4184],\n",
      "        [0.4251],\n",
      "        [0.4318],\n",
      "        [0.4386],\n",
      "        [0.4453],\n",
      "        [0.4520],\n",
      "        [0.4588]])\n"
     ]
    }
   ],
   "source": [
    "print(f\"Number of testing samples: {len(X_test)}\")\n",
    "print(f\"Number of predictions made: {len(y_preds)}\")\n",
    "print(f\"Predicted values:\\n{y_preds}\")"
   ]
  },
  {
   "cell_type": "code",
   "execution_count": 135,
   "id": "137fe500",
   "metadata": {
    "ExecuteTime": {
     "end_time": "2023-04-18T21:44:07.095077Z",
     "start_time": "2023-04-18T21:44:06.377943Z"
    }
   },
   "outputs": [
    {
     "data": {
      "image/png": "[encoded data removed]",
      "text/plain": [
       "<Figure size 1000x700 with 1 Axes>"
      ]
     },
     "metadata": {},
     "output_type": "display_data"
    }
   ],
   "source": [
    "plot_predictions(predictions=y_preds)"
   ]
  },
  {
   "cell_type": "code",
   "execution_count": 136,
   "id": "95713f87",
   "metadata": {
    "ExecuteTime": {
     "end_time": "2023-04-18T21:44:07.126084Z",
     "start_time": "2023-04-18T21:44:07.099667Z"
    }
   },
   "outputs": [
    {
     "data": {
      "text/plain": [
       "tensor([[0.4618],\n",
       "        [0.4691],\n",
       "        [0.4764],\n",
       "        [0.4836],\n",
       "        [0.4909],\n",
       "        [0.4982],\n",
       "        [0.5054],\n",
       "        [0.5127],\n",
       "        [0.5200],\n",
       "        [0.5272]])"
      ]
     },
     "execution_count": 136,
     "metadata": {},
     "output_type": "execute_result"
    }
   ],
   "source": [
    "y_test - y_preds"
   ]
  },
  {
   "cell_type": "markdown",
   "id": "c706fcfd",
   "metadata": {},
   "source": [
    "### Train Model"
   ]
  },
  {
   "cell_type": "code",
   "execution_count": 137,
   "id": "4c932f3c",
   "metadata": {
    "ExecuteTime": {
     "end_time": "2023-04-18T21:44:07.235237Z",
     "start_time": "2023-04-18T21:44:07.131666Z"
    }
   },
   "outputs": [
    {
     "name": "stdout",
     "output_type": "stream",
     "text": [
      "Epoch: 0 | MAE Train Loss: 0.31288138031959534 | MAE Test Loss: 0.48106518387794495 \n",
      "Epoch: 10 | MAE Train Loss: 0.1976713240146637 | MAE Test Loss: 0.3463551998138428 \n",
      "Epoch: 20 | MAE Train Loss: 0.08908725529909134 | MAE Test Loss: 0.21729660034179688 \n",
      "Epoch: 30 | MAE Train Loss: 0.053148526698350906 | MAE Test Loss: 0.14464017748832703 \n",
      "Epoch: 40 | MAE Train Loss: 0.04543796554207802 | MAE Test Loss: 0.11360953003168106 \n",
      "Epoch: 50 | MAE Train Loss: 0.04167863354086876 | MAE Test Loss: 0.09919948130846024 \n",
      "Epoch: 60 | MAE Train Loss: 0.03818932920694351 | MAE Test Loss: 0.08886633068323135 \n",
      "Epoch: 70 | MAE Train Loss: 0.03476089984178543 | MAE Test Loss: 0.0805937647819519 \n",
      "Epoch: 80 | MAE Train Loss: 0.03132382780313492 | MAE Test Loss: 0.07232122868299484 \n",
      "Epoch: 90 | MAE Train Loss: 0.02788739837706089 | MAE Test Loss: 0.06473556160926819 \n"
     ]
    }
   ],
   "source": [
    "torch.manual_seed(42)\n",
    "\n",
    "# Set the number of epochs (how many times the model will pass over the training data)\n",
    "epochs = 100\n",
    "\n",
    "# Create empty loss lists to track values\n",
    "train_loss_values = []\n",
    "test_loss_values = []\n",
    "epoch_count = []\n",
    "\n",
    "for epoch in range(epochs):\n",
    "    ### Training\n",
    "\n",
    "    # Put model in training mode (this is the default state of a model)\n",
    "    model_0.train()\n",
    "\n",
    "    # 1. Forward pass on train data using the forward() method inside \n",
    "    y_pred = model_0(X_train)\n",
    "    # print(y_pred)\n",
    "\n",
    "    # 2. Calculate the loss (how different are our models predictions to the ground truth)\n",
    "    loss = loss_fn(y_pred, y_train)\n",
    "\n",
    "    # 3. Zero grad of the optimizer\n",
    "    optimizer.zero_grad()\n",
    "\n",
    "    # 4. Loss backwards\n",
    "    loss.backward()\n",
    "\n",
    "    # 5. Progress the optimizer\n",
    "    optimizer.step()\n",
    "\n",
    "    ### Testing\n",
    "\n",
    "    # Put the model in evaluation mode\n",
    "    model_0.eval()\n",
    "\n",
    "    with torch.inference_mode():\n",
    "      # 1. Forward pass on test data\n",
    "      test_pred = model_0(X_test)\n",
    "\n",
    "      # 2. Caculate loss on test data\n",
    "      test_loss = loss_fn(test_pred, y_test.type(torch.float)) # predictions come in torch.float datatype, so comparisons need to be done with tensors of the same type\n",
    "\n",
    "      # Print out what's happening\n",
    "      if epoch % 10 == 0:\n",
    "            epoch_count.append(epoch)\n",
    "            train_loss_values.append(loss.detach().numpy())\n",
    "            test_loss_values.append(test_loss.detach().numpy())\n",
    "            print(f\"Epoch: {epoch} | MAE Train Loss: {loss} | MAE Test Loss: {test_loss} \")"
   ]
  },
  {
   "cell_type": "code",
   "execution_count": 138,
   "id": "557203b6",
   "metadata": {
    "ExecuteTime": {
     "end_time": "2023-04-18T21:44:07.788537Z",
     "start_time": "2023-04-18T21:44:07.239229Z"
    }
   },
   "outputs": [
    {
     "data": {
      "text/plain": [
       "<matplotlib.legend.Legend at 0x2001e583c10>"
      ]
     },
     "execution_count": 138,
     "metadata": {},
     "output_type": "execute_result"
    },
    {
     "data": {
      "image/png": "[encoded data removed]",
      "text/plain": [
       "<Figure size 640x480 with 1 Axes>"
      ]
     },
     "metadata": {},
     "output_type": "display_data"
    }
   ],
   "source": [
    "plt.plot(epoch_count, train_loss_values, label=\"Train Loss\")\n",
    "plt.plot(epoch_count, test_loss_values, label=\"Test Loss\")\n",
    "plt.title(\"Training and Test loss curves\")\n",
    "plt.ylabel(\"Loss\")\n",
    "plt.xlabel(\"Epochs\")\n",
    "plt.legend()"
   ]
  },
  {
   "cell_type": "code",
   "execution_count": 139,
   "id": "bac6ea0f",
   "metadata": {
    "ExecuteTime": {
     "end_time": "2023-04-18T21:44:07.803710Z",
     "start_time": "2023-04-18T21:44:07.790573Z"
    }
   },
   "outputs": [
    {
     "name": "stdout",
     "output_type": "stream",
     "text": [
      "The model learned the following values for weights and bias\n",
      "OrderedDict([('weights', tensor([0.5784])), ('bias', tensor([0.3513]))])\n",
      "weight: 0.7, bias:0.3\n"
     ]
    }
   ],
   "source": [
    "print(\"The model learned the following values for weights and bias\")\n",
    "print(model_0.state_dict())\n",
    "print(f\"weight: {weight}, bias:{bias}\")"
   ]
  },
  {
   "cell_type": "markdown",
   "id": "4ef368bb",
   "metadata": {},
   "source": [
    "### Make predictions with trained PyTorch model(inference)"
   ]
  },
  {
   "cell_type": "code",
   "execution_count": 140,
   "id": "85008647",
   "metadata": {
    "ExecuteTime": {
     "end_time": "2023-04-18T21:44:07.839007Z",
     "start_time": "2023-04-18T21:44:07.808049Z"
    }
   },
   "outputs": [
    {
     "data": {
      "text/plain": [
       "tensor([[0.8141],\n",
       "        [0.8256],\n",
       "        [0.8372],\n",
       "        [0.8488],\n",
       "        [0.8603],\n",
       "        [0.8719],\n",
       "        [0.8835],\n",
       "        [0.8950],\n",
       "        [0.9066],\n",
       "        [0.9182]])"
      ]
     },
     "execution_count": 140,
     "metadata": {},
     "output_type": "execute_result"
    }
   ],
   "source": [
    "# 1. Set the model in evaluation mode\n",
    "model_0.eval()\n",
    "\n",
    "with torch.inference_mode():\n",
    "    y_preds = model_0(X_test)\n",
    "y_preds"
   ]
  },
  {
   "cell_type": "code",
   "execution_count": 141,
   "id": "776bfaf3",
   "metadata": {
    "ExecuteTime": {
     "end_time": "2023-04-18T21:44:08.421532Z",
     "start_time": "2023-04-18T21:44:07.842261Z"
    }
   },
   "outputs": [
    {
     "data": {
      "image/png": "[encoded data removed]",
      "text/plain": [
       "<Figure size 1000x700 with 1 Axes>"
      ]
     },
     "metadata": {},
     "output_type": "display_data"
    }
   ],
   "source": [
    "plot_predictions(predictions=y_preds)"
   ]
  },
  {
   "cell_type": "markdown",
   "id": "19cb93c8",
   "metadata": {},
   "source": [
    "### Save PyTorch Model"
   ]
  },
  {
   "cell_type": "code",
   "execution_count": 142,
   "id": "ae4f131f",
   "metadata": {
    "ExecuteTime": {
     "end_time": "2023-04-18T21:44:08.437145Z",
     "start_time": "2023-04-18T21:44:08.423534Z"
    }
   },
   "outputs": [
    {
     "name": "stdout",
     "output_type": "stream",
     "text": [
      "Saving model to: models\\01_pytorch_workflow_model_0.pth\n"
     ]
    }
   ],
   "source": [
    "from pathlib import Path\n",
    "\n",
    "# 1. Create models directory\n",
    "MODEL_PATH = Path(\"models\")\n",
    "MODEL_PATH.mkdir(parents=True, exist_ok=True)\n",
    "\n",
    "#2. Create model save path\n",
    "MODEL_NAME = \"01_pytorch_workflow_model_0.pth\"\n",
    "MODEL_SAVE_PATH = MODEL_PATH / MODEL_NAME\n",
    "\n",
    "#3. Save the model state dict\n",
    "print(f\"Saving model to: {MODEL_SAVE_PATH}\")\n",
    "torch.save(obj=model_0.state_dict(), f=MODEL_SAVE_PATH)"
   ]
  },
  {
   "cell_type": "code",
   "execution_count": 143,
   "id": "5a249834",
   "metadata": {
    "ExecuteTime": {
     "end_time": "2023-04-18T21:44:08.588741Z",
     "start_time": "2023-04-18T21:44:08.439151Z"
    }
   },
   "outputs": [
    {
     "name": "stdout",
     "output_type": "stream",
     "text": [
      "-rw-r--r-- 1 kamal kamal 1207 Apr 18 17:44 models/01_pytorch_workflow_model_0.pth\n"
     ]
    }
   ],
   "source": [
    "!ls -l models/01_pytorch_workflow_model_0.pth"
   ]
  },
  {
   "cell_type": "code",
   "execution_count": 144,
   "id": "b78b6046",
   "metadata": {
    "ExecuteTime": {
     "end_time": "2023-04-18T21:44:08.620058Z",
     "start_time": "2023-04-18T21:44:08.590680Z"
    }
   },
   "outputs": [
    {
     "data": {
      "text/plain": [
       "<All keys matched successfully>"
      ]
     },
     "execution_count": 144,
     "metadata": {},
     "output_type": "execute_result"
    }
   ],
   "source": [
    "# Instance a new instance of our model\n",
    "loaded_model_0 = LinearRegressionModel()\n",
    "loaded_model_0.load_state_dict(torch.load(f=MODEL_SAVE_PATH))"
   ]
  },
  {
   "cell_type": "code",
   "execution_count": 145,
   "id": "13ce23bf",
   "metadata": {
    "ExecuteTime": {
     "end_time": "2023-04-18T21:44:08.635291Z",
     "start_time": "2023-04-18T21:44:08.622926Z"
    }
   },
   "outputs": [],
   "source": [
    "#1. Put the loaded model into evaluation model\n",
    "loaded_model_0.eval()\n",
    "with torch.inference_mode():\n",
    "    loaded_model_preds = loaded_model_0(X_test)"
   ]
  },
  {
   "cell_type": "code",
   "execution_count": 146,
   "id": "4b3f1300",
   "metadata": {
    "ExecuteTime": {
     "end_time": "2023-04-18T21:44:08.671654Z",
     "start_time": "2023-04-18T21:44:08.640215Z"
    }
   },
   "outputs": [
    {
     "data": {
      "text/plain": [
       "tensor([[True],\n",
       "        [True],\n",
       "        [True],\n",
       "        [True],\n",
       "        [True],\n",
       "        [True],\n",
       "        [True],\n",
       "        [True],\n",
       "        [True],\n",
       "        [True]])"
      ]
     },
     "execution_count": 146,
     "metadata": {},
     "output_type": "execute_result"
    }
   ],
   "source": [
    "y_preds == loaded_model_preds"
   ]
  },
  {
   "cell_type": "markdown",
   "id": "20d342af",
   "metadata": {},
   "source": [
    "### Putting it all together"
   ]
  },
  {
   "cell_type": "code",
   "execution_count": 147,
   "id": "b51074b3",
   "metadata": {
    "ExecuteTime": {
     "end_time": "2023-04-18T21:44:08.687538Z",
     "start_time": "2023-04-18T21:44:08.673541Z"
    }
   },
   "outputs": [
    {
     "data": {
      "text/plain": [
       "'1.13.1'"
      ]
     },
     "execution_count": 147,
     "metadata": {},
     "output_type": "execute_result"
    }
   ],
   "source": [
    "# Import PyTorch and matplotlib\n",
    "import torch\n",
    "from torch import nn # nn contains all of PyTorch's building blocks for neural networks\n",
    "import matplotlib.pyplot as plt\n",
    "\n",
    "# Check PyTorch version\n",
    "torch.__version__"
   ]
  },
  {
   "cell_type": "code",
   "execution_count": 148,
   "id": "c58b531b",
   "metadata": {
    "ExecuteTime": {
     "end_time": "2023-04-18T21:44:08.706138Z",
     "start_time": "2023-04-18T21:44:08.689978Z"
    }
   },
   "outputs": [
    {
     "name": "stdout",
     "output_type": "stream",
     "text": [
      "Using device: cpu\n"
     ]
    }
   ],
   "source": [
    "# Setup device agnostic code\n",
    "device = \"cuda\" if torch.cuda.is_available() else \"cpu\"\n",
    "print(f\"Using device: {device}\")"
   ]
  },
  {
   "cell_type": "code",
   "execution_count": 149,
   "id": "0a76bcd6",
   "metadata": {
    "ExecuteTime": {
     "end_time": "2023-04-18T21:44:08.742206Z",
     "start_time": "2023-04-18T21:44:08.708776Z"
    }
   },
   "outputs": [
    {
     "data": {
      "text/plain": [
       "(tensor([[0.0000],\n",
       "         [0.0200],\n",
       "         [0.0400],\n",
       "         [0.0600],\n",
       "         [0.0800],\n",
       "         [0.1000],\n",
       "         [0.1200],\n",
       "         [0.1400],\n",
       "         [0.1600],\n",
       "         [0.1800]]),\n",
       " tensor([[0.3000],\n",
       "         [0.3140],\n",
       "         [0.3280],\n",
       "         [0.3420],\n",
       "         [0.3560],\n",
       "         [0.3700],\n",
       "         [0.3840],\n",
       "         [0.3980],\n",
       "         [0.4120],\n",
       "         [0.4260]]))"
      ]
     },
     "execution_count": 149,
     "metadata": {},
     "output_type": "execute_result"
    }
   ],
   "source": [
    "# Create weight and bias\n",
    "weight = 0.7\n",
    "bias = 0.3\n",
    "\n",
    "# Create range values\n",
    "start = 0\n",
    "end = 1\n",
    "step = 0.02\n",
    "\n",
    "# Create X and y (features and labels)\n",
    "X = torch.arange(start, end, step).unsqueeze(dim=1) # without unsqueeze, errors will happen later on (shapes within linear layers)\n",
    "y = weight * X + bias \n",
    "X[:10], y[:10]"
   ]
  },
  {
   "cell_type": "code",
   "execution_count": 150,
   "id": "e000353d",
   "metadata": {
    "ExecuteTime": {
     "end_time": "2023-04-18T21:44:08.784053Z",
     "start_time": "2023-04-18T21:44:08.742206Z"
    }
   },
   "outputs": [
    {
     "data": {
      "text/plain": [
       "(40, 40, 10, 10)"
      ]
     },
     "execution_count": 150,
     "metadata": {},
     "output_type": "execute_result"
    }
   ],
   "source": [
    "# Split data\n",
    "train_split = int(0.8 * len(X))\n",
    "X_train, y_train = X[:train_split], y[:train_split]\n",
    "X_test, y_test = X[train_split:], y[train_split:]\n",
    "\n",
    "len(X_train), len(y_train), len(X_test), len(y_test)"
   ]
  },
  {
   "cell_type": "code",
   "execution_count": 151,
   "id": "a312873e",
   "metadata": {
    "ExecuteTime": {
     "end_time": "2023-04-18T21:44:09.269983Z",
     "start_time": "2023-04-18T21:44:08.785091Z"
    }
   },
   "outputs": [
    {
     "data": {
      "image/png": "[encoded data removed]",
      "text/plain": [
       "<Figure size 1000x700 with 1 Axes>"
      ]
     },
     "metadata": {},
     "output_type": "display_data"
    }
   ],
   "source": [
    "# Note: If you've reset your runtime, this function won't work, \n",
    "# you'll have to rerun the cell above where it's instantiated.\n",
    "plot_predictions(X_train, y_train, X_test, y_test)"
   ]
  },
  {
   "cell_type": "code",
   "execution_count": 152,
   "id": "cf9f9d09",
   "metadata": {
    "ExecuteTime": {
     "end_time": "2023-04-18T21:44:09.296261Z",
     "start_time": "2023-04-18T21:44:09.269983Z"
    }
   },
   "outputs": [
    {
     "data": {
      "text/plain": [
       "(LinearRegressionModelV2(\n",
       "   (linear_layer): Linear(in_features=1, out_features=1, bias=True)\n",
       " ),\n",
       " OrderedDict([('linear_layer.weight', tensor([[0.7645]])),\n",
       "              ('linear_layer.bias', tensor([0.8300]))]))"
      ]
     },
     "execution_count": 152,
     "metadata": {},
     "output_type": "execute_result"
    }
   ],
   "source": [
    "# Subclass nn.Module to make our model\n",
    "class LinearRegressionModelV2(nn.Module):\n",
    "    def __init__(self):\n",
    "        super().__init__()\n",
    "        # Use nn.Linear() for creating the model parameters\n",
    "        self.linear_layer = nn.Linear(in_features=1, \n",
    "                                      out_features=1)\n",
    "    \n",
    "    # Define the forward computation (input data x flows through nn.Linear())\n",
    "    def forward(self, x: torch.Tensor) -> torch.Tensor:\n",
    "        return self.linear_layer(x)\n",
    "\n",
    "# Set the manual seed when creating the model (this isn't always need but is used for demonstrative purposes, try commenting it out and seeing what happens)\n",
    "torch.manual_seed(42)\n",
    "model_1 = LinearRegressionModelV2()\n",
    "model_1, model_1.state_dict()"
   ]
  },
  {
   "cell_type": "code",
   "execution_count": 153,
   "id": "46d60da8",
   "metadata": {
    "ExecuteTime": {
     "end_time": "2023-04-18T21:44:09.326836Z",
     "start_time": "2023-04-18T21:44:09.297875Z"
    }
   },
   "outputs": [
    {
     "data": {
      "text/plain": [
       "device(type='cpu')"
      ]
     },
     "execution_count": 153,
     "metadata": {},
     "output_type": "execute_result"
    }
   ],
   "source": [
    "# Check model device\n",
    "next(model_1.parameters()).device"
   ]
  },
  {
   "cell_type": "code",
   "execution_count": 154,
   "id": "35ab8425",
   "metadata": {
    "ExecuteTime": {
     "end_time": "2023-04-18T21:44:09.362988Z",
     "start_time": "2023-04-18T21:44:09.327838Z"
    }
   },
   "outputs": [
    {
     "data": {
      "text/plain": [
       "device(type='cpu')"
      ]
     },
     "execution_count": 154,
     "metadata": {},
     "output_type": "execute_result"
    }
   ],
   "source": [
    "# Set model to GPU if it's availalble, otherwise it'll default to CPU\n",
    "model_1.to(device) # the device variable was set above to be \"cuda\" if available or \"cpu\" if not\n",
    "next(model_1.parameters()).device"
   ]
  },
  {
   "cell_type": "code",
   "execution_count": 155,
   "id": "087c704b",
   "metadata": {
    "ExecuteTime": {
     "end_time": "2023-04-18T21:44:09.379274Z",
     "start_time": "2023-04-18T21:44:09.362988Z"
    }
   },
   "outputs": [],
   "source": [
    "# Create loss function\n",
    "loss_fn = nn.L1Loss()\n",
    "\n",
    "# Create optimizer\n",
    "optimizer = torch.optim.SGD(params=model_1.parameters(), # optimize newly created model's parameters\n",
    "                            lr=0.01)"
   ]
  },
  {
   "cell_type": "code",
   "execution_count": 156,
   "id": "be5657ae",
   "metadata": {
    "ExecuteTime": {
     "end_time": "2023-04-18T21:44:10.200663Z",
     "start_time": "2023-04-18T21:44:09.383815Z"
    }
   },
   "outputs": [
    {
     "name": "stdout",
     "output_type": "stream",
     "text": [
      "Epoch: 0 | Train loss: 0.5551779866218567 | Test loss: 0.5739762187004089\n",
      "Epoch: 100 | Train loss: 0.006215679459273815 | Test loss: 0.014086711220443249\n",
      "Epoch: 200 | Train loss: 0.0012645035749301314 | Test loss: 0.013801807537674904\n",
      "Epoch: 300 | Train loss: 0.0012645035749301314 | Test loss: 0.013801807537674904\n",
      "Epoch: 400 | Train loss: 0.0012645035749301314 | Test loss: 0.013801807537674904\n",
      "Epoch: 500 | Train loss: 0.0012645035749301314 | Test loss: 0.013801807537674904\n",
      "Epoch: 600 | Train loss: 0.0012645035749301314 | Test loss: 0.013801807537674904\n",
      "Epoch: 700 | Train loss: 0.0012645035749301314 | Test loss: 0.013801807537674904\n",
      "Epoch: 800 | Train loss: 0.0012645035749301314 | Test loss: 0.013801807537674904\n",
      "Epoch: 900 | Train loss: 0.0012645035749301314 | Test loss: 0.013801807537674904\n"
     ]
    }
   ],
   "source": [
    "torch.manual_seed(42)\n",
    "\n",
    "# Set the number of epochs \n",
    "epochs = 1000 \n",
    "\n",
    "# Put data on the available device\n",
    "# Without this, error will happen (not all model/data on device)\n",
    "X_train = X_train.to(device)\n",
    "X_test = X_test.to(device)\n",
    "y_train = y_train.to(device)\n",
    "y_test = y_test.to(device)\n",
    "\n",
    "for epoch in range(epochs):\n",
    "    ### Training\n",
    "    model_1.train() # train mode is on by default after construction\n",
    "\n",
    "    # 1. Forward pass\n",
    "    y_pred = model_1(X_train)\n",
    "\n",
    "    # 2. Calculate loss\n",
    "    loss = loss_fn(y_pred, y_train)\n",
    "\n",
    "    # 3. Zero grad optimizer\n",
    "    optimizer.zero_grad()\n",
    "\n",
    "    # 4. Loss backward\n",
    "    loss.backward()\n",
    "\n",
    "    # 5. Step the optimizer\n",
    "    optimizer.step()\n",
    "\n",
    "    ### Testing\n",
    "    model_1.eval() # put the model in evaluation mode for testing (inference)\n",
    "    # 1. Forward pass\n",
    "    with torch.inference_mode():\n",
    "        test_pred = model_1(X_test)\n",
    "    \n",
    "        # 2. Calculate the loss\n",
    "        test_loss = loss_fn(test_pred, y_test)\n",
    "\n",
    "    if epoch % 100 == 0:\n",
    "        print(f\"Epoch: {epoch} | Train loss: {loss} | Test loss: {test_loss}\")"
   ]
  },
  {
   "cell_type": "code",
   "execution_count": 157,
   "id": "6f990d56",
   "metadata": {
    "ExecuteTime": {
     "end_time": "2023-04-18T21:44:10.216168Z",
     "start_time": "2023-04-18T21:44:10.202614Z"
    }
   },
   "outputs": [
    {
     "name": "stdout",
     "output_type": "stream",
     "text": [
      "The model learned the following values for weights and bias:\n",
      "OrderedDict([('linear_layer.weight', tensor([[0.6968]])),\n",
      "             ('linear_layer.bias', tensor([0.3025]))])\n",
      "\n",
      "And the original values for weights and bias are:\n",
      "weights: 0.7, bias: 0.3\n"
     ]
    }
   ],
   "source": [
    "# Find our model's learned parameters\n",
    "from pprint import pprint # pprint = pretty print, see: https://docs.python.org/3/library/pprint.html \n",
    "print(\"The model learned the following values for weights and bias:\")\n",
    "pprint(model_1.state_dict())\n",
    "print(\"\\nAnd the original values for weights and bias are:\")\n",
    "print(f\"weights: {weight}, bias: {bias}\")"
   ]
  },
  {
   "cell_type": "code",
   "execution_count": 158,
   "id": "50e3ca70",
   "metadata": {
    "ExecuteTime": {
     "end_time": "2023-04-18T21:44:10.242398Z",
     "start_time": "2023-04-18T21:44:10.217575Z"
    }
   },
   "outputs": [
    {
     "data": {
      "text/plain": [
       "tensor([[0.8600],\n",
       "        [0.8739],\n",
       "        [0.8878],\n",
       "        [0.9018],\n",
       "        [0.9157],\n",
       "        [0.9296],\n",
       "        [0.9436],\n",
       "        [0.9575],\n",
       "        [0.9714],\n",
       "        [0.9854]])"
      ]
     },
     "execution_count": 158,
     "metadata": {},
     "output_type": "execute_result"
    }
   ],
   "source": [
    "# Turn model into evaluation mode\n",
    "model_1.eval()\n",
    "\n",
    "# Make predictions on the test data\n",
    "with torch.inference_mode():\n",
    "    y_preds = model_1(X_test)\n",
    "y_preds"
   ]
  },
  {
   "cell_type": "code",
   "execution_count": 159,
   "id": "b27aee18",
   "metadata": {
    "ExecuteTime": {
     "end_time": "2023-04-18T21:44:10.773263Z",
     "start_time": "2023-04-18T21:44:10.245702Z"
    }
   },
   "outputs": [
    {
     "data": {
      "image/png": "[encoded data removed]",
      "text/plain": [
       "<Figure size 1000x700 with 1 Axes>"
      ]
     },
     "metadata": {},
     "output_type": "display_data"
    }
   ],
   "source": [
    "# plot_predictions(predictions=y_preds) # -> won't work... data not on CPU\n",
    "\n",
    "# Put data on the CPU and plot it\n",
    "plot_predictions(predictions=y_preds.cpu())"
   ]
  },
  {
   "cell_type": "code",
   "execution_count": 160,
   "id": "482bd1e0",
   "metadata": {
    "ExecuteTime": {
     "end_time": "2023-04-18T21:44:10.793098Z",
     "start_time": "2023-04-18T21:44:10.774828Z"
    }
   },
   "outputs": [
    {
     "name": "stdout",
     "output_type": "stream",
     "text": [
      "Saving model to: models\\01_pytorch_workflow_model_1.pth\n"
     ]
    }
   ],
   "source": [
    "from pathlib import Path\n",
    "\n",
    "# 1. Create models directory \n",
    "MODEL_PATH = Path(\"models\")\n",
    "MODEL_PATH.mkdir(parents=True, exist_ok=True)\n",
    "\n",
    "# 2. Create model save path \n",
    "MODEL_NAME = \"01_pytorch_workflow_model_1.pth\"\n",
    "MODEL_SAVE_PATH = MODEL_PATH / MODEL_NAME\n",
    "\n",
    "# 3. Save the model state dict \n",
    "print(f\"Saving model to: {MODEL_SAVE_PATH}\")\n",
    "torch.save(obj=model_1.state_dict(), # only saving the state_dict() only saves the models learned parameters\n",
    "           f=MODEL_SAVE_PATH) "
   ]
  },
  {
   "cell_type": "code",
   "execution_count": 161,
   "id": "149813b5",
   "metadata": {
    "ExecuteTime": {
     "end_time": "2023-04-18T21:44:10.821341Z",
     "start_time": "2023-04-18T21:44:10.793997Z"
    }
   },
   "outputs": [
    {
     "name": "stdout",
     "output_type": "stream",
     "text": [
      "Loaded model:\n",
      "LinearRegressionModelV2(\n",
      "  (linear_layer): Linear(in_features=1, out_features=1, bias=True)\n",
      ")\n",
      "Model on device:\n",
      "cpu\n"
     ]
    }
   ],
   "source": [
    "# Instantiate a fresh instance of LinearRegressionModelV2\n",
    "loaded_model_1 = LinearRegressionModelV2()\n",
    "\n",
    "# Load model state dict \n",
    "loaded_model_1.load_state_dict(torch.load(MODEL_SAVE_PATH))\n",
    "\n",
    "# Put model to target device (if your data is on GPU, model will have to be on GPU to make predictions)\n",
    "loaded_model_1.to(device)\n",
    "\n",
    "print(f\"Loaded model:\\n{loaded_model_1}\")\n",
    "print(f\"Model on device:\\n{next(loaded_model_1.parameters()).device}\")"
   ]
  },
  {
   "cell_type": "code",
   "execution_count": 162,
   "id": "027bea77",
   "metadata": {
    "ExecuteTime": {
     "end_time": "2023-04-18T21:44:10.853751Z",
     "start_time": "2023-04-18T21:44:10.824689Z"
    }
   },
   "outputs": [
    {
     "data": {
      "text/plain": [
       "tensor([[True],\n",
       "        [True],\n",
       "        [True],\n",
       "        [True],\n",
       "        [True],\n",
       "        [True],\n",
       "        [True],\n",
       "        [True],\n",
       "        [True],\n",
       "        [True]])"
      ]
     },
     "execution_count": 162,
     "metadata": {},
     "output_type": "execute_result"
    }
   ],
   "source": [
    "# Evaluate loaded model\n",
    "loaded_model_1.eval()\n",
    "with torch.inference_mode():\n",
    "    loaded_model_1_preds = loaded_model_1(X_test)\n",
    "y_preds == loaded_model_1_preds"
   ]
  },
  {
   "cell_type": "markdown",
   "id": "7821059c",
   "metadata": {},
   "source": [
    "# Exercise Alltogether"
   ]
  },
  {
   "cell_type": "code",
   "execution_count": 163,
   "id": "e66fa775",
   "metadata": {
    "ExecuteTime": {
     "end_time": "2023-04-18T21:44:10.920997Z",
     "start_time": "2023-04-18T21:44:10.906453Z"
    }
   },
   "outputs": [
    {
     "data": {
      "text/plain": [
       "'1.13.1'"
      ]
     },
     "execution_count": 163,
     "metadata": {},
     "output_type": "execute_result"
    }
   ],
   "source": [
    "# Import PyTorch and matplotlib\n",
    "import torch\n",
    "from torch import nn # nn contains all of PyTorch's building blocks for neural networks\n",
    "import matplotlib.pyplot as plt\n",
    "\n",
    "import os\n",
    "os.environ['KMP_DUPLICATE_LIB_OK']='True'\n",
    "\n",
    "# Check PyTorch version\n",
    "torch.__version__"
   ]
  },
  {
   "cell_type": "code",
   "execution_count": 164,
   "id": "1ef55126",
   "metadata": {
    "ExecuteTime": {
     "end_time": "2023-04-18T21:44:10.951229Z",
     "start_time": "2023-04-18T21:44:10.928273Z"
    }
   },
   "outputs": [
    {
     "name": "stdout",
     "output_type": "stream",
     "text": [
      "Using device: cpu\n"
     ]
    }
   ],
   "source": [
    "# Setup device agnostic code\n",
    "device = \"cuda\" if torch.cuda.is_available() else \"cpu\"\n",
    "print(f\"Using device: {device}\")"
   ]
  },
  {
   "cell_type": "code",
   "execution_count": 165,
   "id": "b8f7c24c",
   "metadata": {
    "ExecuteTime": {
     "end_time": "2023-04-18T21:44:10.983206Z",
     "start_time": "2023-04-18T21:44:10.957367Z"
    }
   },
   "outputs": [
    {
     "name": "stdout",
     "output_type": "stream",
     "text": [
      "Number of X samples: 100\n",
      "Number of y samples: 100\n",
      "First 10 X & y samples:\n",
      "X: tensor([[0.0000],\n",
      "        [0.0100],\n",
      "        [0.0200],\n",
      "        [0.0300],\n",
      "        [0.0400],\n",
      "        [0.0500],\n",
      "        [0.0600],\n",
      "        [0.0700],\n",
      "        [0.0800],\n",
      "        [0.0900]])\n",
      "y: tensor([[0.9000],\n",
      "        [0.9030],\n",
      "        [0.9060],\n",
      "        [0.9090],\n",
      "        [0.9120],\n",
      "        [0.9150],\n",
      "        [0.9180],\n",
      "        [0.9210],\n",
      "        [0.9240],\n",
      "        [0.9270]])\n"
     ]
    }
   ],
   "source": [
    "weight = 0.3\n",
    "bias = 0.9\n",
    "\n",
    "start = 0 \n",
    "end = 1\n",
    "step = 0.01\n",
    "\n",
    "\n",
    "X = torch.arange(start, end, step).unsqueeze(dim=1)\n",
    "y = weight*X + bias\n",
    "X.size()\n",
    "print(f\"Number of X samples: {len(X)}\")\n",
    "print(f\"Number of y samples: {len(y)}\")\n",
    "print(f\"First 10 X & y samples:\\nX: {X[:10]}\\ny: {y[:10]}\")"
   ]
  },
  {
   "cell_type": "code",
   "execution_count": 166,
   "id": "36ccc04a",
   "metadata": {
    "ExecuteTime": {
     "end_time": "2023-04-18T21:44:11.020393Z",
     "start_time": "2023-04-18T21:44:10.989049Z"
    }
   },
   "outputs": [
    {
     "data": {
      "text/plain": [
       "(80, 80, 20, 20)"
      ]
     },
     "execution_count": 166,
     "metadata": {},
     "output_type": "execute_result"
    }
   ],
   "source": [
    "# Split the data\n",
    "train_split = int(0.8 * len(X))\n",
    "X_train, y_train = X[:train_split], y[:train_split]\n",
    "X_test, y_test = X[train_split:], y[train_split:]\n",
    "\n",
    "len(X_train), len(y_train), len(X_test), len(y_test)"
   ]
  },
  {
   "cell_type": "code",
   "execution_count": 181,
   "id": "bd8ab3b3",
   "metadata": {
    "ExecuteTime": {
     "end_time": "2023-04-18T21:45:01.920554Z",
     "start_time": "2023-04-18T21:45:01.231242Z"
    }
   },
   "outputs": [
    {
     "data": {
      "image/png": "[encoded data removed]",
      "text/plain": [
       "<Figure size 1000x700 with 1 Axes>"
      ]
     },
     "metadata": {},
     "output_type": "display_data"
    }
   ],
   "source": [
    "\n",
    "# Plot the training and testing data \n",
    "def plot_predictions(train_data = X_train,\n",
    "                 train_labels = y_train,\n",
    "                 test_data = X_test,\n",
    "                 test_labels = y_test,\n",
    "                 predictions = None):\n",
    "    plt.figure(figsize = (10,7))\n",
    "    plt.scatter(train_data,train_labels,c = 'b',s = 4,label = \"Training data\")\n",
    "    plt.scatter(test_data,test_labels,c = 'g',s = 4,label = \"Test data\")\n",
    "\n",
    "    if predictions is not None:\n",
    "        plt.scatter(test_data,predictions,c = 'r',s = 4,label = \"Predictions\")\n",
    "    plt.legend(prop = {\"size\" : 14})\n",
    "\n",
    "plot_predictions()\n",
    "     "
   ]
  },
  {
   "cell_type": "code",
   "execution_count": null,
   "id": "0856440f",
   "metadata": {
    "ExecuteTime": {
     "end_time": "2023-04-18T21:44:11.697072Z",
     "start_time": "2023-04-18T21:44:11.063557Z"
    }
   },
   "outputs": [],
   "source": []
  },
  {
   "cell_type": "markdown",
   "id": "74c40620",
   "metadata": {},
   "source": [
    "### Model"
   ]
  },
  {
   "cell_type": "code",
   "execution_count": 169,
   "id": "7f8f6bc2",
   "metadata": {
    "ExecuteTime": {
     "end_time": "2023-04-18T21:44:11.732297Z",
     "start_time": "2023-04-18T21:44:11.704699Z"
    }
   },
   "outputs": [
    {
     "data": {
      "text/plain": [
       "(LinearRegressionModel(),\n",
       " OrderedDict([('weight', tensor([0.3367])), ('bias', tensor([0.1288]))]))"
      ]
     },
     "execution_count": 169,
     "metadata": {},
     "output_type": "execute_result"
    }
   ],
   "source": [
    "# Create PyTorch linear regression model by subclassing nn.Module\n",
    "## Option 1\n",
    "class LinearRegressionModel(nn.Module):\n",
    "    def __init__(self):\n",
    "        super().__init__()\n",
    "        self.weight = nn.Parameter(data=torch.randn(1, \n",
    "                                              requires_grad=True,\n",
    "                                              dtype=torch.float\n",
    "                                              ))\n",
    "    \n",
    "        self.bias = nn.Parameter(data=torch.randn(1, \n",
    "                                              requires_grad=True,\n",
    "                                              dtype=torch.float\n",
    "                                              ))\n",
    "    def forward(self, x):\n",
    "        return self.weight * x + self.bias\n",
    "\n",
    "# ## Option 2\n",
    "# class LinearRegressionModel(nn.Module):\n",
    "#   def __init__(self):\n",
    "#     super().__init__()\n",
    "#     self.linear_layer = nn.Linear(in_features = 1,\n",
    "#                                   out_features = 1)\n",
    "#   def forward(self,x : torch.Tensor) -> torch.Tensor:\n",
    "#     return self.linear_layer(x)\n",
    "  \n",
    "torch.manual_seed(42)\n",
    "model_2 = LinearRegressionModel()\n",
    "model_2,model_2.state_dict()"
   ]
  },
  {
   "cell_type": "code",
   "execution_count": 170,
   "id": "954ef886",
   "metadata": {
    "ExecuteTime": {
     "end_time": "2023-04-18T21:44:11.773708Z",
     "start_time": "2023-04-18T21:44:11.738672Z"
    }
   },
   "outputs": [
    {
     "data": {
      "text/plain": [
       "device(type='cpu')"
      ]
     },
     "execution_count": 170,
     "metadata": {},
     "output_type": "execute_result"
    }
   ],
   "source": [
    "next(model_2.parameters()).device"
   ]
  },
  {
   "cell_type": "code",
   "execution_count": 171,
   "id": "7b1fc9aa",
   "metadata": {
    "ExecuteTime": {
     "end_time": "2023-04-18T21:44:11.814920Z",
     "start_time": "2023-04-18T21:44:11.776842Z"
    }
   },
   "outputs": [
    {
     "data": {
      "text/plain": [
       "device(type='cpu')"
      ]
     },
     "execution_count": 171,
     "metadata": {},
     "output_type": "execute_result"
    }
   ],
   "source": [
    "# Set model to GPU if it's availalble, otherwise it'll default to CPU\n",
    "model_2.to(device) # the device variable was set above to be \"cuda\" if available or \"cpu\" if not\n",
    "next(model_2.parameters()).device"
   ]
  },
  {
   "cell_type": "code",
   "execution_count": 172,
   "id": "f2e9f6af",
   "metadata": {
    "ExecuteTime": {
     "end_time": "2023-04-18T21:44:11.830060Z",
     "start_time": "2023-04-18T21:44:11.815931Z"
    }
   },
   "outputs": [],
   "source": [
    "# Loss function\n",
    "loss_fn = nn.L1Loss()\n",
    "\n",
    "# optimier \n",
    "optimizer = torch.optim.SGD(params=model_2.parameters(), lr=0.01)"
   ]
  },
  {
   "cell_type": "code",
   "execution_count": 173,
   "id": "98a8a782",
   "metadata": {
    "ExecuteTime": {
     "end_time": "2023-04-18T21:44:12.053107Z",
     "start_time": "2023-04-18T21:44:11.837300Z"
    }
   },
   "outputs": [
    {
     "name": "stdout",
     "output_type": "stream",
     "text": [
      "Epoch: 0 | Train loss: 0.7566978335380554 | Test loss: 0.7248174548149109\n",
      "Epoch: 20 | Train loss: 0.5254928469657898 | Test loss: 0.4541124403476715\n",
      "Epoch: 40 | Train loss: 0.2942880392074585 | Test loss: 0.18340764939785004\n",
      "Epoch: 60 | Train loss: 0.07658576965332031 | Test loss: 0.07274086028337479\n",
      "Epoch: 80 | Train loss: 0.05255373567342758 | Test loss: 0.11581540107727051\n",
      "Epoch: 100 | Train loss: 0.045542728155851364 | Test loss: 0.10467890650033951\n",
      "Epoch: 120 | Train loss: 0.03868866711854935 | Test loss: 0.08938358724117279\n",
      "Epoch: 140 | Train loss: 0.03183453157544136 | Test loss: 0.07408786565065384\n",
      "Epoch: 160 | Train loss: 0.024982359260320663 | Test loss: 0.0581042543053627\n",
      "Epoch: 180 | Train loss: 0.018130185082554817 | Test loss: 0.04212062805891037\n",
      "Epoch: 200 | Train loss: 0.011278990656137466 | Test loss: 0.02579306997358799\n",
      "Epoch: 220 | Train loss: 0.004429381340742111 | Test loss: 0.009467745199799538\n",
      "Epoch: 240 | Train loss: 0.00370177929289639 | Test loss: 0.006489443592727184\n",
      "Epoch: 260 | Train loss: 0.00370177929289639 | Test loss: 0.006489443592727184\n",
      "Epoch: 280 | Train loss: 0.00370177929289639 | Test loss: 0.006489443592727184\n"
     ]
    }
   ],
   "source": [
    "torch.manual_seed(42)\n",
    "\n",
    "# Set the number of epochs \n",
    "epochs = 300 \n",
    "\n",
    "# Create empty loss lists to track values\n",
    "train_loss_values = []\n",
    "test_loss_values = []\n",
    "epoch_count = []\n",
    "\n",
    "# Put data on the available device\n",
    "# Without this, error will happen (not all model/data on device)\n",
    "X_train = X_train.to(device)\n",
    "X_test = X_test.to(device)\n",
    "y_train = y_train.to(device)\n",
    "y_test = y_test.to(device)\n",
    "\n",
    "for epoch in range(epochs):\n",
    "    ### Training\n",
    "    model_2.train() # train mode is on by default after construction\n",
    "\n",
    "    # 1. Forward pass\n",
    "    y_preds = model_2(X_train)\n",
    "\n",
    "    # 2. Calculate loss\n",
    "    loss = loss_fn(y_preds, y_train)\n",
    "\n",
    "    # 3. Zero grad optimizer\n",
    "    optimizer.zero_grad()\n",
    "\n",
    "    # 4. Loss backward\n",
    "    loss.backward()\n",
    "\n",
    "    # 5. Step the optimizer\n",
    "    optimizer.step()\n",
    "\n",
    "    \n",
    "\n",
    "    if epoch % 20 == 0:\n",
    "        \n",
    "        #1. Testing\n",
    "        model_2.eval() # put the model in evaluation mode for testing (inference)\n",
    "        \n",
    "        #2. Forward pass\n",
    "        with torch.inference_mode():\n",
    "            y_preds = model_2(X_test)\n",
    "    \n",
    "        #3. Calculate the loss\n",
    "        test_loss = loss_fn(y_preds, y_test)\n",
    "        \n",
    "        epoch_count.append(epoch)\n",
    "        train_loss_values.append(loss.detach().numpy())\n",
    "        test_loss_values.append(test_loss.detach().numpy())\n",
    "        print(f\"Epoch: {epoch} | Train loss: {loss} | Test loss: {test_loss}\")"
   ]
  },
  {
   "cell_type": "code",
   "execution_count": 174,
   "id": "3657ff34",
   "metadata": {
    "ExecuteTime": {
     "end_time": "2023-04-18T21:44:12.092832Z",
     "start_time": "2023-04-18T21:44:12.053107Z"
    }
   },
   "outputs": [
    {
     "data": {
      "text/plain": [
       "tensor([[1.1464],\n",
       "        [1.1495],\n",
       "        [1.1525],\n",
       "        [1.1556],\n",
       "        [1.1587],\n",
       "        [1.1617],\n",
       "        [1.1648],\n",
       "        [1.1679],\n",
       "        [1.1709],\n",
       "        [1.1740],\n",
       "        [1.1771],\n",
       "        [1.1801],\n",
       "        [1.1832],\n",
       "        [1.1863],\n",
       "        [1.1893],\n",
       "        [1.1924],\n",
       "        [1.1955],\n",
       "        [1.1985],\n",
       "        [1.2016],\n",
       "        [1.2047]])"
      ]
     },
     "execution_count": 174,
     "metadata": {},
     "output_type": "execute_result"
    }
   ],
   "source": [
    "# make predictions\n",
    "model_2.eval()\n",
    "\n",
    "with torch.inference_mode():\n",
    "    y_preds = model_2(X_test)\n",
    "y_preds"
   ]
  },
  {
   "cell_type": "code",
   "execution_count": 182,
   "id": "6c531bd9",
   "metadata": {
    "ExecuteTime": {
     "end_time": "2023-04-18T21:45:18.726245Z",
     "start_time": "2023-04-18T21:45:17.914241Z"
    }
   },
   "outputs": [
    {
     "data": {
      "image/png": "[encoded data removed]",
      "text/plain": [
       "<Figure size 1000x700 with 1 Axes>"
      ]
     },
     "metadata": {},
     "output_type": "display_data"
    }
   ],
   "source": [
    "plot_predictions(predictions=y_preds)"
   ]
  },
  {
   "cell_type": "code",
   "execution_count": 183,
   "id": "f7f7893e",
   "metadata": {
    "ExecuteTime": {
     "end_time": "2023-04-18T21:45:25.270879Z",
     "start_time": "2023-04-18T21:45:24.589320Z"
    }
   },
   "outputs": [
    {
     "data": {
      "image/png": "[encoded data removed]",
      "text/plain": [
       "<Figure size 640x480 with 1 Axes>"
      ]
     },
     "metadata": {},
     "output_type": "display_data"
    }
   ],
   "source": [
    "# Plot the loss curves\n",
    "plt.plot(epoch_count, train_loss_values, label=\"Train loss\")\n",
    "plt.plot(epoch_count, test_loss_values, label=\"Test loss\")\n",
    "plt.title(\"Training and test loss curves\")\n",
    "plt.ylabel(\"Loss\")\n",
    "plt.xlabel(\"Epochs\")\n",
    "plt.legend();"
   ]
  },
  {
   "cell_type": "code",
   "execution_count": 184,
   "id": "eea74763",
   "metadata": {
    "ExecuteTime": {
     "end_time": "2023-04-18T21:45:26.027411Z",
     "start_time": "2023-04-18T21:45:26.012434Z"
    }
   },
   "outputs": [
    {
     "name": "stdout",
     "output_type": "stream",
     "text": [
      "Saving model to models\\01_pytorch_model\n"
     ]
    }
   ],
   "source": [
    "from pathlib import Path\n",
    "\n",
    "# 1. Create models directory \n",
    "MODEL_PATH = Path(\"models\")\n",
    "MODEL_PATH.mkdir(parents = True,exist_ok = True)\n",
    "# 2. Create model save path \n",
    "MODEL_NAME = \"01_pytorch_model\"\n",
    "MODEL_SAVE_PATH = MODEL_PATH / MODEL_NAME \n",
    "# 3. Save the model state dict\n",
    "print(f\"Saving model to {MODEL_SAVE_PATH}\")\n",
    "torch.save(obj = model_2.state_dict(),f = MODEL_SAVE_PATH)"
   ]
  },
  {
   "cell_type": "code",
   "execution_count": 185,
   "id": "4ea2b350",
   "metadata": {
    "ExecuteTime": {
     "end_time": "2023-04-18T21:45:26.878421Z",
     "start_time": "2023-04-18T21:45:26.849658Z"
    }
   },
   "outputs": [
    {
     "data": {
      "text/plain": [
       "LinearRegressionModel()"
      ]
     },
     "execution_count": 185,
     "metadata": {},
     "output_type": "execute_result"
    }
   ],
   "source": [
    "# Create new instance of model and load saved state dict (make sure to put it on the target device)\n",
    "loaded_model = LinearRegressionModel()\n",
    "loaded_model.load_state_dict(torch.load(f = MODEL_SAVE_PATH))\n",
    "loaded_model.to(device)"
   ]
  },
  {
   "cell_type": "code",
   "execution_count": 186,
   "id": "04cc8274",
   "metadata": {
    "ExecuteTime": {
     "end_time": "2023-04-18T21:45:27.336534Z",
     "start_time": "2023-04-18T21:45:27.315692Z"
    }
   },
   "outputs": [
    {
     "data": {
      "text/plain": [
       "tensor([[True],\n",
       "        [True],\n",
       "        [True],\n",
       "        [True],\n",
       "        [True],\n",
       "        [True],\n",
       "        [True],\n",
       "        [True],\n",
       "        [True],\n",
       "        [True],\n",
       "        [True],\n",
       "        [True],\n",
       "        [True],\n",
       "        [True],\n",
       "        [True],\n",
       "        [True],\n",
       "        [True],\n",
       "        [True],\n",
       "        [True],\n",
       "        [True]])"
      ]
     },
     "execution_count": 186,
     "metadata": {},
     "output_type": "execute_result"
    }
   ],
   "source": [
    "\n",
    "# Make predictions with loaded model and compare them to the previous\n",
    "y_preds_new = loaded_model(X_test)\n",
    "y_preds == y_preds_new\n",
    "     "
   ]
  },
  {
   "cell_type": "code",
   "execution_count": 187,
   "id": "348bdf2d",
   "metadata": {
    "ExecuteTime": {
     "end_time": "2023-04-18T21:45:27.709933Z",
     "start_time": "2023-04-18T21:45:27.683373Z"
    }
   },
   "outputs": [
    {
     "data": {
      "text/plain": [
       "OrderedDict([('weight', tensor([0.3067])), ('bias', tensor([0.9011]))])"
      ]
     },
     "execution_count": 187,
     "metadata": {},
     "output_type": "execute_result"
    }
   ],
   "source": [
    "loaded_model.state_dict()\n"
   ]
  },
  {
   "cell_type": "code",
   "execution_count": null,
   "id": "01881627",
   "metadata": {},
   "outputs": [],
   "source": []
  },
  {
   "cell_type": "code",
   "execution_count": null,
   "id": "49a86a9a",
   "metadata": {},
   "outputs": [],
   "source": []
  }
 ],
 "metadata": {
  "kernelspec": {
   "display_name": "Python 3 (ipykernel)",
   "language": "python",
   "name": "python3"
  },
  "language_info": {
   "codemirror_mode": {
    "name": "ipython",
    "version": 3
   },
   "file_extension": ".py",
   "mimetype": "text/x-python",
   "name": "python",
   "nbconvert_exporter": "python",
   "pygments_lexer": "ipython3",
   "version": "3.8.16"
  },
  "toc": {
   "base_numbering": 1,
   "nav_menu": {},
   "number_sections": true,
   "sideBar": true,
   "skip_h1_title": false,
   "title_cell": "Table of Contents",
   "title_sidebar": "Contents",
   "toc_cell": false,
   "toc_position": {},
   "toc_section_display": true,
   "toc_window_display": false
  }
 },
 "nbformat": 4,
 "nbformat_minor": 5
}
